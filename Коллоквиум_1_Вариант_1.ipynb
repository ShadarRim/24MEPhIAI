{
  "nbformat": 4,
  "nbformat_minor": 0,
  "metadata": {
    "colab": {
      "provenance": []
    },
    "kernelspec": {
      "name": "python3",
      "display_name": "Python 3"
    },
    "language_info": {
      "name": "python"
    }
  },
  "cells": [
    {
      "cell_type": "markdown",
      "source": [
        "## Списки"
      ],
      "metadata": {
        "id": "Yzk_yB7pbSMF"
      }
    },
    {
      "cell_type": "markdown",
      "source": [
        "Вам дан список. Создайте новый список, в котором порядок следования элементов будет обратным относительно исходного списка. "
      ],
      "metadata": {
        "id": "DCBX5mGMbYKO"
      }
    },
    {
      "cell_type": "code",
      "source": [
        "# ваше решение"
      ],
      "metadata": {
        "id": "EJPTuUJAbVHi"
      },
      "execution_count": null,
      "outputs": []
    },
    {
      "cell_type": "markdown",
      "source": [
        "Вам дан список. Создайте новый список, в котором будут присутствовать только чётные элементы исходного списка."
      ],
      "metadata": {
        "id": "uBVE7ILhbdYj"
      }
    },
    {
      "cell_type": "code",
      "source": [
        "# ваше решение"
      ],
      "metadata": {
        "id": "8bgHZzbobdjm"
      },
      "execution_count": null,
      "outputs": []
    },
    {
      "cell_type": "markdown",
      "source": [
        "## Генераторы"
      ],
      "metadata": {
        "id": "Gl1KfvjTbiA_"
      }
    },
    {
      "cell_type": "markdown",
      "source": [
        "Вам дан список. Создайте новый список, который удвоит каждый элемент исходного списка."
      ],
      "metadata": {
        "id": "VwS1f2I_bkbw"
      }
    },
    {
      "cell_type": "code",
      "source": [
        "# ваше решение"
      ],
      "metadata": {
        "id": "Med_JeSDbnYD"
      },
      "execution_count": null,
      "outputs": []
    },
    {
      "cell_type": "markdown",
      "source": [
        "Вам дан список. Создайте новый список, который умножит увеличит на треть элемент исходного списка."
      ],
      "metadata": {
        "id": "rhEKi88SborL"
      }
    },
    {
      "cell_type": "code",
      "source": [
        "# ваше решение"
      ],
      "metadata": {
        "id": "oA0hEJBibrFi"
      },
      "execution_count": null,
      "outputs": []
    },
    {
      "cell_type": "markdown",
      "source": [
        "## Встроенные функции"
      ],
      "metadata": {
        "id": "R3CZD0rPbsQ1"
      }
    },
    {
      "cell_type": "markdown",
      "source": [
        "Вам дана строка. Выведите ascii-код максимального элемента в строке. "
      ],
      "metadata": {
        "id": "WYWx-Y2xbvKj"
      }
    },
    {
      "cell_type": "code",
      "source": [
        "# ваше решение"
      ],
      "metadata": {
        "id": "OSEB4nUcbxu3"
      },
      "execution_count": null,
      "outputs": []
    },
    {
      "cell_type": "markdown",
      "source": [
        "Вам дана строка. Преобразуйте её в кортежи, состоящие из пары – порядковый номер элемента строки, ascii-код элемента."
      ],
      "metadata": {
        "id": "nK7ZcqS-byRF"
      }
    },
    {
      "cell_type": "code",
      "source": [
        "# ваше решение"
      ],
      "metadata": {
        "id": "H13zQg2_b1be"
      },
      "execution_count": null,
      "outputs": []
    },
    {
      "cell_type": "markdown",
      "source": [
        "## NumPy"
      ],
      "metadata": {
        "id": "0k9-AEnkb5r0"
      }
    },
    {
      "cell_type": "markdown",
      "source": [
        "Создайте многомерный массив, посчитайте суммы элементов по различным осям."
      ],
      "metadata": {
        "id": "UmlNzlQsb8NF"
      }
    },
    {
      "cell_type": "code",
      "source": [
        "# ваше решение"
      ],
      "metadata": {
        "id": "4gAPKfIVb_wz"
      },
      "execution_count": null,
      "outputs": []
    },
    {
      "cell_type": "markdown",
      "source": [
        "Дан массив A (numpy.array()), заполненный 1.\n",
        "Дан массив I (numpy.array()) индексов.\n",
        "\n",
        "Прибавьте к каждому значению массиву A по массиву индексов +1."
      ],
      "metadata": {
        "id": "zJXbGiA_cIpW"
      }
    },
    {
      "cell_type": "code",
      "source": [
        "import numpy as np\n",
        "\n",
        "n = 10\n",
        "k = 12\n",
        "A = np.ones(n)\n",
        "I = np.random.randint(0,len(Z),k)\n",
        "\n",
        "# ваше решение"
      ],
      "metadata": {
        "id": "1riZrqRnca01"
      },
      "execution_count": null,
      "outputs": []
    },
    {
      "cell_type": "markdown",
      "source": [
        "## Pandas"
      ],
      "metadata": {
        "id": "3lVqgJCMSho-"
      }
    },
    {
      "cell_type": "markdown",
      "source": [
        "https://www.kaggle.com/datasets/vinesmsuic/star-categorization-giants-and-dwarfs"
      ],
      "metadata": {
        "id": "qCt5tcUZZrnx"
      }
    },
    {
      "cell_type": "markdown",
      "source": [
        "- Какие типы данных присутствуют в датасете?\n",
        "- Есть ли в датасете пропущенные значения? Если да, то сколько и где?\n",
        "- Постройте гистаграмму переменной `Target`.\n",
        "- Постройте heatmap для матрицы корреляции переменных в датасете.\n",
        "- Постройте pairplot для всех переменных\n",
        "- Постройте boxplot для всех переменных и выведете объекты которые являются выбросами (строки из датафрейма).\n",
        "- Посчитайте различные статестические показатели (среднее, медиана, максимум, минимум) для различных классов *(т.е. отдельно какие показатели у класса 0, какие у класса 1)*.\n",
        "- Проанализируйте колонку `SpType`. Подсчитаете количество звёзд относящихся к различным классам.\n",
        "`SpType` - спектральный класс звезды согласно классификации Моргана-Кинана."
      ],
      "metadata": {
        "id": "KUI17XWsSqLF"
      }
    }
  ]
}
{
  "cells": [
    {
      "cell_type": "markdown",
      "metadata": {
        "id": "s9VCwFKEXU5l"
      },
      "source": [
        "# Элементы теории вероятности и математической статистики\n",
        "\n",
        "В рамках этой котороткой лекции не рассматриваются глубокие математические основы курса теорвера и матстата. Однако, приводится ряд примеров и определений, необходимых для возможности вести вдальшейнем диалог о машинном обучении.\n"
      ]
    },
    {
      "cell_type": "markdown",
      "metadata": {
        "id": "cm5NtJ9kPzeP"
      },
      "source": [
        "## О чём вообще речь?\n",
        "\n",
        "**Случайное событие** — то, которое при определенных условиях может произойти или нет.\n",
        "\n",
        "Примеры случайного события:\n",
        "1. При броске двух игральных костей на одной выпало число 1, а на другой — 2.\n",
        "2. Клиент банка не вернул кредит.\n",
        "3. Вы сдали ЕГЭ на 100 баллов.\n",
        "4. Монету подбросили сто раз, орел выпал в 55 случаях. \n",
        "\n",
        "Событие можно называть **достоверным**, если в результате испытания оно обязательно произойдет.\n",
        "\n",
        "**Невозможное** событие не произойдет никогда.\n",
        "\n",
        "Примеры достоверного события:\n",
        "1. На игральной кости выпало число, не превышающее 6.\n",
        "2. Подбросили монету, и выпал либо орел, либо решка.\n",
        "3. Вы сдали ЕГЭ не меньше, чем на 0 баллов.\n",
        "\n",
        "Примеры невозможного события:\n",
        "1. Две игральные кости бросили один раз, и сумма выпавших чисел составила 15.\n",
        "2. Монету подбросили стократно, и решка выпала 55 раз, а орел — 56.\n",
        "3. Вы сдали ЕГЭ по математике на 101 балл."
      ]
    },
    {
      "cell_type": "markdown",
      "metadata": {
        "id": "VkZVC7pkTaEF"
      },
      "source": [
        "## Ключевые параметры\n",
        "\n"
      ]
    },
    {
      "cell_type": "markdown",
      "metadata": {
        "id": "jnEcgxLSX-fj"
      },
      "source": [
        "### Математическое ожидание \n",
        "\n",
        "Взвешанное по вероятности появления значение случайной величины. \n",
        "\n",
        "$E[X] = Σ_i{p_i*x_i}$, где\n",
        "\n",
        "$p_i$ - вроятность появления i-ого события \\\\\n",
        "$x_i$ - значение случайной величины на i-ом эксперименте"
      ]
    },
    {
      "cell_type": "code",
      "execution_count": null,
      "metadata": {
        "colab": {
          "base_uri": "https://localhost:8080/"
        },
        "id": "JLEwY1cwUzel",
        "outputId": "c002cf72-6224-428b-be0e-3127abf77be2"
      },
      "outputs": [
        {
          "output_type": "execute_result",
          "data": {
            "text/plain": [
              "[1, 1, 1, 2, 5, 6, 3, 4]"
            ]
          },
          "metadata": {},
          "execution_count": 18
        }
      ],
      "source": [
        "import numpy as np\n",
        "n = 10\n",
        "\n",
        "\n",
        "b = [1, 1, 1, 2, 5, 6, 3, 4]\n",
        "b"
      ]
    },
    {
      "cell_type": "code",
      "execution_count": null,
      "metadata": {
        "colab": {
          "base_uri": "https://localhost:8080/"
        },
        "id": "NLcnsZpiWFV1",
        "outputId": "94eb29df-3d17-4230-8f5d-56610b9e2ff7"
      },
      "outputs": [
        {
          "output_type": "stream",
          "name": "stdout",
          "text": [
            "2.875\n"
          ]
        }
      ],
      "source": [
        "p1 = b.count(1)\n",
        "p2 = b.count(2)\n",
        "p3 = b.count(3)\n",
        "p4 = b.count(4)\n",
        "p5 = b.count(5)\n",
        "p6 = b.count(6)\n",
        "\n",
        "m = 1 * p1 + 2 * p2 + 3 * p3 + 4 * p4 + 5 * p5 + 6 * p6\n",
        "print(m / len(b))"
      ]
    },
    {
      "cell_type": "code",
      "execution_count": null,
      "metadata": {
        "id": "51wtz-gDWNYo",
        "colab": {
          "base_uri": "https://localhost:8080/"
        },
        "outputId": "9f5525c2-b0a7-412a-8c9e-c0f822279973"
      },
      "outputs": [
        {
          "output_type": "execute_result",
          "data": {
            "text/plain": [
              "2.875"
            ]
          },
          "metadata": {},
          "execution_count": 20
        }
      ],
      "source": [
        "m2 = sum(b)/len(b)\n",
        "m2\n"
      ]
    },
    {
      "cell_type": "markdown",
      "metadata": {
        "id": "2HfRDZdBWgSz"
      },
      "source": [
        "Однако, вы когда-нибудь видели кости, среднее значение выпавших граней для которых не равно 3.5?"
      ]
    },
    {
      "cell_type": "markdown",
      "metadata": {
        "id": "zAJc33hmXHNc"
      },
      "source": [
        "###Дисперсия\n",
        "\n",
        "Дисперсия случайной величины — мера разброса значений случайной величины относительно её математического ожидания.\n",
        "\n",
        "$ D[X] = E[(X-E[X])^2]$"
      ]
    },
    {
      "cell_type": "code",
      "execution_count": null,
      "metadata": {
        "id": "EExskYwzYGWf",
        "colab": {
          "base_uri": "https://localhost:8080/"
        },
        "outputId": "8fd02548-4956-42a7-a347-6e0dd1e9aeb6"
      },
      "outputs": [
        {
          "output_type": "execute_result",
          "data": {
            "text/plain": [
              "array([-1, -1, -1,  0,  3,  4,  1,  2])"
            ]
          },
          "metadata": {},
          "execution_count": 21
        }
      ],
      "source": [
        "a = np.array(b) - int(m2)\n",
        "a"
      ]
    },
    {
      "cell_type": "code",
      "execution_count": null,
      "metadata": {
        "id": "pPcUT1zkX4YZ",
        "colab": {
          "base_uri": "https://localhost:8080/"
        },
        "outputId": "3915acd6-6bf4-4135-b9d0-485e4279263c"
      },
      "outputs": [
        {
          "output_type": "execute_result",
          "data": {
            "text/plain": [
              "0.875"
            ]
          },
          "metadata": {},
          "execution_count": 22
        }
      ],
      "source": [
        "D = sum(a)/len(b)\n",
        "D"
      ]
    },
    {
      "cell_type": "code",
      "execution_count": null,
      "metadata": {
        "id": "UsQpB109Yqam",
        "colab": {
          "base_uri": "https://localhost:8080/"
        },
        "outputId": "91d44183-c4de-45f8-bed4-1b3434468f57"
      },
      "outputs": [
        {
          "output_type": "execute_result",
          "data": {
            "text/plain": [
              "array([ 1,  1,  1,  0,  9, 16,  1,  4])"
            ]
          },
          "metadata": {},
          "execution_count": 23
        }
      ],
      "source": [
        "(a)**2"
      ]
    },
    {
      "cell_type": "code",
      "execution_count": null,
      "metadata": {
        "id": "sZUcV0mLYdQv",
        "colab": {
          "base_uri": "https://localhost:8080/"
        },
        "outputId": "8df8c3a4-bfef-445c-c8d4-870f00161d1b"
      },
      "outputs": [
        {
          "output_type": "execute_result",
          "data": {
            "text/plain": [
              "4.125"
            ]
          },
          "metadata": {},
          "execution_count": 24
        }
      ],
      "source": [
        "D = sum((a)**2)/len(b)\n",
        "D"
      ]
    },
    {
      "cell_type": "markdown",
      "metadata": {
        "id": "7Hhfbpu0-IfQ"
      },
      "source": [
        "\n",
        "\n",
        "```\n",
        "# Выбран кодовый формат\n",
        "```\n",
        "\n",
        "Дисперсию невозможно приложить к величинам реального мира, потому для величин реального мира принята использовать стандартное отклонение, то есть корень из дисперсии, делённый на число измерений в выборке (если точнее, на число измерений в выборке -1)."
      ]
    },
    {
      "cell_type": "code",
      "execution_count": null,
      "metadata": {
        "id": "_r-BjuL5_n6T",
        "colab": {
          "base_uri": "https://localhost:8080/"
        },
        "outputId": "c3cce342-ee09-4c21-a2aa-86a9a8ff1223"
      },
      "outputs": [
        {
          "output_type": "execute_result",
          "data": {
            "text/plain": [
              "2.1712405933672376"
            ]
          },
          "metadata": {},
          "execution_count": 27
        }
      ],
      "source": [
        "b = ([1, 1, 1, 2, 5, 6, 3, 4])\n",
        "D = 4.125\n",
        "sd = (D*len(b)/(len(b)-1))**(1/2)\n",
        "sd"
      ]
    },
    {
      "cell_type": "markdown",
      "metadata": {
        "id": "eYkJdL9qZA3S"
      },
      "source": [
        "### Мода и медиана\n",
        "\n",
        "Мода — значение во множестве наблюдений, которое встречается наиболее часто. \\\\\n",
        "Медиана - значение, которое в упорядоченной выборке находится ровно посредение. \\\\"
      ]
    },
    {
      "cell_type": "code",
      "execution_count": null,
      "metadata": {
        "colab": {
          "base_uri": "https://localhost:8080/"
        },
        "id": "lHrS9r7tY0xw",
        "outputId": "842c790f-0649-4031-ca43-9703e85d3489"
      },
      "outputs": [
        {
          "output_type": "execute_result",
          "data": {
            "text/plain": [
              "[1, 1, 1, 2, 3, 4, 5, 6]"
            ]
          },
          "metadata": {},
          "execution_count": 28
        }
      ],
      "source": [
        "sorted(b)"
      ]
    },
    {
      "cell_type": "markdown",
      "metadata": {
        "id": "QSmB5VVvvb1B"
      },
      "source": [
        "### Медиана или математическое ожидание?\n",
        "\n",
        "Есть известная метафора \"средняя температура по больнице\". Она намекает на то, что считать среднее как минимум бесполезно, без опредеделения краевых значений функций. Наиболее часто проблема расчёта \"среднего\" встречается при расчёте заработной платы."
      ]
    },
    {
      "cell_type": "code",
      "execution_count": null,
      "metadata": {
        "id": "vsNPM3MPZAe1",
        "colab": {
          "base_uri": "https://localhost:8080/"
        },
        "outputId": "99abfd43-96ee-46a3-bada-e75d05f54811"
      },
      "outputs": [
        {
          "output_type": "stream",
          "name": "stdout",
          "text": [
            "[   5    5    5    5    5    5    5 1000]\n",
            "Средняя   заработная плата в этом случае тыс. р.: 129.375\n",
            "Медианная заработная плата в этом случае тыс. р: 5.0\n"
          ]
        }
      ],
      "source": [
        "c = np.array([5, 5, 5, 5, 5, 5, 5, 1000])\n",
        "print(c)\n",
        "print(\"Средняя   заработная плата в этом случае тыс. р.:\", c.mean())\n",
        "print(\"Медианная заработная плата в этом случае тыс. р:\", np.median(c))"
      ]
    },
    {
      "cell_type": "markdown",
      "metadata": {
        "id": "_qAjSnTCzO_r"
      },
      "source": [
        "## Корелляция\n",
        "\n",
        "Довольно часто встаёт задачу оценить меру статистической связанности двух величин между собой. Для решения этой задачи существует большое число различных инструментов, однако наиболее частым из них выступает анализ \"корелляции\". Это настолько употребимое в обиходе слово, что принято считать, что корелляция способна математически оценить любую связь двух величин. Однако, это не так.\n",
        "\n",
        "Корелляция Пирсона считается следующим образом: $r_{xy} = \\frac{Σ(X-E[X])(Y-E[Y])}{\\sqrt{Σ(X-E[X])^2 Σ(Y-E[Y])^2}} $\n",
        "\n",
        "Выражение $Σ(X-E[X])(Y-E[Y])$ - называется ковариация. \n",
        "\n",
        "Корелляция - мера **линейной** связи между двумя случайными величинами. \n",
        "\n"
      ]
    },
    {
      "cell_type": "code",
      "execution_count": null,
      "metadata": {
        "colab": {
          "base_uri": "https://localhost:8080/",
          "height": 265
        },
        "id": "G9zXqtVQ5hXm",
        "outputId": "7f3cee2d-aa2a-4a40-e47f-1863742f8c85"
      },
      "outputs": [
        {
          "output_type": "display_data",
          "data": {
            "text/plain": [
              "<Figure size 432x288 with 1 Axes>"
            ],
            "image/png": "[encoded data removed]"
          },
          "metadata": {
            "needs_background": "light"
          }
        }
      ],
      "source": [
        "import matplotlib.pyplot as plt\n",
        "\n",
        "d = np.array([9, 4, 1, 0, 1, 4, 9])\n",
        "e = np.array([-3, -2, -1, 0, 1, 2, 3])\n",
        "x = np.array([-3, -2, -1, 0, 1, 2, 3])\n",
        "\n",
        "plt.plot(x, d, x, e)\n",
        "plt.show()"
      ]
    },
    {
      "cell_type": "code",
      "execution_count": null,
      "metadata": {
        "colab": {
          "base_uri": "https://localhost:8080/"
        },
        "id": "KmaTjMvx5nCD",
        "outputId": "502e7a3c-4fd7-4631-859c-0f3706775129"
      },
      "outputs": [
        {
          "output_type": "stream",
          "name": "stdout",
          "text": [
            "[[1. 0.]\n",
            " [0. 1.]]\n"
          ]
        }
      ],
      "source": [
        "print(np.corrcoef(d,e))"
      ]
    },
    {
      "cell_type": "markdown",
      "metadata": {
        "id": "Xm_Na1s06tFs"
      },
      "source": [
        "\n",
        "\n",
        "```\n",
        "# Выбран кодовый формат\n",
        "```\n",
        "\n",
        "Как интерпретировать полученный результат? \\\\\n",
        "[[1. 0.] \\\\\n",
        " [0. 1.]]\n",
        "\n",
        "Это значения все возможных вариантов расчёта корелляций. \\\\\n",
        "[[$r_{xx}$, $r_{xy}$ ] \\\\\n",
        "[$r_{yx}$, $r_{yy}$ ]]\n",
        "\n",
        "Мы видим, что корелляция между e и d отсутствуют, однако очевидно, что: \\\\\n",
        "$d = e^2$.\n",
        "\n",
        "То есть связь есть."
      ]
    },
    {
      "cell_type": "markdown",
      "metadata": {
        "id": "YxyeNADV4MC4"
      },
      "source": [
        "Но приведенный выше пример - это не самая большая беда при использовании корелляции. Гораздо хуже - нахождение ложных зависимостей, там где их нет. \n",
        "\n",
        "![Николас Кейдж и утопленники](https://drive.google.com/uc?id=1nesgjIhCc1r8PCuoH5wMcmsBULCiZLNv) \n",
        "\n",
        "![Крупный рогатый скот в Смоленски и торголовля в Перми](https://drive.google.com/uc?id=170ylluFiWMpm9VPxHMkJyDMi58Kv4f7f) \n"
      ]
    },
    {
      "cell_type": "markdown",
      "metadata": {
        "id": "c182azqlgLQO"
      },
      "source": [
        "## Нормальное распределение\n",
        "\n",
        "Мы не касаемся в данном материале детального разбора распределений вероятности. Однако покажем, что называется \"нормальным\" распределением вероятности.\n",
        "\n",
        "**Нормальное распределение**, также называемое распределением Гаусса — распределение вероятностей, которое в одномерном случае задаётся функцией плотности вероятности, совпадающей с функцией Гаусса.\n",
        "\n",
        "Формула, задающая нормальное распределение вероятности: \n",
        "$ f(x) = \\frac{1}{\\sigma\\sqrt{2\\pi}}e^\\left(-\\frac{(x-\\mu)^2}{2\\sigma^2}\\right)$\n",
        "\n",
        "Функция распределения вероятности при визуализации имеет известный вид \"купола\".\n",
        "\n",
        "![Николас Кейдж и утопленники](https://drive.google.com/uc?id=1KccjBHf5vSEJteYWxXd3Bs-PW3HRWc4B) \n",
        "\n",
        "Нормальное распределение имеет огромное значение в математической статистики потому, что показано, что сумма большого числа случайных слабозависящих друг от друга и имеющих одинаковый масштаб величин будет нормально распределена. \n",
        "\n",
        "Эта \"центральная предельная теорема\" обычно сводится в обиходе к тому, что всё в мире распределено нормально. **Это не так**. \n",
        "\n",
        "Однако, так как обычно в различных используемых технологиях машинного обучения, для работы с моделями применяется большое число данных, можно предполагать, что они распределены нормально. Более того, работа с моделями машинног обучения требует нормально распределённх данных. \n"
      ]
    },
    {
      "cell_type": "markdown",
      "metadata": {
        "id": "cTn_h1f5SPBM"
      },
      "source": [
        "# Практическая задача (для развлечения)\n",
        "\n",
        "По мотивам: https://habr.com/ru/company/otus/blog/665434/\n"
      ]
    },
    {
      "cell_type": "markdown",
      "metadata": {
        "id": "vev39QINmm76"
      },
      "source": [
        "## Постановка задачи\n",
        "\n",
        "Школьники  опаздывают на занятия. На сколько это критично? Каждое пропущенное занятие - потеря для образования конкретного человека. А статистически? \n",
        "\n",
        "Чтобы это понять мы должны взять и сравнить между собой двух школьников. Один школьник (Пафнутий) - посещает все занятия и ему хорошо. Другой школьник (Игнатий) посещает не все занятия из-за опозданий. Статистически наш вопрос будет звучать так: отличается ли школьник Игнатий от школьника Пафнутия чем-то с точки зрения явки? "
      ]
    },
    {
      "cell_type": "markdown",
      "metadata": {
        "id": "fAomuNPwyTpA"
      },
      "source": [
        "## Решение - ошибки первого рода\n",
        "\n",
        "Для этого достаточно взять и проверить соответствие двух значений по критерию хи-квардарт. Мы не будем вдаваться в нюансы того, что это за критерий, однако отметим, что значению pval - определяет то, есть ли у нас ошибка первого рода или нет. \n",
        "\n",
        "Чтобы результат был удовлетворительным, нам необходимо чтобы pvalue была, обычно, больше 0.05. Это означает, что с вероятность 95% разницы между Игнатием и Пафнутием нет. "
      ]
    },
    {
      "cell_type": "code",
      "execution_count": null,
      "metadata": {
        "colab": {
          "base_uri": "https://localhost:8080/"
        },
        "id": "XFwZyH_FSYsL",
        "outputId": "c9a8fca7-a6f3-4083-c56f-d8f6622762d8"
      },
      "outputs": [
        {
          "output_type": "execute_result",
          "data": {
            "text/plain": [
              "0.0819797030749689"
            ]
          },
          "metadata": {},
          "execution_count": 37
        }
      ],
      "source": [
        "import statsmodels.stats.proportion as proportion\n",
        "chi2stat, pval, table = proportion.proportions_chisquare([177,180],180)\n",
        "pval"
      ]
    },
    {
      "cell_type": "code",
      "execution_count": null,
      "metadata": {
        "colab": {
          "base_uri": "https://localhost:8080/"
        },
        "id": "F9bv03mWS1Jv",
        "outputId": "6fcbe3f7-7449-445a-fd88-4076e1b6b5b8"
      },
      "outputs": [
        {
          "output_type": "execute_result",
          "data": {
            "text/plain": [
              "0.04430385333196612"
            ]
          },
          "metadata": {},
          "execution_count": 38
        }
      ],
      "source": [
        "chi2stat, pval, table = proportion.proportions_chisquare([176,180],180)\n",
        "pval"
      ]
    },
    {
      "cell_type": "markdown",
      "metadata": {
        "id": "JV8YNawmzgKo"
      },
      "source": [
        "Таким образом мы видим, что Игнатий может непосетить три занятия из-за опозданий. Статистической разницы с Пафнутием при этом не будет. \n",
        "\n",
        "Pvalue показывает также вероятность ошибок первого рода - то есть вероятность того, что ложный объект (гипотезу) засчитают за истинный объект (гипотезу).\n",
        "\n",
        "Однако проблема также может крыться и в ошибках второго рода: то есть в ошибках, когда истинный объект считают ложным. Проблема ошибок второго рода кроется в числе экспериментов.\n",
        "\n",
        "То есть должно быть достаточно экспериментов, чтобы разница была заметна. Невдаваясь в математические подробности можно рассчитать эту разницу для Игнатия и Пафнутия."
      ]
    },
    {
      "cell_type": "markdown",
      "metadata": {
        "id": "T4DO4MF46Uoo"
      },
      "source": [
        "## Решение - ошибка второго рода\n",
        "\n",
        "Полученное значение показывает то, что на выборке в 180 дней вы лишь с 5% вероятность отличите Игнатия от Пафнутия. Нам же необходимо добиться минимум 80%, а то и больше. "
      ]
    },
    {
      "cell_type": "code",
      "execution_count": null,
      "metadata": {
        "id": "kQpN1ts_TFXZ"
      },
      "outputs": [],
      "source": [
        "import statsmodels.stats.power as smp\n",
        "\n",
        "chipo = smp.GofChisquarePower()"
      ]
    },
    {
      "cell_type": "code",
      "execution_count": null,
      "metadata": {
        "colab": {
          "base_uri": "https://localhost:8080/"
        },
        "id": "J9f-iWO2T5Mt",
        "outputId": "c5fd6e33-f13a-4805-92d0-87f116949db3"
      },
      "outputs": [
        {
          "output_type": "execute_result",
          "data": {
            "text/plain": [
              "0.8034196059311782"
            ]
          },
          "metadata": {},
          "execution_count": 40
        }
      ],
      "source": [
        "chipo.solve_power(effect_size=np.sqrt(((146/180 - 180/180)**2)/(146/180)), nobs = 180, alpha = 0.05, power = None)"
      ]
    },
    {
      "cell_type": "code",
      "execution_count": null,
      "metadata": {
        "colab": {
          "base_uri": "https://localhost:8080/"
        },
        "id": "a7FsROSz6fmm",
        "outputId": "036c9d87-cf41-4374-c6be-c389d1adfac5"
      },
      "outputs": [
        {
          "output_type": "execute_result",
          "data": {
            "text/plain": [
              "0.9567148835295268"
            ]
          },
          "metadata": {},
          "execution_count": 41
        }
      ],
      "source": [
        "chipo.solve_power(effect_size=np.sqrt(((137/180 - 180/180)**2)/(137/180)), nobs = 180, alpha = 0.05, power = None)"
      ]
    },
    {
      "cell_type": "markdown",
      "metadata": {
        "id": "ayI3aMCe6kAI"
      },
      "source": [
        "То есть чтобы отличить с 95% вероятностью Игнатия от Пафнутия с вероятность ошибки первого рода 5% нужно, чтобы Игнатий опоздал в 43 случаях. С вероятность 80% - в 34 случаях.\n",
        "\n",
        "Такое применение математической статистики называется A/B тестированием. Им занимаются все аналитики данных. "
      ]
    },
    {
      "cell_type": "markdown",
      "metadata": {
        "id": "G50SL-HC7HlO"
      },
      "source": [
        "## Дисклеймер\n",
        "\n",
        "Примение данных выкладок на практике при пропуске занятий или опоздании - строго за счёт ученика!"
      ]
    }
  ],
  "metadata": {
    "colab": {
      "provenance": []
    },
    "kernelspec": {
      "display_name": "Python 3",
      "name": "python3"
    },
    "language_info": {
      "name": "python"
    }
  },
  "nbformat": 4,
  "nbformat_minor": 0
}
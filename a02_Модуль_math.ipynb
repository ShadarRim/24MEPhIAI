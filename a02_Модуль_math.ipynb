{
  "nbformat": 4,
  "nbformat_minor": 0,
  "metadata": {
    "colab": {
      "provenance": []
    },
    "kernelspec": {
      "name": "python3",
      "display_name": "Python 3"
    },
    "language_info": {
      "name": "python"
    }
  },
  "cells": [
    {
      "cell_type": "markdown",
      "source": [
        "Модули в Python могут быть изначально включены в устанавливаемый интерпретатор. В таком случае эти модули называются стандратным.\n",
        "\n",
        "`math` - стандартный математический модуль в Python. К сожалению этот модуль всё также плохо работает с типовыми проблемами хранения в памяти данных. О чём не стоит забывать. Не защищает от подоббного и модуль вычислений numpy.\n",
        "\n",
        "Для точных вычислений стоит использовать модуль `sympy`, но он находится за границей нашего курса."
      ],
      "metadata": {
        "id": "Hb4VsWsT2VeL"
      }
    },
    {
      "cell_type": "code",
      "execution_count": 1,
      "metadata": {
        "colab": {
          "base_uri": "https://localhost:8080/"
        },
        "id": "ct5dZpXn2Srk",
        "outputId": "ffbcff82-1362-40ea-ca72-4801373cb11a"
      },
      "outputs": [
        {
          "output_type": "execute_result",
          "data": {
            "text/plain": [
              "0.30000000000000004"
            ]
          },
          "metadata": {},
          "execution_count": 1
        }
      ],
      "source": [
        "0.1+0.1+0.1"
      ]
    },
    {
      "cell_type": "code",
      "source": [
        "import math\n",
        "\n",
        "math.fsum([0.1, 0.1, 0.1])"
      ],
      "metadata": {
        "colab": {
          "base_uri": "https://localhost:8080/"
        },
        "id": "pJooeS2D2qC2",
        "outputId": "29d4dafe-fc1c-4a62-fc01-d3c4f54ddb0e"
      },
      "execution_count": 3,
      "outputs": [
        {
          "output_type": "execute_result",
          "data": {
            "text/plain": [
              "0.30000000000000004"
            ]
          },
          "metadata": {},
          "execution_count": 3
        }
      ]
    },
    {
      "cell_type": "code",
      "source": [
        "import numpy as np\n",
        "\n",
        "np.sum([0.1, 0.1, 0.1])"
      ],
      "metadata": {
        "colab": {
          "base_uri": "https://localhost:8080/"
        },
        "id": "TncW35OM3bTu",
        "outputId": "8c437a95-71d0-47b2-c532-fe25d74738cb"
      },
      "execution_count": 4,
      "outputs": [
        {
          "output_type": "execute_result",
          "data": {
            "text/plain": [
              "0.30000000000000004"
            ]
          },
          "metadata": {},
          "execution_count": 4
        }
      ]
    },
    {
      "cell_type": "markdown",
      "source": [
        "Рассмотрим несколько различных примеров полезного функционала math."
      ],
      "metadata": {
        "id": "fIzNmgBp4CXd"
      }
    },
    {
      "cell_type": "code",
      "source": [
        "# комбинаторика\n",
        "\n",
        "# сколькими способами можно выбрать 3 объекта и 4\n",
        "\n",
        "print(math.comb(4, 3))\n",
        "\n",
        "# количество размещений\n",
        "\n",
        "print(math.perm(4, 3))"
      ],
      "metadata": {
        "colab": {
          "base_uri": "https://localhost:8080/"
        },
        "id": "9xdnukZn4fGY",
        "outputId": "34405620-7ee7-465a-9646-0aa96c836865"
      },
      "execution_count": 8,
      "outputs": [
        {
          "output_type": "stream",
          "name": "stdout",
          "text": [
            "4\n",
            "24\n"
          ]
        }
      ]
    },
    {
      "cell_type": "code",
      "source": [
        "# тригонометрия\n",
        "\n",
        "print(math.sin(math.pi/2))\n",
        "print(math.cos(math.pi/2))\n",
        "print(math.tan(math.pi/2))\n",
        "\n",
        "print(math.asin(1))\n",
        "print(math.acos(1))\n",
        "print(math.atan(1))"
      ],
      "metadata": {
        "colab": {
          "base_uri": "https://localhost:8080/"
        },
        "id": "0s-CCnez6RFh",
        "outputId": "c7b9a914-f947-481c-8df2-6a8134162b27"
      },
      "execution_count": 11,
      "outputs": [
        {
          "output_type": "stream",
          "name": "stdout",
          "text": [
            "1.0\n",
            "6.123233995736766e-17\n",
            "1.633123935319537e+16\n",
            "1.5707963267948966\n",
            "0.0\n",
            "0.7853981633974483\n"
          ]
        }
      ]
    },
    {
      "cell_type": "code",
      "source": [
        "# теория чисел\n",
        "\n",
        "print(math.gcd(120, 150, 180))\n",
        "\n",
        "print(math.lcm(10, 20, 30))"
      ],
      "metadata": {
        "colab": {
          "base_uri": "https://localhost:8080/"
        },
        "id": "-_PRAfDw8uhW",
        "outputId": "c28fd852-793d-42b4-ba5f-f5c4c504fa2a"
      },
      "execution_count": 13,
      "outputs": [
        {
          "output_type": "stream",
          "name": "stdout",
          "text": [
            "30\n",
            "60\n"
          ]
        }
      ]
    }
  ]
}
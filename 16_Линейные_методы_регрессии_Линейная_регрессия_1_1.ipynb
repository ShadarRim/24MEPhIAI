{
  "nbformat": 4,
  "nbformat_minor": 0,
  "metadata": {
    "colab": {
      "provenance": []
    },
    "kernelspec": {
      "name": "python3",
      "display_name": "Python 3"
    },
    "language_info": {
      "name": "python"
    }
  },
  "cells": [
    {
      "cell_type": "markdown",
      "source": [
        "# Регрессия"
      ],
      "metadata": {
        "id": "yrzP8u75VED4"
      }
    },
    {
      "cell_type": "markdown",
      "source": [
        "В случае задач машинного обучения с учителем существует какое-то количество размеченных данных, данных, для\n",
        "которых определен корректный ответ и корректное предсказание. Мы пытаемся обучить нашу модель на этих данных и потом сделать предсказание на новых данных, которых мы еще не видели.\n",
        "Далее когда поступают новые данные, не размеченные, наша обученная модель пытается предсказать для них ответ.\n",
        "\n",
        "В этом разделе мы посмотрим на одну из задач машинного обучения с учителем - это задача регрессии.\n",
        "\n",
        "**Задача регрессии** (прогнозирования) – построение модели, способной предсказывать численную величину на основе набора признаков объекта.\n",
        "\n",
        "**Регрессия. Постановка задачи.**\n",
        "\n",
        "Есть обучающая выборка, в которой представлены объекты в виде из признакового описания (вектор признаков) и значения целевой переменной (непрерывная переменная).\n",
        "\n",
        "Алгоритм регрессии дл каждого нового объекта (его признакового описания) прогнозирует значение целевой переменной."
      ],
      "metadata": {
        "id": "1y3azrBgVGfo"
      }
    },
    {
      "cell_type": "markdown",
      "source": [
        "**Примеры задач регресии:**\n",
        "- Оценка стоимости недвижимости: по характеристике\n",
        "района, экологической обстановке, транспортной\n",
        "связности оценить стоимость жилья\n",
        "- Прогноз свойств соединений: по параметрам\n",
        "химических элементов спрогнозировать температуру\n",
        "плавления, электропроводность, теплоемкость\n",
        "получаемого соединения\n",
        "- Медицина: по постоперационным показателям оценить\n",
        "время заживления органа\n",
        "- Кредитный скоринг: по анкете заемщика оценить\n",
        "величину кредитного лимита\n",
        "- Инженерное дело: по техническим характеристикам\n",
        "автомобиля и режиму езды спрогнозировать расход\n",
        "топлива"
      ],
      "metadata": {
        "id": "oNAp2NiYWoGs"
      }
    },
    {
      "cell_type": "markdown",
      "source": [
        "**Ответ в задачах регресии является числовым из непрерывного диапазона, в отличии от задач классификации, где ответ дискретный.**"
      ],
      "metadata": {
        "id": "L41gzq7UWvbS"
      }
    },
    {
      "cell_type": "markdown",
      "source": [
        "## Линейные методы регрессии"
      ],
      "metadata": {
        "id": "a8qgUCnBVGpw"
      }
    },
    {
      "cell_type": "markdown",
      "source": [],
      "metadata": {
        "id": "abMFHcaDVxQG"
      }
    },
    {
      "cell_type": "markdown",
      "source": [
        "### Линейная регрессия"
      ],
      "metadata": {
        "id": "zIfYHZkJVtqm"
      }
    },
    {
      "cell_type": "markdown",
      "source": [
        "**Линейная регрессия** - самый простой инструмент выявления зависимости между различными числовыми признакми. Часто линейную регрессию относят к методам машинного обучения, однако на самом деле - это не так. \n",
        "\n",
        "Восстановить линейную ргрессию - то есть линейную зависимость между различными числовыми данными - можно с помощью аналитического решения. \n",
        "\n",
        "Тем не менее, так как линейная ргрессия решает ту же задачу, что и машинное обучение - задачу восстановления зависимости между данными - для регрессии применяются те же термины и понятия, что и для машинного обучения. "
      ],
      "metadata": {
        "id": "8qXvS502Vxx0"
      }
    },
    {
      "cell_type": "markdown",
      "source": [
        "#### Базовые понятия, используемые в машинном обучении\n",
        "\n",
        "Центральным понятием машинного обучения является _обучающая выборка_. Это примеры, на основе которых планируется строить общую закономерность. Она обозначается $X$ и состоит из $l$ пар объектов $x_{i}$ и известных ответов $y_{i}$:\n",
        "\n",
        "$$X = (x_{i}, y_{i})^l_{i=1}.$$\n",
        "\n",
        "Функция, отображающая пространство объектов $\\mathbb{X}$ в пространство ответов $\\mathbb{Y}$, позволяющая делать предсказания, называется _алгоритмом_ или _моделью_ и обозначается $a(x)$. Она принимает на вход объект и выдает ответ.\n",
        "\n",
        "Отметим, что $ x_{i} = (x^{1}, x^{2}, ..., x^{d}) $. То есть каждый объект $x_{i}$ состоит из ряда различных значений. "
      ],
      "metadata": {
        "id": "G3iE4xl4W0c6"
      }
    },
    {
      "cell_type": "markdown",
      "source": [
        "Для начала введём проствую базовую линейную модель, записанную следующим образом:\n",
        "\n",
        "$$a(x) = w_{0} + w_{1}x^{1} + ... + w_{d}x^{d} = w_{0}+\\sum^{d}_{i=1}w_{i}x^{i}.$$\n",
        "\n",
        "Параметрами модели $a(x)$ являются веса $w_{i}$. Вес $w_{0}$ называется _свободным коэффициентом_, _сдвигом_ или _смещением_. Оптимизация модели заключается в подборе оптимальных значений весов. Сумму в формуле также можно описать как скалярное произведение вектора признаков $x=(x^{1},...,x^{d})$ на вектор весов $w=(w_{1},...,w_{d})$:\n",
        " \n",
        "$$a(x) = w_{0}+\\left \\langle w,x \\right \\rangle.$$\n",
        " \n",
        "Чтобы сделать модель однородной и упростить оптимизацию вводится фиктивный признак $x^{0}$ всегда равный единице. Таким образом: \n",
        "\n",
        "$$a(x) = \\left \\langle w,x \\right \\rangle = \\sum^{d}_{i=0}w_{i}x^{i} $$"
      ],
      "metadata": {
        "id": "_wxEHXMbXCan"
      }
    },
    {
      "cell_type": "markdown",
      "source": [
        "#### Функционал ошибки\n",
        "\n",
        "Для обучения модели и сравнения различных моделей между собой необходимо разработать математическую формулу и алгоритм расчёта ошибки модели. В рамках решения задачи оптимизации обычно ставится задача достижения минимального значения функционала ошибки. \n",
        "\n",
        "В качестве очевидного решения можно предложить такую формулу:\n",
        "$Q(a,y)=a(x)-y$. Однако, у неё есть принципиальная проблема: у такой функции не существует минимума. \n",
        "\n",
        "С учётом этого, логичным кажется решение использовать в качестве функции для расчёта ошибки модуль отклонения $Q(a,y)=|a(x)-y|$. Соответствующий функционал ошибки называется средним абсолютным отклонением (mean absolute error, MAE):\n",
        "\n",
        "$$Q(a,x) = MAE = \\frac{1}{l}\\sum^{l}_{i=1}|a(x_{i})-y_{i}|.$$\n",
        "\n",
        "Однако, мы уже разбирали, что функционал ошибки или функция потерь, должны быть дифференцируемы, а значит, необходимо предложить другой вариант базовой функции для расчёта ошибки: $Q(a,y)=(a(x)-y)^{2}$. Такая функция является гладкой и имеет производную в каждой точке, а ее минимум достигается при равенстве истинного ответа $y$ и прогноза $a(x)$.\n",
        "\n",
        "Основанный на этой функции функционал ошибки называется _среднеквадратичным отклонением_ (mean squared error, MSE):\n",
        "\n",
        "$$Q(a,x) = MSE = \\frac{1}{l}\\sum^{l}_{i=1}(a(x_{i})-y_{i})^{2}.$$"
      ],
      "metadata": {
        "id": "gENQMhksXFxv"
      }
    },
    {
      "cell_type": "markdown",
      "source": [
        "#### Вывод аналитической формулы для решения линейной регрессии \n",
        "\n",
        "Таким образом, задача расчёт оптимальных коэффициентов математически может быть записана следующим образом.\n",
        "\n",
        "$$Q(w,x) = \\frac{1}{l}\\sum^{l}_{i=1}(\\left \\langle w,x_{i} \\right \\rangle-y_{i})^{2} \\rightarrow \\underset{w}{\\text{min}}.$$\n",
        "\n",
        "Если вас смущает возникшая, казалось бы путаница, между различными записями, то целесообразно ввести матричную запись признаков:\n",
        "\n",
        "$$X = \\begin{pmatrix}\n",
        "x_{11} & ... & x_{1d}\\\\ \n",
        "... & ... & ...\\\\ \n",
        "x_{l1} & ... & x_{ld}\n",
        "\\end{pmatrix},$$\n",
        "\n",
        "$$y = \\begin{pmatrix}\n",
        "y_{1}\\\\ \n",
        "...\\\\ \n",
        "y_{l}\n",
        "\\end{pmatrix}.$$\n",
        "\n",
        "Таким образом, задача начинает выглядеть следующим образом\n",
        "\n",
        "$$Q(w, X) = \\frac{1}{l}||Xw-y||^{2}\\rightarrow \\underset{w}{\\text{min}},$$\n",
        "\n",
        "Взяв производную (от матрицы (!)) и прировняв её к нулю (точка экструма квадратинчной функции) можно получить значения коэффициентов:\n",
        "\n",
        "$$w = (X^{T}X)^{-1}X^{T}y.$$\n",
        "\n",
        "Если вам интересна более детальная математическая подоплёка смотрите её тут: [Вывод аналитической формулы решения уравнения линейной регрессии](https://habr.com/ru/company/ods/blog/323890/#metod-naimenshih-kvadratov) (см. пункт 1.2)"
      ],
      "metadata": {
        "id": "9CVmWfdBXKAO"
      }
    },
    {
      "cell_type": "markdown",
      "source": [
        "**Таким образом, нетрудно догадаться, что в идеальном случае MAE и MSE будут равны 0.**"
      ],
      "metadata": {
        "id": "O9P8UwIhXMuC"
      }
    },
    {
      "cell_type": "markdown",
      "source": [
        "Коэффициент детерминации $R2$, или $R-квадрат$, варьируется в интервале между 0 и 1 и обозначает объяснительную мощность линейной регрессионной модели. Он вычисляет объясненную долю изменчивости в зависимой переменной. (или если по-простому, $R2$ показывают насколько признаки влияют/коррелируют с ответом).\n",
        "\n",
        "Обычно, чем ближе $R2$ к 1, тем лучше линия регрессии подогнана к точкам данных и больше изменчивости в $Y$ объясняется независимой переменной $X$. \n",
        "\n",
        "*P.s. $R2$ может быть и отрицательным, это значит ваша модель работает хуже, чем простое усреднение результата.*"
      ],
      "metadata": {
        "id": "ANxi9H7pXUHN"
      }
    },
    {
      "cell_type": "markdown",
      "source": [
        "### Простой пример линейной регрессии"
      ],
      "metadata": {
        "id": "R7aOkstzX5us"
      }
    },
    {
      "cell_type": "code",
      "source": [
        "import numpy as np \n",
        "from sklearn.linear_model import LinearRegression # именно в библиотеке sklearn содержится наиболее оптмаильный метод для вычисления линейной регрессии"
      ],
      "metadata": {
        "id": "WoA-2RpdXR_B"
      },
      "execution_count": null,
      "outputs": []
    },
    {
      "cell_type": "code",
      "source": [
        "x = np.array([5, 15, 25, 35, 45, 55]).reshape((-1, 1))\n",
        "y = np.array([5, 20, 14, 32, 22, 38])"
      ],
      "metadata": {
        "id": "-G_T--irXFAh"
      },
      "execution_count": null,
      "outputs": []
    },
    {
      "cell_type": "code",
      "source": [
        "import matplotlib.pyplot as plt\n",
        "\n",
        "fig, ax = plt.subplots(figsize=(3, 3))\n",
        "\n",
        "ax.scatter(x, y)\n",
        "\n",
        "plt.show()"
      ],
      "metadata": {
        "colab": {
          "base_uri": "https://localhost:8080/",
          "height": 291
        },
        "id": "TV_jN-hkVDfT",
        "outputId": "d119b0dd-e968-44d7-98db-74cdd483f45f"
      },
      "execution_count": null,
      "outputs": [
        {
          "output_type": "display_data",
          "data": {
            "text/plain": [
              "<Figure size 300x300 with 1 Axes>"
            ],
            "image/png": "[encoded data removed]"
          },
          "metadata": {}
        }
      ]
    },
    {
      "cell_type": "markdown",
      "source": [
        "**Цель линейной регрессии** — поиск линии, которая наилучшим образом соответствует этим точкам. \n",
        "\n",
        "Общее уравнение для прямой (в том случае если у нас один признак для каждого объекта):\n",
        "\n",
        " $\\\\ f (x) = w_1*x + w_0 $,\n",
        " \n",
        "где $\\\\ w_1 $ — наклон линии, а $\\\\ w_0 $ — его y-сдвиг. Таким образом, решение линейной регрессии определяет значения для $\\\\ w_1 $ и $\\\\ w_0 $, так что f (x) приближается как можно ближе к y. \n",
        "\n",
        "Попробуем несколько случайных кандидатов:"
      ],
      "metadata": {
        "id": "uuMXuoMDY7NI"
      }
    },
    {
      "cell_type": "markdown",
      "source": [
        "![Frame 1.png](data:image/png;base64,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)"
      ],
      "metadata": {
        "id": "KQPEeG2-Z9Rn"
      }
    },
    {
      "cell_type": "code",
      "execution_count": null,
      "metadata": {
        "id": "6f9RiknY8klV"
      },
      "outputs": [],
      "source": [
        "# Создаем модель линейной регрессии - т.е. прямой которая будет проходить через наши точки\n",
        "# Эта операция создаёт переменную model в качестве экземпляра LinearRegression\n",
        "\n",
        "model = LinearRegression()"
      ]
    },
    {
      "cell_type": "code",
      "source": [
        "# С помощью метода fit() применяем нашу модель к нашему набору данных - обучем модель\n",
        "# С помощью .fit() вычисляются оптимальные значение весов w₀ и w₁ и т.д, \n",
        "# используя существующие вход и выход (x и y) в качестве аргументов. \n",
        "\n",
        "model.fit(x, y)"
      ],
      "metadata": {
        "colab": {
          "base_uri": "https://localhost:8080/",
          "height": 74
        },
        "id": "1m7uOYbGYYPr",
        "outputId": "e3dffa11-4740-4081-e213-c6d74fb5e265"
      },
      "execution_count": null,
      "outputs": [
        {
          "output_type": "execute_result",
          "data": {
            "text/plain": [
              "LinearRegression()"
            ],
            "text/html": [
              "<style>#sk-container-id-1 {color: black;background-color: white;}#sk-container-id-1 pre{padding: 0;}#sk-container-id-1 div.sk-toggleable {background-color: white;}#sk-container-id-1 label.sk-toggleable__label {cursor: pointer;display: block;width: 100%;margin-bottom: 0;padding: 0.3em;box-sizing: border-box;text-align: center;}#sk-container-id-1 label.sk-toggleable__label-arrow:before {content: \"▸\";float: left;margin-right: 0.25em;color: #696969;}#sk-container-id-1 label.sk-toggleable__label-arrow:hover:before {color: black;}#sk-container-id-1 div.sk-estimator:hover label.sk-toggleable__label-arrow:before {color: black;}#sk-container-id-1 div.sk-toggleable__content {max-height: 0;max-width: 0;overflow: hidden;text-align: left;background-color: #f0f8ff;}#sk-container-id-1 div.sk-toggleable__content pre {margin: 0.2em;color: black;border-radius: 0.25em;background-color: #f0f8ff;}#sk-container-id-1 input.sk-toggleable__control:checked~div.sk-toggleable__content {max-height: 200px;max-width: 100%;overflow: auto;}#sk-container-id-1 input.sk-toggleable__control:checked~label.sk-toggleable__label-arrow:before {content: \"▾\";}#sk-container-id-1 div.sk-estimator input.sk-toggleable__control:checked~label.sk-toggleable__label {background-color: #d4ebff;}#sk-container-id-1 div.sk-label input.sk-toggleable__control:checked~label.sk-toggleable__label {background-color: #d4ebff;}#sk-container-id-1 input.sk-hidden--visually {border: 0;clip: rect(1px 1px 1px 1px);clip: rect(1px, 1px, 1px, 1px);height: 1px;margin: -1px;overflow: hidden;padding: 0;position: absolute;width: 1px;}#sk-container-id-1 div.sk-estimator {font-family: monospace;background-color: #f0f8ff;border: 1px dotted black;border-radius: 0.25em;box-sizing: border-box;margin-bottom: 0.5em;}#sk-container-id-1 div.sk-estimator:hover {background-color: #d4ebff;}#sk-container-id-1 div.sk-parallel-item::after {content: \"\";width: 100%;border-bottom: 1px solid gray;flex-grow: 1;}#sk-container-id-1 div.sk-label:hover label.sk-toggleable__label {background-color: #d4ebff;}#sk-container-id-1 div.sk-serial::before {content: \"\";position: absolute;border-left: 1px solid gray;box-sizing: border-box;top: 0;bottom: 0;left: 50%;z-index: 0;}#sk-container-id-1 div.sk-serial {display: flex;flex-direction: column;align-items: center;background-color: white;padding-right: 0.2em;padding-left: 0.2em;position: relative;}#sk-container-id-1 div.sk-item {position: relative;z-index: 1;}#sk-container-id-1 div.sk-parallel {display: flex;align-items: stretch;justify-content: center;background-color: white;position: relative;}#sk-container-id-1 div.sk-item::before, #sk-container-id-1 div.sk-parallel-item::before {content: \"\";position: absolute;border-left: 1px solid gray;box-sizing: border-box;top: 0;bottom: 0;left: 50%;z-index: -1;}#sk-container-id-1 div.sk-parallel-item {display: flex;flex-direction: column;z-index: 1;position: relative;background-color: white;}#sk-container-id-1 div.sk-parallel-item:first-child::after {align-self: flex-end;width: 50%;}#sk-container-id-1 div.sk-parallel-item:last-child::after {align-self: flex-start;width: 50%;}#sk-container-id-1 div.sk-parallel-item:only-child::after {width: 0;}#sk-container-id-1 div.sk-dashed-wrapped {border: 1px dashed gray;margin: 0 0.4em 0.5em 0.4em;box-sizing: border-box;padding-bottom: 0.4em;background-color: white;}#sk-container-id-1 div.sk-label label {font-family: monospace;font-weight: bold;display: inline-block;line-height: 1.2em;}#sk-container-id-1 div.sk-label-container {text-align: center;}#sk-container-id-1 div.sk-container {/* jupyter's `normalize.less` sets `[hidden] { display: none; }` but bootstrap.min.css set `[hidden] { display: none !important; }` so we also need the `!important` here to be able to override the default hidden behavior on the sphinx rendered scikit-learn.org. See: https://github.com/scikit-learn/scikit-learn/issues/21755 */display: inline-block !important;position: relative;}#sk-container-id-1 div.sk-text-repr-fallback {display: none;}</style><div id=\"sk-container-id-1\" class=\"sk-top-container\"><div class=\"sk-text-repr-fallback\"><pre>LinearRegression()</pre><b>In a Jupyter environment, please rerun this cell to show the HTML representation or trust the notebook. <br />On GitHub, the HTML representation is unable to render, please try loading this page with nbviewer.org.</b></div><div class=\"sk-container\" hidden><div class=\"sk-item\"><div class=\"sk-estimator sk-toggleable\"><input class=\"sk-toggleable__control sk-hidden--visually\" id=\"sk-estimator-id-1\" type=\"checkbox\" checked><label for=\"sk-estimator-id-1\" class=\"sk-toggleable__label sk-toggleable__label-arrow\">LinearRegression</label><div class=\"sk-toggleable__content\"><pre>LinearRegression()</pre></div></div></div></div></div>"
            ]
          },
          "metadata": {},
          "execution_count": 5
        }
      ]
    },
    {
      "cell_type": "code",
      "source": [
        "w0 = model.intercept_\n",
        "w0"
      ],
      "metadata": {
        "colab": {
          "base_uri": "https://localhost:8080/"
        },
        "id": "oN4xjb6BYZnY",
        "outputId": "4374b117-9a36-4bbb-ec9d-531212f3a665"
      },
      "execution_count": null,
      "outputs": [
        {
          "output_type": "execute_result",
          "data": {
            "text/plain": [
              "5.633333333333329"
            ]
          },
          "metadata": {},
          "execution_count": 6
        }
      ]
    },
    {
      "cell_type": "code",
      "source": [
        "w1 = model.coef_\n",
        "w1"
      ],
      "metadata": {
        "colab": {
          "base_uri": "https://localhost:8080/"
        },
        "id": "VnXaXpW6YbWt",
        "outputId": "00bf9675-845d-4f05-d38d-81725779b718"
      },
      "execution_count": null,
      "outputs": [
        {
          "output_type": "execute_result",
          "data": {
            "text/plain": [
              "array([0.54])"
            ]
          },
          "metadata": {},
          "execution_count": 7
        }
      ]
    },
    {
      "cell_type": "markdown",
      "source": [
        "$$ y = w_{0} + w_{1}x $$\n",
        "$$ y = 5.63 + 0.54*x $$"
      ],
      "metadata": {
        "id": "pHrDjPbAaGSf"
      }
    },
    {
      "cell_type": "markdown",
      "source": [
        "Проверим результаты прямыми вычислениями"
      ],
      "metadata": {
        "id": "HEHVcEBzaK6T"
      }
    },
    {
      "cell_type": "code",
      "source": [
        "np.linalg.inv(x.T@x)@x.T@y"
      ],
      "metadata": {
        "colab": {
          "base_uri": "https://localhost:8080/"
        },
        "id": "nZ83PS_saJ4K",
        "outputId": "c36d2cba-12c7-42ef-bbc9-573fbc5446b0"
      },
      "execution_count": null,
      "outputs": [
        {
          "output_type": "execute_result",
          "data": {
            "text/plain": [
              "array([0.68181818])"
            ]
          },
          "metadata": {},
          "execution_count": 13
        }
      ]
    },
    {
      "cell_type": "code",
      "source": [
        "x1 = np.array([[1, 5], [1, 15], [1, 25], [1, 35], [1, 45], [1, 55]])\n",
        "x1"
      ],
      "metadata": {
        "colab": {
          "base_uri": "https://localhost:8080/"
        },
        "id": "bu06JGS9aNSF",
        "outputId": "53978a66-2c8d-43ef-ac6e-d1f8afd4417a"
      },
      "execution_count": null,
      "outputs": [
        {
          "output_type": "execute_result",
          "data": {
            "text/plain": [
              "array([[ 1,  5],\n",
              "       [ 1, 15],\n",
              "       [ 1, 25],\n",
              "       [ 1, 35],\n",
              "       [ 1, 45],\n",
              "       [ 1, 55]])"
            ]
          },
          "metadata": {},
          "execution_count": 14
        }
      ]
    },
    {
      "cell_type": "code",
      "source": [
        "np.linalg.inv(x1.T@x1)@x1.T@y"
      ],
      "metadata": {
        "colab": {
          "base_uri": "https://localhost:8080/"
        },
        "id": "81gUtAi-aPWW",
        "outputId": "c986c100-c9bc-490b-dfac-cd2c2bf8aa03"
      },
      "execution_count": null,
      "outputs": [
        {
          "output_type": "execute_result",
          "data": {
            "text/plain": [
              "array([5.63333333, 0.54      ])"
            ]
          },
          "metadata": {},
          "execution_count": 15
        }
      ]
    },
    {
      "cell_type": "code",
      "source": [
        "# предсказание результатов \n",
        "y_pred = model.predict(x)\n",
        "# y = np.array([5, 20, 14, 32, 22, 38])\n",
        "y_pred"
      ],
      "metadata": {
        "colab": {
          "base_uri": "https://localhost:8080/"
        },
        "id": "m5CtDf7MaQ0i",
        "outputId": "299bc5ff-65fb-42f7-c2bb-aa9067dc7116"
      },
      "execution_count": null,
      "outputs": [
        {
          "output_type": "execute_result",
          "data": {
            "text/plain": [
              "array([ 8.33333333, 13.73333333, 19.13333333, 24.53333333, 29.93333333,\n",
              "       35.33333333])"
            ]
          },
          "metadata": {},
          "execution_count": 46
        }
      ]
    },
    {
      "cell_type": "code",
      "source": [
        "plt.scatter(x, y)\n",
        "plt.plot(x, y_pred, color='red', linewidth=2);\n",
        "plt.show()"
      ],
      "metadata": {
        "colab": {
          "base_uri": "https://localhost:8080/",
          "height": 430
        },
        "id": "WHoMoJuiaS0V",
        "outputId": "43285f32-f474-430f-82c8-55605dabe151"
      },
      "execution_count": null,
      "outputs": [
        {
          "output_type": "display_data",
          "data": {
            "text/plain": [
              "<Figure size 640x480 with 1 Axes>"
            ],
            "image/png": "[encoded data removed]"
          },
          "metadata": {}
        }
      ]
    },
    {
      "cell_type": "code",
      "source": [
        "# оценим получившийся результат\n",
        "from sklearn.metrics import mean_absolute_error, mean_squared_error, r2_score\n",
        "\n",
        "print('Mean Absolute Error:', mean_absolute_error(y, y_pred))\n",
        "print('Mean Squared Error:', mean_squared_error(y, y_pred))\n",
        "print('R2 score:', r2_score(y, y_pred))"
      ],
      "metadata": {
        "colab": {
          "base_uri": "https://localhost:8080/"
        },
        "id": "mFh1JHWqaiKv",
        "outputId": "fc804b45-f744-44a7-8f0d-ca4bdd1904cd"
      },
      "execution_count": null,
      "outputs": [
        {
          "output_type": "stream",
          "name": "stdout",
          "text": [
            "Mean Absolute Error: 5.466666666666666\n",
            "Mean Squared Error: 33.75555555555555\n",
            "R2 score: 0.7158756137479542\n"
          ]
        }
      ]
    },
    {
      "cell_type": "code",
      "source": [
        "y_pred_2 = np.full(6, y.mean())\n",
        "\n",
        "y_pred_2"
      ],
      "metadata": {
        "colab": {
          "base_uri": "https://localhost:8080/"
        },
        "id": "8_Voxnw6bDIC",
        "outputId": "51db02d1-fc81-4f5d-ce0b-bde9664833c3"
      },
      "execution_count": null,
      "outputs": [
        {
          "output_type": "execute_result",
          "data": {
            "text/plain": [
              "array([21.83333333, 21.83333333, 21.83333333, 21.83333333, 21.83333333,\n",
              "       21.83333333])"
            ]
          },
          "metadata": {},
          "execution_count": 48
        }
      ]
    },
    {
      "cell_type": "code",
      "source": [
        "print('Mean Absolute Error:', mean_absolute_error(y, y_pred_2))\n",
        "print('Mean Squared Error:', mean_squared_error(y, y_pred_2))\n",
        "print('R2 score:', r2_score(y, y_pred_2))"
      ],
      "metadata": {
        "colab": {
          "base_uri": "https://localhost:8080/"
        },
        "id": "C3N6itcvcMm7",
        "outputId": "0506e436-544e-4a1d-c26f-ee42e9e8057d"
      },
      "execution_count": null,
      "outputs": [
        {
          "output_type": "stream",
          "name": "stdout",
          "text": [
            "Mean Absolute Error: 8.833333333333334\n",
            "Mean Squared Error: 118.80555555555554\n",
            "R2 score: 0.0\n"
          ]
        }
      ]
    },
    {
      "cell_type": "markdown",
      "source": [
        "### Пример того, почему регрессия \"Линейная\""
      ],
      "metadata": {
        "id": "Evr6rZYcaYqI"
      }
    },
    {
      "cell_type": "code",
      "source": [
        "x = np.array([-4, -3, -2, -1, 0, 1, 2, 3, 4]).reshape((-1, 1))\n",
        "y = np.array([16, 9, 4, 1, 0, 1, 4, 9, 16])"
      ],
      "metadata": {
        "id": "ZofhLL1aaZZx"
      },
      "execution_count": null,
      "outputs": []
    },
    {
      "cell_type": "markdown",
      "source": [],
      "metadata": {
        "id": "US4j2TPH2YDm"
      }
    },
    {
      "cell_type": "code",
      "source": [
        "model1 = LinearRegression()"
      ],
      "metadata": {
        "id": "Cd3OIqNtaalA"
      },
      "execution_count": null,
      "outputs": []
    },
    {
      "cell_type": "code",
      "source": [
        "model1.fit(x, y)"
      ],
      "metadata": {
        "colab": {
          "base_uri": "https://localhost:8080/",
          "height": 74
        },
        "id": "Tk79NXwvaby3",
        "outputId": "048618be-0171-45f0-e60b-e0d27d85e9b9"
      },
      "execution_count": null,
      "outputs": [
        {
          "output_type": "execute_result",
          "data": {
            "text/plain": [
              "LinearRegression()"
            ],
            "text/html": [
              "<style>#sk-container-id-2 {color: black;background-color: white;}#sk-container-id-2 pre{padding: 0;}#sk-container-id-2 div.sk-toggleable {background-color: white;}#sk-container-id-2 label.sk-toggleable__label {cursor: pointer;display: block;width: 100%;margin-bottom: 0;padding: 0.3em;box-sizing: border-box;text-align: center;}#sk-container-id-2 label.sk-toggleable__label-arrow:before {content: \"▸\";float: left;margin-right: 0.25em;color: #696969;}#sk-container-id-2 label.sk-toggleable__label-arrow:hover:before {color: black;}#sk-container-id-2 div.sk-estimator:hover label.sk-toggleable__label-arrow:before {color: black;}#sk-container-id-2 div.sk-toggleable__content {max-height: 0;max-width: 0;overflow: hidden;text-align: left;background-color: #f0f8ff;}#sk-container-id-2 div.sk-toggleable__content pre {margin: 0.2em;color: black;border-radius: 0.25em;background-color: #f0f8ff;}#sk-container-id-2 input.sk-toggleable__control:checked~div.sk-toggleable__content {max-height: 200px;max-width: 100%;overflow: auto;}#sk-container-id-2 input.sk-toggleable__control:checked~label.sk-toggleable__label-arrow:before {content: \"▾\";}#sk-container-id-2 div.sk-estimator input.sk-toggleable__control:checked~label.sk-toggleable__label {background-color: #d4ebff;}#sk-container-id-2 div.sk-label input.sk-toggleable__control:checked~label.sk-toggleable__label {background-color: #d4ebff;}#sk-container-id-2 input.sk-hidden--visually {border: 0;clip: rect(1px 1px 1px 1px);clip: rect(1px, 1px, 1px, 1px);height: 1px;margin: -1px;overflow: hidden;padding: 0;position: absolute;width: 1px;}#sk-container-id-2 div.sk-estimator {font-family: monospace;background-color: #f0f8ff;border: 1px dotted black;border-radius: 0.25em;box-sizing: border-box;margin-bottom: 0.5em;}#sk-container-id-2 div.sk-estimator:hover {background-color: #d4ebff;}#sk-container-id-2 div.sk-parallel-item::after {content: \"\";width: 100%;border-bottom: 1px solid gray;flex-grow: 1;}#sk-container-id-2 div.sk-label:hover label.sk-toggleable__label {background-color: #d4ebff;}#sk-container-id-2 div.sk-serial::before {content: \"\";position: absolute;border-left: 1px solid gray;box-sizing: border-box;top: 0;bottom: 0;left: 50%;z-index: 0;}#sk-container-id-2 div.sk-serial {display: flex;flex-direction: column;align-items: center;background-color: white;padding-right: 0.2em;padding-left: 0.2em;position: relative;}#sk-container-id-2 div.sk-item {position: relative;z-index: 1;}#sk-container-id-2 div.sk-parallel {display: flex;align-items: stretch;justify-content: center;background-color: white;position: relative;}#sk-container-id-2 div.sk-item::before, #sk-container-id-2 div.sk-parallel-item::before {content: \"\";position: absolute;border-left: 1px solid gray;box-sizing: border-box;top: 0;bottom: 0;left: 50%;z-index: -1;}#sk-container-id-2 div.sk-parallel-item {display: flex;flex-direction: column;z-index: 1;position: relative;background-color: white;}#sk-container-id-2 div.sk-parallel-item:first-child::after {align-self: flex-end;width: 50%;}#sk-container-id-2 div.sk-parallel-item:last-child::after {align-self: flex-start;width: 50%;}#sk-container-id-2 div.sk-parallel-item:only-child::after {width: 0;}#sk-container-id-2 div.sk-dashed-wrapped {border: 1px dashed gray;margin: 0 0.4em 0.5em 0.4em;box-sizing: border-box;padding-bottom: 0.4em;background-color: white;}#sk-container-id-2 div.sk-label label {font-family: monospace;font-weight: bold;display: inline-block;line-height: 1.2em;}#sk-container-id-2 div.sk-label-container {text-align: center;}#sk-container-id-2 div.sk-container {/* jupyter's `normalize.less` sets `[hidden] { display: none; }` but bootstrap.min.css set `[hidden] { display: none !important; }` so we also need the `!important` here to be able to override the default hidden behavior on the sphinx rendered scikit-learn.org. See: https://github.com/scikit-learn/scikit-learn/issues/21755 */display: inline-block !important;position: relative;}#sk-container-id-2 div.sk-text-repr-fallback {display: none;}</style><div id=\"sk-container-id-2\" class=\"sk-top-container\"><div class=\"sk-text-repr-fallback\"><pre>LinearRegression()</pre><b>In a Jupyter environment, please rerun this cell to show the HTML representation or trust the notebook. <br />On GitHub, the HTML representation is unable to render, please try loading this page with nbviewer.org.</b></div><div class=\"sk-container\" hidden><div class=\"sk-item\"><div class=\"sk-estimator sk-toggleable\"><input class=\"sk-toggleable__control sk-hidden--visually\" id=\"sk-estimator-id-2\" type=\"checkbox\" checked><label for=\"sk-estimator-id-2\" class=\"sk-toggleable__label sk-toggleable__label-arrow\">LinearRegression</label><div class=\"sk-toggleable__content\"><pre>LinearRegression()</pre></div></div></div></div></div>"
            ]
          },
          "metadata": {},
          "execution_count": 10
        }
      ]
    },
    {
      "cell_type": "code",
      "source": [
        "y_pred = model1.predict(x)"
      ],
      "metadata": {
        "id": "B52p9g3HadMn"
      },
      "execution_count": null,
      "outputs": []
    },
    {
      "cell_type": "code",
      "source": [
        "plt.scatter(x, y)\n",
        "plt.plot(x, y_pred, color='red', linewidth=2);\n",
        "plt.show()"
      ],
      "metadata": {
        "colab": {
          "base_uri": "https://localhost:8080/",
          "height": 430
        },
        "id": "722xJIPCaeuW",
        "outputId": "a8bf0e72-23ca-412b-860a-e18a77055b04"
      },
      "execution_count": null,
      "outputs": [
        {
          "output_type": "display_data",
          "data": {
            "text/plain": [
              "<Figure size 640x480 with 1 Axes>"
            ],
            "image/png": "[encoded data removed]"
          },
          "metadata": {}
        }
      ]
    },
    {
      "cell_type": "code",
      "source": [
        "from sklearn.metrics import mean_absolute_error, mean_squared_error, r2_score\n",
        "\n",
        "print('Mean Absolute Error:', mean_absolute_error(y, y_pred))\n",
        "print('Mean Squared Error:', mean_squared_error(y, y_pred))\n",
        "print('R2 score:', r2_score(y, y_pred))"
      ],
      "metadata": {
        "colab": {
          "base_uri": "https://localhost:8080/"
        },
        "id": "zOhuAYjIagE2",
        "outputId": "082d42e8-f6c8-48fc-dccd-ee1d30a2454d"
      },
      "execution_count": null,
      "outputs": [
        {
          "output_type": "stream",
          "name": "stdout",
          "text": [
            "Mean Absolute Error: 5.185185185185186\n",
            "Mean Squared Error: 34.22222222222222\n",
            "R2 score: 0.0\n"
          ]
        }
      ]
    },
    {
      "cell_type": "markdown",
      "source": [
        "### Ограничения линейной регрессии"
      ],
      "metadata": {
        "id": "QyR3kKZpeFjJ"
      }
    },
    {
      "cell_type": "markdown",
      "source": [
        "1. Линейная связь : линейная регрессия требует, чтобы связь между независимыми и зависимыми переменными была линейной. \n",
        "2. Выбросы: также важно проверять наличие выбросов, поскольку линейная регрессия чувствительна к наличию выбросов.\n",
        "3. Независимость: Независимость предполагает, что независимые переменные в модели не коррелируют и не связаны друг с другом. Это предположение необходимо для того, чтобы линейная регрессия была верной.\n",
        "4. Нет мультиколлинеарности: Мультиколлинеарность — еще одно слово, которое обманчиво прямолинейно. Он описывает статистическое явление, когда два или более предикторов в модели множественной регрессии сильно коррелируют друг с другом. Таким образом, предположение об отсутствии мультиколлинеарности утверждает, что не должно быть никакой связи между предикторами в модели множественной линейной регрессии. Почему нет? Потому что это может привести к нестабильному показателю взаимосвязи между предиктором и переменными выхода/отклика, что затруднит интерпретацию индивидуального влияния каждого предиктора на результат."
      ],
      "metadata": {
        "id": "FzcZY5LkeIZM"
      }
    }
  ]
}
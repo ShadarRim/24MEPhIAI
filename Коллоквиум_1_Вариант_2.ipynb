{
  "nbformat": 4,
  "nbformat_minor": 0,
  "metadata": {
    "colab": {
      "provenance": []
    },
    "kernelspec": {
      "name": "python3",
      "display_name": "Python 3"
    },
    "language_info": {
      "name": "python"
    }
  },
  "cells": [
    {
      "cell_type": "markdown",
      "source": [
        "## Списки"
      ],
      "metadata": {
        "id": "Yzk_yB7pbSMF"
      }
    },
    {
      "cell_type": "markdown",
      "source": [
        "Вам дан список. Поменяйте порядок следования элементов, начиная с середины до конца списка."
      ],
      "metadata": {
        "id": "DCBX5mGMbYKO"
      }
    },
    {
      "cell_type": "code",
      "source": [
        "# ваше решение"
      ],
      "metadata": {
        "id": "EJPTuUJAbVHi"
      },
      "execution_count": null,
      "outputs": []
    },
    {
      "cell_type": "markdown",
      "source": [
        "Вам дан список. Поменяйте в нём местами блоки элементов: каждый чётный со второго по пятый с каждым нечётым со второго по пятый с конца. "
      ],
      "metadata": {
        "id": "uBVE7ILhbdYj"
      }
    },
    {
      "cell_type": "code",
      "source": [
        "# ваше решение"
      ],
      "metadata": {
        "id": "8bgHZzbobdjm"
      },
      "execution_count": null,
      "outputs": []
    },
    {
      "cell_type": "markdown",
      "source": [
        "## Генераторы"
      ],
      "metadata": {
        "id": "Gl1KfvjTbiA_"
      }
    },
    {
      "cell_type": "markdown",
      "source": [
        "Вам дан список. Создайте новый список, который возведёт в квадрат элементы исходного списка."
      ],
      "metadata": {
        "id": "VwS1f2I_bkbw"
      }
    },
    {
      "cell_type": "code",
      "source": [
        "# ваше решение"
      ],
      "metadata": {
        "id": "Med_JeSDbnYD"
      },
      "execution_count": null,
      "outputs": []
    },
    {
      "cell_type": "markdown",
      "source": [
        "Вам дан список. Создайте новый список, который вычитает из каждого элемента списка пять. "
      ],
      "metadata": {
        "id": "rhEKi88SborL"
      }
    },
    {
      "cell_type": "code",
      "source": [
        "# ваше решение"
      ],
      "metadata": {
        "id": "oA0hEJBibrFi"
      },
      "execution_count": null,
      "outputs": []
    },
    {
      "cell_type": "markdown",
      "source": [
        "## Встроенные функции"
      ],
      "metadata": {
        "id": "R3CZD0rPbsQ1"
      }
    },
    {
      "cell_type": "markdown",
      "source": [
        "Вам дана строка. Выведите разницу между наибольшим и наименьшим ascii-кодом символа в строке. "
      ],
      "metadata": {
        "id": "WYWx-Y2xbvKj"
      }
    },
    {
      "cell_type": "code",
      "source": [
        "# ваше решение"
      ],
      "metadata": {
        "id": "OSEB4nUcbxu3"
      },
      "execution_count": null,
      "outputs": []
    },
    {
      "cell_type": "markdown",
      "source": [
        "Вам дана строка. Выведите отсортированную строку, приведённую к верхнему регистру. "
      ],
      "metadata": {
        "id": "nK7ZcqS-byRF"
      }
    },
    {
      "cell_type": "code",
      "source": [
        "# ваше решение"
      ],
      "metadata": {
        "id": "H13zQg2_b1be"
      },
      "execution_count": null,
      "outputs": []
    },
    {
      "cell_type": "markdown",
      "source": [
        "## NumPy"
      ],
      "metadata": {
        "id": "0k9-AEnkb5r0"
      }
    },
    {
      "cell_type": "markdown",
      "source": [
        "Вам дан одномерный массив. На основе этого массива сгенерируйте двумерный массив, который группирует по 4 элемента в строку из исходного.\n",
        "\n",
        "Размерность исходного массива кратна 4.\n",
        "\n",
        "Например:\n",
        "\n",
        "`A = [1,2,3,4,5]` - исходный массив\n",
        "\n",
        "`B = [[1,2,3,4],[2,3,4,5]]` - полученный"
      ],
      "metadata": {
        "id": "UmlNzlQsb8NF"
      }
    },
    {
      "cell_type": "code",
      "source": [
        "# ваше решение"
      ],
      "metadata": {
        "id": "4gAPKfIVb_wz"
      },
      "execution_count": null,
      "outputs": []
    },
    {
      "cell_type": "markdown",
      "source": [
        "Дан массив числе одномерный\n",
        "\n",
        "\n",
        "Создайте двумерный массив, где строка это бинарное представление числа из исходного.\n",
        "\n",
        "Например:\n",
        "`A = [0, 1, 2]` - исходный массив\n",
        "\n",
        "`B = [[0 0 0 0 0 0 0 0]\n",
        "     [0 0 0 0 0 0 0 1]\n",
        "     [0 0 0 0 0 0 1 0]]` - полученный"
      ],
      "metadata": {
        "id": "zJXbGiA_cIpW"
      }
    },
    {
      "cell_type": "code",
      "source": [
        "# ваше решение"
      ],
      "metadata": {
        "id": "1riZrqRnca01"
      },
      "execution_count": null,
      "outputs": []
    },
    {
      "cell_type": "markdown",
      "source": [
        "## Pandas"
      ],
      "metadata": {
        "id": "3lVqgJCMSho-"
      }
    },
    {
      "cell_type": "markdown",
      "source": [
        "https://www.kaggle.com/datasets/muhammetvarl/laptop-price"
      ],
      "metadata": {
        "id": "MlbljlOHZpz4"
      }
    },
    {
      "cell_type": "markdown",
      "source": [
        "- Какие типы данных присутствуют в датасете?\n",
        "- Есть ли в датасете пропущенные значения? Если да, то сколько и где?\n",
        "- Очистите переменные: например `Ram` от Gb (сделав ее числовой), `ScreenResolution` создайте две колонки, например, ширина отдельно и длинна отдельно (тем самым сделав ее числовой), разделите колонку `Cpu` отдельно на тип процессора и отдельно на часототу, и так далее.\n",
        "- Постройте heatmap для матрицы корреляции числовых переменных в датасете.\n",
        "- Постройте pairplot для всех переменных.\n",
        "- Постройте boxplot для всех переменных и выведете объекты которые являются выбросами (строки из датафрейма).\n",
        "- Постройте гистраграмму переменной `Company`."
      ],
      "metadata": {
        "id": "KUI17XWsSqLF"
      }
    }
  ]
}
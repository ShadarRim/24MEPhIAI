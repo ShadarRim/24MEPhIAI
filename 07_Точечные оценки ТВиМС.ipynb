{
  "cells": [
    {
      "cell_type": "markdown",
      "metadata": {
        "id": "9kpdJxt6XrTQ"
      },
      "source": [
        "## Простой анализ параметров выборки"
      ]
    },
    {
      "cell_type": "markdown",
      "metadata": {
        "id": "snzQ6I-GNKuz"
      },
      "source": [
        "### Оценки параметров выборки\n",
        "\n",
        "<p>\n",
        "    <center>\n",
        "        <b>Любая выборка представляет собой <br> значения некоторой случайной величины.</b>\n",
        "    </center>\n",
        "</p>\n",
        "\n",
        "На практике, как правило, мы имеем некоторую выборку. Мы ничего не знаем про случайную величину, из которой взята эта выборка.\n",
        "\n",
        "Тем не менее, по выборка можно:\n",
        "* строить оценки для параметров случайных величин,\n",
        "* проверять гипотезы о значениях этих параметров, а также об общих характеристиках и свойствах случайных величин,\n",
        "* строить доверительные интервалы для параметров случайных величин."
      ]
    },
    {
      "cell_type": "markdown",
      "metadata": {
        "id": "vOjjjXcPXrTT"
      },
      "source": [
        "Для точечного оценивания параметров случайной величины используются различные статистики. __Статистика__ — это любая функция от выборки.\n",
        "\n",
        "Познакомимся со статистиками на примере датасета с данными по хоккеистам. Данные доступны [здесь](https://habr.com/post/301340/)."
      ]
    },
    {
      "cell_type": "markdown",
      "metadata": {
        "id": "uBm8UyPaXrTT"
      },
      "source": [
        "Импортируем и подготовим данные."
      ]
    },
    {
      "cell_type": "code",
      "execution_count": null,
      "metadata": {
        "id": "YOW2XRXmXrTT"
      },
      "outputs": [],
      "source": [
        "import pandas as pd\n",
        "import matplotlib.pyplot as plt"
      ]
    },
    {
      "cell_type": "code",
      "source": [
        "from google.colab import drive\n",
        "drive.mount('/content/drive')"
      ],
      "metadata": {
        "colab": {
          "base_uri": "https://localhost:8080/"
        },
        "id": "DRm44Vq4v-V2",
        "outputId": "01914f71-0623-46a4-93f5-27d1d6909612"
      },
      "execution_count": null,
      "outputs": [
        {
          "output_type": "stream",
          "name": "stdout",
          "text": [
            "Mounted at /content/drive\n"
          ]
        }
      ]
    },
    {
      "cell_type": "code",
      "source": [
        "!ls"
      ],
      "metadata": {
        "colab": {
          "base_uri": "https://localhost:8080/"
        },
        "id": "zrIOJBqWcDx9",
        "outputId": "2ff14bdf-9723-4ad8-cdef-e56271dd252a"
      },
      "execution_count": null,
      "outputs": [
        {
          "output_type": "stream",
          "name": "stdout",
          "text": [
            "drive  sample_data\n"
          ]
        }
      ]
    },
    {
      "cell_type": "code",
      "execution_count": null,
      "metadata": {
        "id": "HKDU5RvTXrTU",
        "outputId": "d4cec6ef-b890-4c88-b90e-05b4a78ed173",
        "colab": {
          "base_uri": "https://localhost:8080/",
          "height": 206
        }
      },
      "outputs": [
        {
          "output_type": "execute_result",
          "data": {
            "text/plain": [
              "   year country  no                 name position side  height  weight  \\\n",
              "0  2001     RUS  10     tverdovsky oleg         D    L     185    84.0   \n",
              "1  2001     RUS   2   vichnevsky vitali         D    L     188    86.0   \n",
              "2  2001     RUS  26  petrochinin evgeni         D    L     182    95.0   \n",
              "3  2001     RUS  28     zhdan alexander         D    R     178    85.0   \n",
              "4  2001     RUS  32     orekhovsky oleg         D    R     175    88.0   \n",
              "\n",
              "        birth                     club        age  cohort        bmi  \n",
              "0  1976-05-18    anaheim mighty ducks   24.952772    1976  24.543462  \n",
              "1  1980-03-18    anaheim mighty ducks   21.119781    1980  24.332277  \n",
              "2  1976-02-07  severstal cherepovetal   25.229295    1976  28.680111  \n",
              "3  1971-08-28           ak bars kazan   29.675565    1971  26.827421  \n",
              "4  1977-11-03           dynamo moscow   23.490760    1977  28.734694  "
            ],
            "text/html": [
              "\n",
              "  <div id=\"df-44412e4d-e35f-4424-9903-684fcc87e4d3\">\n",
              "    <div class=\"colab-df-container\">\n",
              "      <div>\n",
              "<style scoped>\n",
              "    .dataframe tbody tr th:only-of-type {\n",
              "        vertical-align: middle;\n",
              "    }\n",
              "\n",
              "    .dataframe tbody tr th {\n",
              "        vertical-align: top;\n",
              "    }\n",
              "\n",
              "    .dataframe thead th {\n",
              "        text-align: right;\n",
              "    }\n",
              "</style>\n",
              "<table border=\"1\" class=\"dataframe\">\n",
              "  <thead>\n",
              "    <tr style=\"text-align: right;\">\n",
              "      <th></th>\n",
              "      <th>year</th>\n",
              "      <th>country</th>\n",
              "      <th>no</th>\n",
              "      <th>name</th>\n",
              "      <th>position</th>\n",
              "      <th>side</th>\n",
              "      <th>height</th>\n",
              "      <th>weight</th>\n",
              "      <th>birth</th>\n",
              "      <th>club</th>\n",
              "      <th>age</th>\n",
              "      <th>cohort</th>\n",
              "      <th>bmi</th>\n",
              "    </tr>\n",
              "  </thead>\n",
              "  <tbody>\n",
              "    <tr>\n",
              "      <th>0</th>\n",
              "      <td>2001</td>\n",
              "      <td>RUS</td>\n",
              "      <td>10</td>\n",
              "      <td>tverdovsky oleg</td>\n",
              "      <td>D</td>\n",
              "      <td>L</td>\n",
              "      <td>185</td>\n",
              "      <td>84.0</td>\n",
              "      <td>1976-05-18</td>\n",
              "      <td>anaheim mighty ducks</td>\n",
              "      <td>24.952772</td>\n",
              "      <td>1976</td>\n",
              "      <td>24.543462</td>\n",
              "    </tr>\n",
              "    <tr>\n",
              "      <th>1</th>\n",
              "      <td>2001</td>\n",
              "      <td>RUS</td>\n",
              "      <td>2</td>\n",
              "      <td>vichnevsky vitali</td>\n",
              "      <td>D</td>\n",
              "      <td>L</td>\n",
              "      <td>188</td>\n",
              "      <td>86.0</td>\n",
              "      <td>1980-03-18</td>\n",
              "      <td>anaheim mighty ducks</td>\n",
              "      <td>21.119781</td>\n",
              "      <td>1980</td>\n",
              "      <td>24.332277</td>\n",
              "    </tr>\n",
              "    <tr>\n",
              "      <th>2</th>\n",
              "      <td>2001</td>\n",
              "      <td>RUS</td>\n",
              "      <td>26</td>\n",
              "      <td>petrochinin evgeni</td>\n",
              "      <td>D</td>\n",
              "      <td>L</td>\n",
              "      <td>182</td>\n",
              "      <td>95.0</td>\n",
              "      <td>1976-02-07</td>\n",
              "      <td>severstal cherepovetal</td>\n",
              "      <td>25.229295</td>\n",
              "      <td>1976</td>\n",
              "      <td>28.680111</td>\n",
              "    </tr>\n",
              "    <tr>\n",
              "      <th>3</th>\n",
              "      <td>2001</td>\n",
              "      <td>RUS</td>\n",
              "      <td>28</td>\n",
              "      <td>zhdan alexander</td>\n",
              "      <td>D</td>\n",
              "      <td>R</td>\n",
              "      <td>178</td>\n",
              "      <td>85.0</td>\n",
              "      <td>1971-08-28</td>\n",
              "      <td>ak bars kazan</td>\n",
              "      <td>29.675565</td>\n",
              "      <td>1971</td>\n",
              "      <td>26.827421</td>\n",
              "    </tr>\n",
              "    <tr>\n",
              "      <th>4</th>\n",
              "      <td>2001</td>\n",
              "      <td>RUS</td>\n",
              "      <td>32</td>\n",
              "      <td>orekhovsky oleg</td>\n",
              "      <td>D</td>\n",
              "      <td>R</td>\n",
              "      <td>175</td>\n",
              "      <td>88.0</td>\n",
              "      <td>1977-11-03</td>\n",
              "      <td>dynamo moscow</td>\n",
              "      <td>23.490760</td>\n",
              "      <td>1977</td>\n",
              "      <td>28.734694</td>\n",
              "    </tr>\n",
              "  </tbody>\n",
              "</table>\n",
              "</div>\n",
              "      <button class=\"colab-df-convert\" onclick=\"convertToInteractive('df-44412e4d-e35f-4424-9903-684fcc87e4d3')\"\n",
              "              title=\"Convert this dataframe to an interactive table.\"\n",
              "              style=\"display:none;\">\n",
              "        \n",
              "  <svg xmlns=\"http://www.w3.org/2000/svg\" height=\"24px\"viewBox=\"0 0 24 24\"\n",
              "       width=\"24px\">\n",
              "    <path d=\"M0 0h24v24H0V0z\" fill=\"none\"/>\n",
              "    <path d=\"M18.56 5.44l.94 2.06.94-2.06 2.06-.94-2.06-.94-.94-2.06-.94 2.06-2.06.94zm-11 1L8.5 8.5l.94-2.06 2.06-.94-2.06-.94L8.5 2.5l-.94 2.06-2.06.94zm10 10l.94 2.06.94-2.06 2.06-.94-2.06-.94-.94-2.06-.94 2.06-2.06.94z\"/><path d=\"M17.41 7.96l-1.37-1.37c-.4-.4-.92-.59-1.43-.59-.52 0-1.04.2-1.43.59L10.3 9.45l-7.72 7.72c-.78.78-.78 2.05 0 2.83L4 21.41c.39.39.9.59 1.41.59.51 0 1.02-.2 1.41-.59l7.78-7.78 2.81-2.81c.8-.78.8-2.07 0-2.86zM5.41 20L4 18.59l7.72-7.72 1.47 1.35L5.41 20z\"/>\n",
              "  </svg>\n",
              "      </button>\n",
              "      \n",
              "  <style>\n",
              "    .colab-df-container {\n",
              "      display:flex;\n",
              "      flex-wrap:wrap;\n",
              "      gap: 12px;\n",
              "    }\n",
              "\n",
              "    .colab-df-convert {\n",
              "      background-color: #E8F0FE;\n",
              "      border: none;\n",
              "      border-radius: 50%;\n",
              "      cursor: pointer;\n",
              "      display: none;\n",
              "      fill: #1967D2;\n",
              "      height: 32px;\n",
              "      padding: 0 0 0 0;\n",
              "      width: 32px;\n",
              "    }\n",
              "\n",
              "    .colab-df-convert:hover {\n",
              "      background-color: #E2EBFA;\n",
              "      box-shadow: 0px 1px 2px rgba(60, 64, 67, 0.3), 0px 1px 3px 1px rgba(60, 64, 67, 0.15);\n",
              "      fill: #174EA6;\n",
              "    }\n",
              "\n",
              "    [theme=dark] .colab-df-convert {\n",
              "      background-color: #3B4455;\n",
              "      fill: #D2E3FC;\n",
              "    }\n",
              "\n",
              "    [theme=dark] .colab-df-convert:hover {\n",
              "      background-color: #434B5C;\n",
              "      box-shadow: 0px 1px 3px 1px rgba(0, 0, 0, 0.15);\n",
              "      filter: drop-shadow(0px 1px 2px rgba(0, 0, 0, 0.3));\n",
              "      fill: #FFFFFF;\n",
              "    }\n",
              "  </style>\n",
              "\n",
              "      <script>\n",
              "        const buttonEl =\n",
              "          document.querySelector('#df-44412e4d-e35f-4424-9903-684fcc87e4d3 button.colab-df-convert');\n",
              "        buttonEl.style.display =\n",
              "          google.colab.kernel.accessAllowed ? 'block' : 'none';\n",
              "\n",
              "        async function convertToInteractive(key) {\n",
              "          const element = document.querySelector('#df-44412e4d-e35f-4424-9903-684fcc87e4d3');\n",
              "          const dataTable =\n",
              "            await google.colab.kernel.invokeFunction('convertToInteractive',\n",
              "                                                     [key], {});\n",
              "          if (!dataTable) return;\n",
              "\n",
              "          const docLinkHtml = 'Like what you see? Visit the ' +\n",
              "            '<a target=\"_blank\" href=https://colab.research.google.com/notebooks/data_table.ipynb>data table notebook</a>'\n",
              "            + ' to learn more about interactive tables.';\n",
              "          element.innerHTML = '';\n",
              "          dataTable['output_type'] = 'display_data';\n",
              "          await google.colab.output.renderOutput(dataTable, element);\n",
              "          const docLink = document.createElement('div');\n",
              "          docLink.innerHTML = docLinkHtml;\n",
              "          element.appendChild(docLink);\n",
              "        }\n",
              "      </script>\n",
              "    </div>\n",
              "  </div>\n",
              "  "
            ]
          },
          "metadata": {},
          "execution_count": 4
        }
      ],
      "source": [
        "df = pd.read_csv('drive/MyDrive/hockey_players.csv', encoding=\"ISO-8859-1\")\n",
        "df.head()"
      ]
    },
    {
      "cell_type": "code",
      "source": [
        "df.shape"
      ],
      "metadata": {
        "colab": {
          "base_uri": "https://localhost:8080/"
        },
        "id": "FLoY_ac0fWCD",
        "outputId": "e265cf26-dd9c-42f5-befe-37223dd4273e"
      },
      "execution_count": null,
      "outputs": [
        {
          "output_type": "execute_result",
          "data": {
            "text/plain": [
              "(6292, 13)"
            ]
          },
          "metadata": {},
          "execution_count": 5
        }
      ]
    },
    {
      "cell_type": "markdown",
      "metadata": {
        "id": "j7CdH1X2XrTV"
      },
      "source": [
        "Пусть дана выборка $X = (x_1, x_2, \\dots, x_n)$ из значений одномерной случайной величины. \n",
        "\n",
        "Одной из наиболее частых и простых статистик таких выборок является __среднее арифметическое__ (или __выборочное среднее__). Оно обозначается как $\\overline{X}$:\n",
        "$$\\overline{X} = \\dfrac{1}{n} \\displaystyle\\sum_{i = 1}^n x_i$$\n",
        "\n",
        "Выборочное среднее является __оценкой__ для математического ожидания. \n",
        "\n",
        "Это означает, что, как правило, чем больше элементов в выборке, тем ближе выборочное среднее этой выборки к математическому ожиданию соответствующей случайной величины. \n",
        "\n",
        "Конечно, возможно придумать и исключения. Например, для $X = (0, 0, 0, ...)$ выборочное среднее никак не будет зависеть от размера выборки, на которой оно рассчитывается и сразу будет равно математическому ожиданию. Хотя, можно ли считать такую величину случайной...? "
      ]
    },
    {
      "cell_type": "markdown",
      "metadata": {
        "id": "NVGOFbE4XrTV"
      },
      "source": [
        "__Пример 1__\n",
        "\n",
        "Найдем выборочное среднее роста хоккеистов из датасета по формуле."
      ]
    },
    {
      "cell_type": "code",
      "execution_count": null,
      "metadata": {
        "id": "8yLDxwZINKv0",
        "outputId": "94e0abff-c792-446c-b6fc-e1f48174af60",
        "colab": {
          "base_uri": "https://localhost:8080/"
        }
      },
      "outputs": [
        {
          "output_type": "execute_result",
          "data": {
            "text/plain": [
              "183.81150667514305"
            ]
          },
          "metadata": {},
          "execution_count": 6
        }
      ],
      "source": [
        "mean_height = df['height'].sum() / df['height'].shape[0]\n",
        "mean_height"
      ]
    },
    {
      "cell_type": "markdown",
      "metadata": {
        "id": "apehcU5jNKwF"
      },
      "source": [
        "Эту же величину можно вычислить сразу с помощью метода `.mean`."
      ]
    },
    {
      "cell_type": "code",
      "execution_count": null,
      "metadata": {
        "id": "4tPnNQLtNKwJ",
        "outputId": "dede941a-b167-42a9-fad7-da26e1107afb",
        "colab": {
          "base_uri": "https://localhost:8080/"
        }
      },
      "outputs": [
        {
          "output_type": "execute_result",
          "data": {
            "text/plain": [
              "183.81150667514305"
            ]
          },
          "metadata": {},
          "execution_count": 7
        }
      ],
      "source": [
        "df['height'].mean()"
      ]
    },
    {
      "cell_type": "markdown",
      "source": [
        "Рассмотрим как меняется выборочное среднее при изменении размера учитываемой выборки."
      ],
      "metadata": {
        "id": "DKjr7sAfhxwE"
      }
    },
    {
      "cell_type": "code",
      "source": [
        "mean_list = []\n",
        "for i in range(1, 62):\n",
        "  mean_list.append(df['height'][0:i*100].mean())"
      ],
      "metadata": {
        "id": "6LHewL9ifNU0"
      },
      "execution_count": null,
      "outputs": []
    },
    {
      "cell_type": "code",
      "source": [
        "plt.plot(list(range(100, 6200, 100)), mean_list)\n",
        "plt.show()"
      ],
      "metadata": {
        "colab": {
          "base_uri": "https://localhost:8080/",
          "height": 265
        },
        "id": "2jVrrM12fyhT",
        "outputId": "956a6e1f-5505-4755-89bb-e3aa0d90ec8a"
      },
      "execution_count": null,
      "outputs": [
        {
          "output_type": "display_data",
          "data": {
            "text/plain": [
              "<Figure size 432x288 with 1 Axes>"
            ],
            "image/png": "[encoded data removed]"
          },
          "metadata": {
            "needs_background": "light"
          }
        }
      ]
    },
    {
      "cell_type": "markdown",
      "metadata": {
        "id": "vBG7c09JXrTX"
      },
      "source": [
        "__Выборчная дисперсия__, как следует из названия, оценивает дисперсию случайной величины:\n",
        "$$\\sigma_X^2 = \\dfrac{1}{n} \\displaystyle\\sum_{i = 1}^n \\left( x_i - \\overline{X} \\right)^2$$"
      ]
    },
    {
      "cell_type": "markdown",
      "metadata": {
        "id": "MZGoTeKFXrTX"
      },
      "source": [
        "__Пример 2__\n",
        "\n",
        "Посчитаем выборочную дисперсию роста хоккеистов."
      ]
    },
    {
      "cell_type": "code",
      "execution_count": null,
      "metadata": {
        "id": "Et9Gc8QTXrTX",
        "outputId": "f34e4973-d519-4ba8-c1f5-17ad3fbcc179"
      },
      "outputs": [
        {
          "data": {
            "text/plain": [
              "29.885888087815086"
            ]
          },
          "execution_count": 6,
          "metadata": {},
          "output_type": "execute_result"
        }
      ],
      "source": [
        "((df['height'] - df['height'].mean()) ** 2).sum() / df['height'].shape[0]"
      ]
    },
    {
      "cell_type": "markdown",
      "metadata": {
        "id": "gDNtBKGwXrTY"
      },
      "source": [
        "То же с помощью готовой функции `.var`:"
      ]
    },
    {
      "cell_type": "code",
      "execution_count": null,
      "metadata": {
        "id": "e-8s2ErHXrTY",
        "outputId": "4f3dabc9-d023-4968-8ff2-74b104ec1454"
      },
      "outputs": [
        {
          "data": {
            "text/plain": [
              "29.894963668771"
            ]
          },
          "execution_count": 8,
          "metadata": {},
          "output_type": "execute_result"
        }
      ],
      "source": [
        "df['height'].var()"
      ]
    },
    {
      "cell_type": "markdown",
      "metadata": {
        "id": "hjv1fkhkXrTY"
      },
      "source": [
        "Значения не совпали. Почему?\n",
        "\n",
        "Несмотря на кажущуюся естественность, данная оценка является не очень хорошей в силу своей __смещённости__. Поэтому в практических задачах используют __несмещённую оценку дисперсии__:\n",
        "$$\\sigma_{X, \\: unbiased}^2 = \\dfrac{1}{n - 1} \\displaystyle\\sum_{i = 1}^n \\left( x_i - \\overline{X} \\right)^2$$\n",
        "\n",
        "__Пример 3__\n",
        "\n",
        "Несмещённая оценка дисперсии роста хоккеистов:"
      ]
    },
    {
      "cell_type": "code",
      "execution_count": null,
      "metadata": {
        "id": "mFG2NdjNXrTZ",
        "outputId": "0f06761e-696e-4701-9583-02fe7700b8e2"
      },
      "outputs": [
        {
          "data": {
            "text/plain": [
              "29.894963668771"
            ]
          },
          "execution_count": 10,
          "metadata": {},
          "output_type": "execute_result"
        }
      ],
      "source": [
        "((df['height'] - df['height'].mean()) ** 2).sum() / (df['height'].shape[0] - 1)"
      ]
    },
    {
      "cell_type": "markdown",
      "metadata": {
        "id": "fpyFNSjvXrTZ"
      },
      "source": [
        "Что такое смещённая и несмещённая оценки?\n",
        "\n",
        "На самом деле каждый объект из выборки — это тоже случайная величина (поскольку выбирается случайным образом). В таком случае и любая статистика (т.е. функция от выборки) является случайной величиной.\n",
        "\n",
        "Оценка некоторого параметра случайной величины называется __несмещённой__, если математическое ожидание этой оценки равняется реальному значению этого параметра.\n",
        "\n",
        "Например, пусть выборка $X$ берётся из значений случайной величины $x$.Тогда выборочное среднее является несмещённой оценкой математического ожидания:\n",
        "$$M \\left( \\overline{X} \\right) = M(x)$$\n",
        "    \n",
        "В практическом смысле это означает, что если мы рассмотрим большое количество различных выборок, то, хотя выборочное среднее каждой из них вряд ли будет равно математическому ожиданию $x$, в среднем мы получим именно его.\n",
        "    \n",
        "Оказывается, обычная оценка дисперсии является смещённой:\n",
        "$$M \\left(\\sigma_X^2 \\right) = \\dfrac{n - 1}{n} D(x)$$\n",
        "\n",
        "_Замечание_. При оценке дисперсии (да и вообще) используют именно несмещённые оценки. В дальнейшем под $\\sigma_X^2$ мы будем понимать именно несмещённую оценку:\n",
        "$$\\sigma_X^2 = \\dfrac{1}{n - 1} \\displaystyle\\sum_{i = 1}^n \\left( x_i - \\overline{X} \\right)^2$$\n",
        "\n",
        "Контролировать смещение этой и подобных оценок можно с помощью аргумента `ddof` (Delta Degrees of Freedom). В этом параметре указывается то, сколько нужно вычесть из количества элементов в выборке. Например, смещённую оценку можно получить, указав аргумент `ddof=0`:"
      ]
    },
    {
      "cell_type": "code",
      "execution_count": null,
      "metadata": {
        "id": "s8UIwvBkXrTZ",
        "outputId": "e8cef489-4adc-4155-db0d-bc6fc1b76774"
      },
      "outputs": [
        {
          "data": {
            "text/plain": [
              "29.885888087815086"
            ]
          },
          "execution_count": 11,
          "metadata": {},
          "output_type": "execute_result"
        }
      ],
      "source": [
        "df['height'].var(ddof=0)"
      ]
    },
    {
      "cell_type": "markdown",
      "metadata": {
        "id": "xiOydIxlXrTa"
      },
      "source": [
        "_Замечание_: с этим параметром стоит быть осторожным, потому что его значение по умолчанию отличается в библиотеках `numpy` и `pandas`:"
      ]
    },
    {
      "cell_type": "code",
      "execution_count": null,
      "metadata": {
        "scrolled": true,
        "id": "y6cVwF62XrTa",
        "outputId": "7db4470b-9d9d-4320-8eeb-056526995101"
      },
      "outputs": [
        {
          "name": "stdout",
          "output_type": "stream",
          "text": [
            "Help on function var in module pandas.core.frame:\n",
            "\n",
            "var(self, axis=None, skipna=None, level=None, ddof=1, numeric_only=None, **kwargs)\n",
            "    Return unbiased variance over requested axis.\n",
            "    \n",
            "    Normalized by N-1 by default. This can be changed using the ddof argument\n",
            "    \n",
            "    Parameters\n",
            "    ----------\n",
            "    axis : {index (0), columns (1)}\n",
            "    skipna : bool, default True\n",
            "        Exclude NA/null values. If an entire row/column is NA, the result\n",
            "        will be NA.\n",
            "    level : int or level name, default None\n",
            "        If the axis is a MultiIndex (hierarchical), count along a\n",
            "        particular level, collapsing into a Series.\n",
            "    ddof : int, default 1\n",
            "        Delta Degrees of Freedom. The divisor used in calculations is N - ddof,\n",
            "        where N represents the number of elements.\n",
            "    numeric_only : bool, default None\n",
            "        Include only float, int, boolean columns. If None, will attempt to use\n",
            "        everything, then use only numeric data. Not implemented for Series.\n",
            "    \n",
            "    Returns\n",
            "    -------\n",
            "    Series or DataFrame (if level specified)\n",
            "\n"
          ]
        }
      ],
      "source": [
        "help(pd.DataFrame.var)"
      ]
    },
    {
      "cell_type": "code",
      "execution_count": null,
      "metadata": {
        "id": "e-KpNKJaXrTa"
      },
      "outputs": [],
      "source": [
        "import numpy as np"
      ]
    },
    {
      "cell_type": "code",
      "execution_count": null,
      "metadata": {
        "scrolled": true,
        "id": "1pT0KirnXrTa",
        "outputId": "9c808c4e-b80d-4edf-de23-a74b5191dde6"
      },
      "outputs": [
        {
          "name": "stdout",
          "output_type": "stream",
          "text": [
            "Help on function var in module numpy:\n",
            "\n",
            "var(a, axis=None, dtype=None, out=None, ddof=0, keepdims=<no value>)\n",
            "    Compute the variance along the specified axis.\n",
            "    \n",
            "    Returns the variance of the array elements, a measure of the spread of a\n",
            "    distribution.  The variance is computed for the flattened array by\n",
            "    default, otherwise over the specified axis.\n",
            "    \n",
            "    Parameters\n",
            "    ----------\n",
            "    a : array_like\n",
            "        Array containing numbers whose variance is desired.  If `a` is not an\n",
            "        array, a conversion is attempted.\n",
            "    axis : None or int or tuple of ints, optional\n",
            "        Axis or axes along which the variance is computed.  The default is to\n",
            "        compute the variance of the flattened array.\n",
            "    \n",
            "        .. versionadded:: 1.7.0\n",
            "    \n",
            "        If this is a tuple of ints, a variance is performed over multiple axes,\n",
            "        instead of a single axis or all the axes as before.\n",
            "    dtype : data-type, optional\n",
            "        Type to use in computing the variance.  For arrays of integer type\n",
            "        the default is `float64`; for arrays of float types it is the same as\n",
            "        the array type.\n",
            "    out : ndarray, optional\n",
            "        Alternate output array in which to place the result.  It must have\n",
            "        the same shape as the expected output, but the type is cast if\n",
            "        necessary.\n",
            "    ddof : int, optional\n",
            "        \"Delta Degrees of Freedom\": the divisor used in the calculation is\n",
            "        ``N - ddof``, where ``N`` represents the number of elements. By\n",
            "        default `ddof` is zero.\n",
            "    keepdims : bool, optional\n",
            "        If this is set to True, the axes which are reduced are left\n",
            "        in the result as dimensions with size one. With this option,\n",
            "        the result will broadcast correctly against the input array.\n",
            "    \n",
            "        If the default value is passed, then `keepdims` will not be\n",
            "        passed through to the `var` method of sub-classes of\n",
            "        `ndarray`, however any non-default value will be.  If the\n",
            "        sub-class' method does not implement `keepdims` any\n",
            "        exceptions will be raised.\n",
            "    \n",
            "    Returns\n",
            "    -------\n",
            "    variance : ndarray, see dtype parameter above\n",
            "        If ``out=None``, returns a new array containing the variance;\n",
            "        otherwise, a reference to the output array is returned.\n",
            "    \n",
            "    See Also\n",
            "    --------\n",
            "    std, mean, nanmean, nanstd, nanvar\n",
            "    ufuncs-output-type\n",
            "    \n",
            "    Notes\n",
            "    -----\n",
            "    The variance is the average of the squared deviations from the mean,\n",
            "    i.e.,  ``var = mean(abs(x - x.mean())**2)``.\n",
            "    \n",
            "    The mean is normally calculated as ``x.sum() / N``, where ``N = len(x)``.\n",
            "    If, however, `ddof` is specified, the divisor ``N - ddof`` is used\n",
            "    instead.  In standard statistical practice, ``ddof=1`` provides an\n",
            "    unbiased estimator of the variance of a hypothetical infinite population.\n",
            "    ``ddof=0`` provides a maximum likelihood estimate of the variance for\n",
            "    normally distributed variables.\n",
            "    \n",
            "    Note that for complex numbers, the absolute value is taken before\n",
            "    squaring, so that the result is always real and nonnegative.\n",
            "    \n",
            "    For floating-point input, the variance is computed using the same\n",
            "    precision the input has.  Depending on the input data, this can cause\n",
            "    the results to be inaccurate, especially for `float32` (see example\n",
            "    below).  Specifying a higher-accuracy accumulator using the ``dtype``\n",
            "    keyword can alleviate this issue.\n",
            "    \n",
            "    Examples\n",
            "    --------\n",
            "    >>> a = np.array([[1, 2], [3, 4]])\n",
            "    >>> np.var(a)\n",
            "    1.25\n",
            "    >>> np.var(a, axis=0)\n",
            "    array([1.,  1.])\n",
            "    >>> np.var(a, axis=1)\n",
            "    array([0.25,  0.25])\n",
            "    \n",
            "    In single precision, var() can be inaccurate:\n",
            "    \n",
            "    >>> a = np.zeros((2, 512*512), dtype=np.float32)\n",
            "    >>> a[0, :] = 1.0\n",
            "    >>> a[1, :] = 0.1\n",
            "    >>> np.var(a)\n",
            "    0.20250003\n",
            "    \n",
            "    Computing the variance in float64 is more accurate:\n",
            "    \n",
            "    >>> np.var(a, dtype=np.float64)\n",
            "    0.20249999932944759 # may vary\n",
            "    >>> ((1-0.55)**2 + (0.1-0.55)**2)/2\n",
            "    0.2025\n",
            "\n"
          ]
        }
      ],
      "source": [
        "help(np.var)"
      ]
    },
    {
      "cell_type": "markdown",
      "metadata": {
        "id": "Oy0NnulJXrTa"
      },
      "source": [
        "Вообще, дисперсия является не очень наглядной мерой разброса, поскольку имеет другую размерность. Поэтому часто наряду (или даже вместо) с дисперсией используют __среднее квадратическое отклонение__, равное корню из дисперсии (таким образом размерность такой оценки будет равна размерности исходного параметра) .\n",
        "\n",
        "Оценивается среднее квадратическое отклонение аналогично дисперсии. Смещённая и несмещённая оценки:\n",
        "$$\\sigma_X = \\sqrt{\\dfrac{1}{n} \\displaystyle\\sum_{i = 1}^n \\left( x_i - \\overline{X} \\right)^2}, \\:\\:\n",
        "\\sigma_{X, \\: unbiased} = \\sqrt{\\dfrac{1}{n - 1} \\displaystyle\\sum_{i = 1}^n \\left( x_i - \\overline{X} \\right)^2}$$\n",
        "\n",
        "Как и в случае с дисперсией, под $\\sigma_X$ все понимают именно _несмещённую_ оценку."
      ]
    },
    {
      "cell_type": "markdown",
      "metadata": {
        "id": "ZgrD-GpzXrTb"
      },
      "source": [
        "__Пример 4__\n",
        "\n",
        "Среднее квадратическое отклонение роста хоккеистов (несмещённая оценка):"
      ]
    },
    {
      "cell_type": "code",
      "execution_count": null,
      "metadata": {
        "id": "5zJervIzXrTb",
        "outputId": "d4a3c7c4-8756-41d4-b32a-46541e35082b"
      },
      "outputs": [
        {
          "data": {
            "text/plain": [
              "5.467628706191652"
            ]
          },
          "execution_count": 15,
          "metadata": {},
          "output_type": "execute_result"
        }
      ],
      "source": [
        "np.sqrt(((df['height'] - df['height'].mean()) ** 2).sum() / (df['height'].shape[0] - 1))"
      ]
    },
    {
      "cell_type": "markdown",
      "metadata": {
        "id": "yXF8fODmXrTb"
      },
      "source": [
        "То же с помощью готовой функции `.std`:"
      ]
    },
    {
      "cell_type": "code",
      "execution_count": null,
      "metadata": {
        "id": "7DaXVEspXrTb",
        "outputId": "efc14856-5681-4dc4-efab-cda421bb1041"
      },
      "outputs": [
        {
          "data": {
            "text/plain": [
              "5.467628706191652"
            ]
          },
          "execution_count": 16,
          "metadata": {},
          "output_type": "execute_result"
        }
      ],
      "source": [
        "df['height'].std(ddof=1)"
      ]
    },
    {
      "cell_type": "markdown",
      "metadata": {
        "id": "c-KeOWaVXrTb"
      },
      "source": [
        "В среднем рост хоккеистов отклоняется от своего среднего примерно на $5.4676$."
      ]
    },
    {
      "cell_type": "markdown",
      "metadata": {
        "id": "O8WYqLXPXrTb"
      },
      "source": [
        "### Мода,  медиана, квантиль\n",
        "\n",
        "__Мода__ — наиболее часто встречающееся в выборке значение.\n",
        "\n",
        "__Пример 5__\n",
        "\n",
        "Для начала посмотрим, как часто встречаются в выборке те или иные значения роста. Это можно сделать с помощью метода `.value_counts`:"
      ]
    },
    {
      "cell_type": "code",
      "execution_count": null,
      "metadata": {
        "id": "vElQAFcoXrTc",
        "outputId": "3fc73354-c1d0-4196-db72-0d60b8fdec49",
        "colab": {
          "base_uri": "https://localhost:8080/"
        }
      },
      "outputs": [
        {
          "output_type": "execute_result",
          "data": {
            "text/plain": [
              "183    586\n",
              "180    580\n",
              "185    510\n",
              "188    478\n",
              "182    464\n",
              "184    388\n",
              "178    360\n",
              "186    332\n",
              "181    297\n",
              "190    284\n",
              "Name: height, dtype: int64"
            ]
          },
          "metadata": {},
          "execution_count": 4
        }
      ],
      "source": [
        "df['height'].value_counts().head(10)"
      ]
    },
    {
      "cell_type": "markdown",
      "metadata": {
        "id": "MdlqYBNDXrTc"
      },
      "source": [
        "Чаще всего встречается значение $183$. Это и есть мода. Её можно также посчитать с помощью метода `.mode`:"
      ]
    },
    {
      "cell_type": "code",
      "execution_count": null,
      "metadata": {
        "id": "epG3pOw6XrTc",
        "outputId": "0948aa57-1c43-472d-d333-fdff5a0b095b",
        "colab": {
          "base_uri": "https://localhost:8080/"
        }
      },
      "outputs": [
        {
          "output_type": "execute_result",
          "data": {
            "text/plain": [
              "0    183\n",
              "Name: height, dtype: int64"
            ]
          },
          "metadata": {},
          "execution_count": 5
        }
      ],
      "source": [
        "df['height'].mode()"
      ]
    },
    {
      "cell_type": "markdown",
      "metadata": {
        "id": "6-PlC7PoXrTc"
      },
      "source": [
        "Обычно мода рассматривается в том же контексте, что и выборочное среднее: она позволяет получить некоторую информацию о выборке «в среднем»."
      ]
    },
    {
      "cell_type": "code",
      "execution_count": null,
      "metadata": {
        "id": "mkkyw2cYXrTc",
        "outputId": "96e85ca2-411c-46b5-9559-ca8db82211b6"
      },
      "outputs": [
        {
          "data": {
            "text/plain": [
              "183.829386763813"
            ]
          },
          "execution_count": 19,
          "metadata": {},
          "output_type": "execute_result"
        }
      ],
      "source": [
        "df['height'].mean()"
      ]
    },
    {
      "cell_type": "markdown",
      "metadata": {
        "id": "ne2_Fi_0XrTc"
      },
      "source": [
        "__Медиана__ — такое значение $t$, что половина элементов из выборки меньше, либо равна $t$, и, соответственно, половина больше, либо равна $t$.\n",
        "\n",
        "Медиана представляет собой _середину_ выборки: если отсортировать элементы выборки по возрастанию, то медиана приходится на середину. \n",
        "\n",
        "Медиана может приходиться как на промежуток между элементами выборки, так и на конкретный элемент.\n",
        "\n",
        "__Пример 6__\n",
        "\n",
        "Посчитаем медиану роста хоккеистов. Для начала воспользуемся определением. Нужно отсортировать значения из выборки и взять середину этого массива. Посчитаем размер выборки:"
      ]
    },
    {
      "cell_type": "code",
      "execution_count": null,
      "metadata": {
        "id": "3KhhMFEQXrTd",
        "outputId": "f507b24a-fa89-4eaa-8bd8-19da4ff50d43"
      },
      "outputs": [
        {
          "data": {
            "text/plain": [
              "3294"
            ]
          },
          "execution_count": 20,
          "metadata": {},
          "output_type": "execute_result"
        }
      ],
      "source": [
        "height = sorted(df['height'])\n",
        "\n",
        "length = len(height)\n",
        "length"
      ]
    },
    {
      "cell_type": "code",
      "execution_count": null,
      "metadata": {
        "id": "CpVTXqbyXrTd",
        "outputId": "72f1b54c-ec15-4fbc-be02-df9a009ada20"
      },
      "outputs": [
        {
          "data": {
            "text/plain": [
              "1647"
            ]
          },
          "execution_count": 21,
          "metadata": {},
          "output_type": "execute_result"
        }
      ],
      "source": [
        "length // 2"
      ]
    },
    {
      "cell_type": "markdown",
      "metadata": {
        "id": "ktWXX6ygXrTd"
      },
      "source": [
        "В выборке чётное число элементов, значит, медиана придётся на промежуток на стыке двух половинок массива, т.е. где-то между элементами с индексами `length / 2 - 1` и `length / 2`."
      ]
    },
    {
      "cell_type": "code",
      "execution_count": null,
      "metadata": {
        "id": "LpfqfuxNXrTd",
        "outputId": "d2c68d97-540c-41ec-df83-5bcb4493d520"
      },
      "outputs": [
        {
          "data": {
            "text/plain": [
              "[184, 184]"
            ]
          },
          "execution_count": 22,
          "metadata": {},
          "output_type": "execute_result"
        }
      ],
      "source": [
        "height[length // 2 - 1 : length // 2 + 1]"
      ]
    },
    {
      "cell_type": "markdown",
      "metadata": {
        "id": "PYPBVinCXrTd"
      },
      "source": [
        "В нашем случае оба значения равны, поэтому медиана равна $184$. Посмотрим, сколько процентов выборки лежат слева и справа от медианы."
      ]
    },
    {
      "cell_type": "code",
      "execution_count": null,
      "metadata": {
        "id": "01j2GpUAXrTe",
        "outputId": "5186bdb5-e3e0-4116-df4b-f9d5019cd84e"
      },
      "outputs": [
        {
          "data": {
            "text/plain": [
              "0.5525197328476017"
            ]
          },
          "execution_count": 23,
          "metadata": {},
          "output_type": "execute_result"
        }
      ],
      "source": [
        "median = 184\n",
        "\n",
        "(df['height'] <= median).sum() / length"
      ]
    },
    {
      "cell_type": "code",
      "execution_count": null,
      "metadata": {
        "id": "tZQikdaOXrTe",
        "outputId": "509ebbef-e8ed-4b56-a871-c4152262fd65"
      },
      "outputs": [
        {
          "data": {
            "text/plain": [
              "0.5057680631451124"
            ]
          },
          "execution_count": 24,
          "metadata": {},
          "output_type": "execute_result"
        }
      ],
      "source": [
        "(df['height'] >= median).sum() / length"
      ]
    },
    {
      "cell_type": "code",
      "execution_count": null,
      "metadata": {
        "id": "tS1-rog2XrTe",
        "outputId": "b4d9f3db-aded-4da5-fb49-48cb304c3617"
      },
      "outputs": [
        {
          "data": {
            "text/plain": [
              "184.0"
            ]
          },
          "execution_count": 25,
          "metadata": {},
          "output_type": "execute_result"
        }
      ],
      "source": [
        "df['height'].median()"
      ]
    },
    {
      "cell_type": "markdown",
      "metadata": {
        "id": "QFNS8_h-XrTe"
      },
      "source": [
        "Медиана также является мерой среднего, как выборочное среднее и мода."
      ]
    },
    {
      "cell_type": "code",
      "execution_count": null,
      "metadata": {
        "id": "zsUftJmdXrTe",
        "outputId": "8acb16e1-9af5-4985-f89e-207b882139d5"
      },
      "outputs": [
        {
          "data": {
            "text/plain": [
              "183.829386763813"
            ]
          },
          "execution_count": 26,
          "metadata": {},
          "output_type": "execute_result"
        }
      ],
      "source": [
        "df['height'].mean()"
      ]
    },
    {
      "cell_type": "markdown",
      "metadata": {
        "id": "fUWkpBnHXrTe"
      },
      "source": [
        "В случаях, когда число элементов в выборке нечётно, медианой является значение, которое стоит ровно посередине отсортированного массива. Если же в массиве чётное число значений, ровную середину посчитать невозможно, поэтому медианой может служить любое значение между крайним правым значением левой половины и крайним левым значением правой половины."
      ]
    },
    {
      "cell_type": "code",
      "execution_count": null,
      "metadata": {
        "scrolled": true,
        "id": "uW0V8NvsXrTf",
        "outputId": "a381a353-8c3e-4066-8274-42ec0d8a9094"
      },
      "outputs": [
        {
          "name": "stdout",
          "output_type": "stream",
          "text": [
            "Help on function quantile in module numpy:\n",
            "\n",
            "quantile(a, q, axis=None, out=None, overwrite_input=False, interpolation='linear', keepdims=False)\n",
            "    Compute the q-th quantile of the data along the specified axis.\n",
            "    \n",
            "    .. versionadded:: 1.15.0\n",
            "    \n",
            "    Parameters\n",
            "    ----------\n",
            "    a : array_like\n",
            "        Input array or object that can be converted to an array.\n",
            "    q : array_like of float\n",
            "        Quantile or sequence of quantiles to compute, which must be between\n",
            "        0 and 1 inclusive.\n",
            "    axis : {int, tuple of int, None}, optional\n",
            "        Axis or axes along which the quantiles are computed. The\n",
            "        default is to compute the quantile(s) along a flattened\n",
            "        version of the array.\n",
            "    out : ndarray, optional\n",
            "        Alternative output array in which to place the result. It must\n",
            "        have the same shape and buffer length as the expected output,\n",
            "        but the type (of the output) will be cast if necessary.\n",
            "    overwrite_input : bool, optional\n",
            "        If True, then allow the input array `a` to be modified by intermediate\n",
            "        calculations, to save memory. In this case, the contents of the input\n",
            "        `a` after this function completes is undefined.\n",
            "    interpolation : {'linear', 'lower', 'higher', 'midpoint', 'nearest'}\n",
            "        This optional parameter specifies the interpolation method to\n",
            "        use when the desired quantile lies between two data points\n",
            "        ``i < j``:\n",
            "    \n",
            "            * linear: ``i + (j - i) * fraction``, where ``fraction``\n",
            "              is the fractional part of the index surrounded by ``i``\n",
            "              and ``j``.\n",
            "            * lower: ``i``.\n",
            "            * higher: ``j``.\n",
            "            * nearest: ``i`` or ``j``, whichever is nearest.\n",
            "            * midpoint: ``(i + j) / 2``.\n",
            "    keepdims : bool, optional\n",
            "        If this is set to True, the axes which are reduced are left in\n",
            "        the result as dimensions with size one. With this option, the\n",
            "        result will broadcast correctly against the original array `a`.\n",
            "    \n",
            "    Returns\n",
            "    -------\n",
            "    quantile : scalar or ndarray\n",
            "        If `q` is a single quantile and `axis=None`, then the result\n",
            "        is a scalar. If multiple quantiles are given, first axis of\n",
            "        the result corresponds to the quantiles. The other axes are\n",
            "        the axes that remain after the reduction of `a`. If the input\n",
            "        contains integers or floats smaller than ``float64``, the output\n",
            "        data-type is ``float64``. Otherwise, the output data-type is the\n",
            "        same as that of the input. If `out` is specified, that array is\n",
            "        returned instead.\n",
            "    \n",
            "    See Also\n",
            "    --------\n",
            "    mean\n",
            "    percentile : equivalent to quantile, but with q in the range [0, 100].\n",
            "    median : equivalent to ``quantile(..., 0.5)``\n",
            "    nanquantile\n",
            "    \n",
            "    Notes\n",
            "    -----\n",
            "    Given a vector ``V`` of length ``N``, the q-th quantile of\n",
            "    ``V`` is the value ``q`` of the way from the minimum to the\n",
            "    maximum in a sorted copy of ``V``. The values and distances of\n",
            "    the two nearest neighbors as well as the `interpolation` parameter\n",
            "    will determine the quantile if the normalized ranking does not\n",
            "    match the location of ``q`` exactly. This function is the same as\n",
            "    the median if ``q=0.5``, the same as the minimum if ``q=0.0`` and the\n",
            "    same as the maximum if ``q=1.0``.\n",
            "    \n",
            "    Examples\n",
            "    --------\n",
            "    >>> a = np.array([[10, 7, 4], [3, 2, 1]])\n",
            "    >>> a\n",
            "    array([[10,  7,  4],\n",
            "           [ 3,  2,  1]])\n",
            "    >>> np.quantile(a, 0.5)\n",
            "    3.5\n",
            "    >>> np.quantile(a, 0.5, axis=0)\n",
            "    array([6.5, 4.5, 2.5])\n",
            "    >>> np.quantile(a, 0.5, axis=1)\n",
            "    array([7.,  2.])\n",
            "    >>> np.quantile(a, 0.5, axis=1, keepdims=True)\n",
            "    array([[7.],\n",
            "           [2.]])\n",
            "    >>> m = np.quantile(a, 0.5, axis=0)\n",
            "    >>> out = np.zeros_like(m)\n",
            "    >>> np.quantile(a, 0.5, axis=0, out=out)\n",
            "    array([6.5, 4.5, 2.5])\n",
            "    >>> m\n",
            "    array([6.5, 4.5, 2.5])\n",
            "    >>> b = a.copy()\n",
            "    >>> np.quantile(b, 0.5, axis=1, overwrite_input=True)\n",
            "    array([7.,  2.])\n",
            "    >>> assert not np.all(a == b)\n",
            "\n"
          ]
        }
      ],
      "source": [
        "help(np.quantile)"
      ]
    },
    {
      "cell_type": "markdown",
      "metadata": {
        "id": "Wbup8tHlXrTf"
      },
      "source": [
        "Медиана является частным случаем более общего понятия — _квантиля_. \n",
        "\n",
        "Пусть $\\alpha \\in (0, 1)$. __Квантиль порядка $\\alpha$__ — такое число $t_\\alpha$, что «$\\alpha$ процентов» всех элементов выборки меньше $t_\\alpha$ и, соответственно, «$(1 - \\alpha)$ процентов» элементов — больше $t_\\alpha$.\n",
        "\n",
        "Как и в случае с медианой, квантиль может как приходиться на один из элементов выборки, так и лежать где-то между ними.\n",
        "\n",
        "Из определения следует, что медиана является квантилем порядка $0.5$. Кроме того, часто используют:\n",
        "\n",
        "* __первый квартиль__ — квантиль порядка $0.25$ (т.е. значение, которое не превышают $25 \\%$ значений из выборки),\n",
        "* __второй квартиль__ — то же, что и медиана,\n",
        "* __третий квартиль__ — квантиль порядка $0.75$.\n",
        "\n",
        "Также могут встречаться:\n",
        "* __децили__ — то же, что и квартили, но делим мы не на $4$ части, а на $10$. Например, медиана будет пятым децилем,\n",
        "* __перцентили__ — это просто другой способ задать квантиль. Здесь мы используем не долю $\\alpha \\in (0, 1)$, а процент. Например, третий квартиль будет $75$-перцентилем.\n",
        "\n",
        "__Пример 7__\n",
        "\n",
        "Посчитаем первый и третий квартили значений роста хоккеистов. Вычисления аналогичны случаю вычисления медианы, однако нам нужно делить массив не в пропорции $1 : 1$, а в пропорции $\\alpha : (1 - \\alpha)$. Например, первый квартиль:"
      ]
    },
    {
      "cell_type": "code",
      "execution_count": null,
      "metadata": {
        "id": "kYM-bNHSXrTf",
        "outputId": "fc566cfc-cd80-4d3d-b4b9-b3851076cd86"
      },
      "outputs": [
        {
          "data": {
            "text/plain": [
              "False"
            ]
          },
          "execution_count": 28,
          "metadata": {},
          "output_type": "execute_result"
        }
      ],
      "source": [
        "length % 4 == 0"
      ]
    },
    {
      "cell_type": "code",
      "execution_count": null,
      "metadata": {
        "id": "BfezzfP7XrTf",
        "outputId": "8d10cdad-e045-4b45-b66e-73203f929602"
      },
      "outputs": [
        {
          "data": {
            "text/plain": [
              "1647"
            ]
          },
          "execution_count": 29,
          "metadata": {},
          "output_type": "execute_result"
        }
      ],
      "source": [
        "length // 2"
      ]
    },
    {
      "cell_type": "code",
      "execution_count": null,
      "metadata": {
        "id": "tjAOidnLXrTf",
        "outputId": "a0e56c06-0b8c-4bc8-b56c-85b36fd17c3e"
      },
      "outputs": [
        {
          "data": {
            "text/plain": [
              "824"
            ]
          },
          "execution_count": 30,
          "metadata": {},
          "output_type": "execute_result"
        }
      ],
      "source": [
        "(length // 2 + 1) // 2"
      ]
    },
    {
      "cell_type": "code",
      "execution_count": null,
      "metadata": {
        "id": "ujFOEpX9XrTg",
        "outputId": "93811c62-aafc-4442-a314-49efdee8354b"
      },
      "outputs": [
        {
          "data": {
            "text/plain": [
              "[180, 180, 180]"
            ]
          },
          "execution_count": 31,
          "metadata": {},
          "output_type": "execute_result"
        }
      ],
      "source": [
        "height[(length // 2 + 1) // 2 - 1 : (length // 2 + 1) // 2 + 2]"
      ]
    },
    {
      "cell_type": "code",
      "execution_count": null,
      "metadata": {
        "id": "X3sG5_ovXrTg",
        "outputId": "2cfafb18-dd39-4471-9b8d-b653c54481d5"
      },
      "outputs": [
        {
          "data": {
            "text/plain": [
              "0.29143897996357016"
            ]
          },
          "execution_count": 32,
          "metadata": {},
          "output_type": "execute_result"
        }
      ],
      "source": [
        "q1 = 180\n",
        "\n",
        "(df['height'] <= q1).sum() / length"
      ]
    },
    {
      "cell_type": "code",
      "execution_count": null,
      "metadata": {
        "id": "XGte7FXvXrTg",
        "outputId": "6e1a4d33-0a99-4476-d397-33263ce85ab2"
      },
      "outputs": [
        {
          "data": {
            "text/plain": [
              "0.8011536126290225"
            ]
          },
          "execution_count": 33,
          "metadata": {},
          "output_type": "execute_result"
        }
      ],
      "source": [
        "(df['height'] >= q1).sum() / length"
      ]
    },
    {
      "cell_type": "code",
      "execution_count": null,
      "metadata": {
        "id": "ntOMUu3bXrTg",
        "outputId": "d44057bf-b732-4670-d12a-ee1af6db1a99"
      },
      "outputs": [
        {
          "data": {
            "text/plain": [
              "180.0"
            ]
          },
          "execution_count": 34,
          "metadata": {},
          "output_type": "execute_result"
        }
      ],
      "source": [
        "df['height'].quantile(0.25)"
      ]
    },
    {
      "cell_type": "markdown",
      "metadata": {
        "id": "OWmAMl_IXrTg"
      },
      "source": [
        "Третий квартиль:"
      ]
    },
    {
      "cell_type": "code",
      "execution_count": null,
      "metadata": {
        "id": "7qEX1jwWXrTg",
        "outputId": "92f07482-3b9b-47f2-cf80-217056819f19"
      },
      "outputs": [
        {
          "data": {
            "text/plain": [
              "[188, 188, 188]"
            ]
          },
          "execution_count": 35,
          "metadata": {},
          "output_type": "execute_result"
        }
      ],
      "source": [
        "height[(length * 3 // 2 + 1) // 2 - 1 : (length * 3 // 2 + 1) // 2 + 2]"
      ]
    },
    {
      "cell_type": "code",
      "execution_count": null,
      "metadata": {
        "id": "oupcBj6WXrTh",
        "outputId": "56a2b875-a6ef-475d-90d1-1a0e15753c5e"
      },
      "outputs": [
        {
          "data": {
            "text/plain": [
              "0.8169398907103825"
            ]
          },
          "execution_count": 36,
          "metadata": {},
          "output_type": "execute_result"
        }
      ],
      "source": [
        "q3 = 188\n",
        "\n",
        "(df['height'] <= q3).sum() / length"
      ]
    },
    {
      "cell_type": "code",
      "execution_count": null,
      "metadata": {
        "id": "Q_696hOGXrTh",
        "outputId": "9a35e58f-de3b-4226-efdd-b5e023311f72"
      },
      "outputs": [
        {
          "data": {
            "text/plain": [
              "0.2641165755919854"
            ]
          },
          "execution_count": 37,
          "metadata": {},
          "output_type": "execute_result"
        }
      ],
      "source": [
        "(df['height'] >= q3).sum() / length"
      ]
    },
    {
      "cell_type": "code",
      "execution_count": null,
      "metadata": {
        "id": "Rr_uXBIhXrTh",
        "outputId": "4a16ef98-17bb-4eee-c3ac-f522ba535766"
      },
      "outputs": [
        {
          "data": {
            "text/plain": [
              "188.0"
            ]
          },
          "execution_count": 38,
          "metadata": {},
          "output_type": "execute_result"
        }
      ],
      "source": [
        "df['height'].quantile(0.75)"
      ]
    },
    {
      "cell_type": "markdown",
      "metadata": {
        "id": "Zt-TJVHJXrTh"
      },
      "source": [
        "В этот метод можно подать список значений, тогда посчитаются различные квантили:"
      ]
    },
    {
      "cell_type": "code",
      "execution_count": null,
      "metadata": {
        "id": "imjoBoFkXrTh",
        "outputId": "0db212a7-77b6-4b9f-94c9-fd02202661dd"
      },
      "outputs": [
        {
          "data": {
            "text/plain": [
              "0.25    180.0\n",
              "0.50    184.0\n",
              "0.75    188.0\n",
              "Name: height, dtype: float64"
            ]
          },
          "execution_count": 39,
          "metadata": {},
          "output_type": "execute_result"
        }
      ],
      "source": [
        "df['height'].quantile([0.25, 0.5, 0.75])"
      ]
    },
    {
      "cell_type": "code",
      "execution_count": null,
      "metadata": {
        "id": "lWpKMJ9ZXrTh",
        "outputId": "2977714c-4528-498b-ea7e-9e63936cd4b5"
      },
      "outputs": [
        {
          "data": {
            "text/plain": [
              "count    3294.000000\n",
              "mean      183.829387\n",
              "std         5.467629\n",
              "min       165.000000\n",
              "25%       180.000000\n",
              "50%       184.000000\n",
              "75%       188.000000\n",
              "max       205.000000\n",
              "Name: height, dtype: float64"
            ]
          },
          "execution_count": 40,
          "metadata": {},
          "output_type": "execute_result"
        }
      ],
      "source": [
        "df['height'].describe()"
      ]
    },
    {
      "cell_type": "markdown",
      "metadata": {
        "id": "efYrHJKVXrTi"
      },
      "source": [
        "__Интерквартильный размах__ — это отрезок между первым и третьим квартилями. Это отрезок, в который попадают $50 \\%$ значений выборки.\n",
        "\n",
        "Интерквартильный размах используется для измерения разброса значений выборки вокруг среднего. Иногда его использование оказывается более предпочтительным, чем использование среднего квадратического отклонения, поскольку не учитывает выбросы в данных.\n",
        "\n",
        "Например, рассмотрим синтетическую выборку, в которой $1000$ раз встречается значение $1$, и всего однажды появляется значение $10000$. Его выборочное среднее и среднее квадратическое отклонение:"
      ]
    },
    {
      "cell_type": "code",
      "execution_count": null,
      "metadata": {
        "id": "b5a0VSy3XrTi"
      },
      "outputs": [],
      "source": [
        "list_ = [1] * 1000 + [10000]"
      ]
    },
    {
      "cell_type": "code",
      "execution_count": null,
      "metadata": {
        "id": "5hIyujdQXrTi",
        "outputId": "7df300ab-4bc2-4e29-c124-ca130db9913e"
      },
      "outputs": [
        {
          "data": {
            "text/plain": [
              "(10.989010989010989, 316.03816364344493)"
            ]
          },
          "execution_count": 42,
          "metadata": {},
          "output_type": "execute_result"
        }
      ],
      "source": [
        "np.mean(list_), np.std(list_, ddof=1)"
      ]
    },
    {
      "cell_type": "markdown",
      "metadata": {
        "id": "JxnhHScqXrTi"
      },
      "source": [
        "При этом, интерквартильный размах:"
      ]
    },
    {
      "cell_type": "code",
      "execution_count": null,
      "metadata": {
        "id": "y2dCdsDRXrTi",
        "outputId": "7d524213-e4d1-4bc3-e426-84f02d4e4adc"
      },
      "outputs": [
        {
          "data": {
            "text/plain": [
              "array([1., 1.])"
            ]
          },
          "execution_count": 43,
          "metadata": {},
          "output_type": "execute_result"
        }
      ],
      "source": [
        "np.quantile(list_, [0.25, 0.75])"
      ]
    },
    {
      "cell_type": "markdown",
      "metadata": {
        "id": "PNmx54fYNKyY"
      },
      "source": [
        "#### Квантиль случайной величины\n",
        "\n",
        "Понятие квантиля также можно определить для случайной величины. Суть определения такая же, что и в случае выборки, но выглядит немного страшнее.\n",
        "\n",
        "__Квантилем порядка $\\alpha$ случайной величины $X$__ называется такое значение $t_\\alpha$, что\n",
        "$$P(X \\leq t_\\alpha) = \\alpha, \\:\\: P(X \\geq t_\\alpha) = 1 - \\alpha$$\n",
        "\n",
        "Идея та же: в доле $\\alpha$ всех случаев значение случайной величины $X$ окажется меньше $t_\\alpha$ и в доле $(1 - \\alpha)$ случаев — больше $t_\\alpha$.\n",
        "\n",
        "Использование квантилей позволяет в некотором смысле «обратить» функцию распределения.\n",
        "\n",
        "Для случайной величины $X$ функция распределения выглядит следующим образом:\n",
        "$$F_X(x) = P(X \\leq x)$$\n",
        "\n",
        "Прямая задача выглядит так: имеется случайная величина $X$ и пороговое значение $t$. Требуется найти вероятность того, что величина $X$ не превосходит значения $t$. Для этого нужна функция распределения.\n",
        "\n",
        "Часто в задачах математической статистики требуется решить обратную задачу: имеется случайная величина $X$ и значение вероятности $\\alpha \\in (0, 1)$. Требуется найти пороговое значение $t$, такое, что $P(X \\leq t) = \\alpha$. Это и есть квантиль порядка $\\alpha$.\n",
        "\n",
        "### Графическое представление данных\n",
        "\n",
        "Для визуализации распределения значений выборки часто используется гистограмма. Как строится гистограмма?\n",
        "\n",
        "1. По оси $x$ откладываются всевозможные значения из выборки. \n",
        "2. Вся ось разбивается на какое-то заданное число одинаковых отрезков.\n",
        "3. Для каждого отрезка вычисляется число значений выборки, которые лежат в этом отрезке, и это число откладывается по оси $y$.\n",
        "\n",
        "__Пример 8__\n",
        "\n",
        "Построим гистограмму значений роста. Для этого можно использовать метод `.hist`. В качестве аргумента `bins` сюда подаётся то число одинаковых отрезков, на которое мы разбиваем ось $x$."
      ]
    },
    {
      "cell_type": "code",
      "execution_count": null,
      "metadata": {
        "id": "a_AXdJ4rXrTj"
      },
      "outputs": [],
      "source": [
        "from matplotlib import pyplot as plt\n",
        "plt.style.use('seaborn-whitegrid')"
      ]
    },
    {
      "cell_type": "code",
      "execution_count": null,
      "metadata": {
        "id": "XCBD7Kt8XrTj",
        "outputId": "d8a870f0-215a-46e7-978a-1ce59d7061d6"
      },
      "outputs": [
        {
          "data": {
            "text/plain": [
              "<matplotlib.axes._subplots.AxesSubplot at 0x119291a90>"
            ]
          },
          "execution_count": 45,
          "metadata": {},
          "output_type": "execute_result"
        },
        {
          "data": {
            "image/png": "[encoded data removed]",
            "text/plain": [
              "<Figure size 432x288 with 1 Axes>"
            ]
          },
          "metadata": {},
          "output_type": "display_data"
        }
      ],
      "source": [
        "df['height'].hist()"
      ]
    },
    {
      "cell_type": "markdown",
      "metadata": {
        "id": "KwJ_RM31NKyo"
      },
      "source": [
        "Построим гистограмму ещё раз, указав в качестве аргумента `bins` число $20$, чтобы получить более детальную картину:"
      ]
    },
    {
      "cell_type": "code",
      "execution_count": null,
      "metadata": {
        "id": "HzQquG37XrTj",
        "outputId": "a4257d4b-43d4-4da3-cfce-0daccd1c3c4f"
      },
      "outputs": [
        {
          "data": {
            "text/plain": [
              "<matplotlib.axes._subplots.AxesSubplot at 0x11b3e15d0>"
            ]
          },
          "execution_count": 46,
          "metadata": {},
          "output_type": "execute_result"
        },
        {
          "data": {
            "image/png": "[encoded data removed]",
            "text/plain": [
              "<Figure size 432x288 with 1 Axes>"
            ]
          },
          "metadata": {},
          "output_type": "display_data"
        }
      ],
      "source": [
        "df['height'].hist(bins=20)"
      ]
    },
    {
      "cell_type": "code",
      "execution_count": null,
      "metadata": {
        "id": "CeBp5DFjXrTj",
        "outputId": "01447634-89f8-4b6d-a4e3-9a825b0132a9"
      },
      "outputs": [
        {
          "data": {
            "text/plain": [
              "<matplotlib.axes._subplots.AxesSubplot at 0x11b98ce10>"
            ]
          },
          "execution_count": 50,
          "metadata": {},
          "output_type": "execute_result"
        },
        {
          "data": {
            "image/png": "[encoded data removed]",
            "text/plain": [
              "<Figure size 432x288 with 1 Axes>"
            ]
          },
          "metadata": {},
          "output_type": "display_data"
        }
      ],
      "source": [
        "df['height'].hist(bins=50)"
      ]
    },
    {
      "cell_type": "code",
      "execution_count": null,
      "metadata": {
        "id": "sPChOJ5IXrTj",
        "outputId": "712c0bb4-45f3-4026-840f-fbb33f78c33e"
      },
      "outputs": [
        {
          "data": {
            "text/plain": [
              "<matplotlib.axes._subplots.AxesSubplot at 0x11b631810>"
            ]
          },
          "execution_count": 48,
          "metadata": {},
          "output_type": "execute_result"
        },
        {
          "data": {
            "image/png": "[encoded data removed]",
            "text/plain": [
              "<Figure size 432x288 with 1 Axes>"
            ]
          },
          "metadata": {},
          "output_type": "display_data"
        }
      ],
      "source": [
        "df['height'].hist(bins=5)"
      ]
    },
    {
      "cell_type": "markdown",
      "metadata": {
        "id": "c7ZuW1tVXrTk"
      },
      "source": [
        "Гистограмма по форме напоминает график распределения вероятностей случайной величины. Нужно лишь нормировать откладываемые по оси $y$ значения, чтобы сумма площадей колонок стала равной $1$. Это можно сделать с помощью аргумента `density`."
      ]
    },
    {
      "cell_type": "code",
      "execution_count": null,
      "metadata": {
        "id": "io6LciuBXrTk",
        "outputId": "b78985c0-1170-46b4-c93c-455abca76867"
      },
      "outputs": [
        {
          "data": {
            "text/plain": [
              "<matplotlib.axes._subplots.AxesSubplot at 0x11bb25b90>"
            ]
          },
          "execution_count": 51,
          "metadata": {},
          "output_type": "execute_result"
        },
        {
          "data": {
            "image/png": "[encoded data removed]",
            "text/plain": [
              "<Figure size 864x288 with 2 Axes>"
            ]
          },
          "metadata": {},
          "output_type": "display_data"
        }
      ],
      "source": [
        "fig, (ax1, ax2) = plt.subplots(ncols=2, figsize=(12, 4))\n",
        "\n",
        "df['height'].hist(ax=ax1)\n",
        "\n",
        "df['height'].hist(ax=ax2, density=True)"
      ]
    },
    {
      "cell_type": "markdown",
      "metadata": {
        "id": "myTeih6hXrTk"
      },
      "source": [
        "Другой способ визуализировать одномерные данные — __boxplot__ или __ящик с усами__. В самом ящике отмечены квартили $Q_1$, $Q_2$ (медиана), $Q_3$. «Усы» здесь — границы отрезка\n",
        "$$\\left[ Q_1 - 1.5 \\times IQR, \\: Q_3 + 1.5 \\times IQR \\right],$$\n",
        "где $IQR$ — интерквартильное расстояние.\n",
        "\n",
        "__Пример 9__\n",
        "\n",
        "Построим `boxplot` роста хоккеистов."
      ]
    },
    {
      "cell_type": "code",
      "execution_count": null,
      "metadata": {
        "id": "7dULwY9jXrTk",
        "outputId": "7f36c532-0e1a-4bdf-d1ec-1fa704bee7d4"
      },
      "outputs": [
        {
          "data": {
            "text/plain": [
              "<matplotlib.axes._subplots.AxesSubplot at 0x11bc69bd0>"
            ]
          },
          "execution_count": 52,
          "metadata": {},
          "output_type": "execute_result"
        },
        {
          "data": {
            "image/png": "[encoded data removed]",
            "text/plain": [
              "<Figure size 432x288 with 1 Axes>"
            ]
          },
          "metadata": {},
          "output_type": "display_data"
        }
      ],
      "source": [
        "df[['height']].boxplot()"
      ]
    },
    {
      "cell_type": "code",
      "execution_count": null,
      "metadata": {
        "id": "RS34iwGtXrTk"
      },
      "outputs": [],
      "source": [
        "import seaborn as sns"
      ]
    },
    {
      "cell_type": "code",
      "execution_count": null,
      "metadata": {
        "id": "NPB7GM3lXrTk",
        "outputId": "b4f7aee3-3163-4f77-fdd5-c089bbeabf88"
      },
      "outputs": [
        {
          "data": {
            "text/plain": [
              "<matplotlib.axes._subplots.AxesSubplot at 0x124342ad0>"
            ]
          },
          "execution_count": 58,
          "metadata": {},
          "output_type": "execute_result"
        },
        {
          "data": {
            "image/png": "[encoded data removed]",
            "text/plain": [
              "<Figure size 432x288 with 1 Axes>"
            ]
          },
          "metadata": {},
          "output_type": "display_data"
        }
      ],
      "source": [
        "sns.boxplot(df['height'], orient='v', width=0.15)"
      ]
    },
    {
      "cell_type": "markdown",
      "metadata": {
        "id": "JNzPVfiaXrTl"
      },
      "source": [
        "Всё, что выходит за границы этого отрезка, считается выбросами (отмечены кружками). Посчитаем, сколько значений роста оказалось за пределами «усов»."
      ]
    },
    {
      "cell_type": "code",
      "execution_count": null,
      "metadata": {
        "id": "w7Rm1K2DXrTl",
        "outputId": "cd26005d-eb9f-4980-ff33-d10bd5962079"
      },
      "outputs": [
        {
          "data": {
            "text/plain": [
              "(168.0, 200.0)"
            ]
          },
          "execution_count": 59,
          "metadata": {},
          "output_type": "execute_result"
        }
      ],
      "source": [
        "q1 = df['height'].quantile(0.25)\n",
        "q3 = df['height'].quantile(0.75)\n",
        "\n",
        "iqr = q3 - q1\n",
        "\n",
        "boxplot_range = (q1 - 1.5 * iqr, q3 + 1.5 * iqr)\n",
        "boxplot_range"
      ]
    },
    {
      "cell_type": "code",
      "execution_count": null,
      "metadata": {
        "id": "Oxd4F7eoXrTl",
        "outputId": "08bf70e5-77cb-4e41-afc6-7cf8759b4019"
      },
      "outputs": [
        {
          "data": {
            "text/plain": [
              "19"
            ]
          },
          "execution_count": 60,
          "metadata": {},
          "output_type": "execute_result"
        }
      ],
      "source": [
        "outliers = df.loc[(df['height'] < boxplot_range[0]) | (df['height'] > boxplot_range[1])]\n",
        "\n",
        "outliers.shape[0]"
      ]
    },
    {
      "cell_type": "code",
      "execution_count": null,
      "metadata": {
        "scrolled": true,
        "id": "wvOZHyAeXrTl",
        "outputId": "4404536e-dda7-4535-8038-b0c876ceb4d5"
      },
      "outputs": [
        {
          "data": {
            "text/html": [
              "<div>\n",
              "<style scoped>\n",
              "    .dataframe tbody tr th:only-of-type {\n",
              "        vertical-align: middle;\n",
              "    }\n",
              "\n",
              "    .dataframe tbody tr th {\n",
              "        vertical-align: top;\n",
              "    }\n",
              "\n",
              "    .dataframe thead th {\n",
              "        text-align: right;\n",
              "    }\n",
              "</style>\n",
              "<table border=\"1\" class=\"dataframe\">\n",
              "  <thead>\n",
              "    <tr style=\"text-align: right;\">\n",
              "      <th></th>\n",
              "      <th>year</th>\n",
              "      <th>country</th>\n",
              "      <th>no</th>\n",
              "      <th>name</th>\n",
              "      <th>position</th>\n",
              "      <th>side</th>\n",
              "      <th>height</th>\n",
              "      <th>weight</th>\n",
              "      <th>birth</th>\n",
              "      <th>club</th>\n",
              "      <th>age</th>\n",
              "      <th>cohort</th>\n",
              "      <th>bmi</th>\n",
              "    </tr>\n",
              "  </thead>\n",
              "  <tbody>\n",
              "    <tr>\n",
              "      <th>285</th>\n",
              "      <td>2001</td>\n",
              "      <td>SVK</td>\n",
              "      <td>3</td>\n",
              "      <td>chara zdeno</td>\n",
              "      <td>D</td>\n",
              "      <td>L</td>\n",
              "      <td>202</td>\n",
              "      <td>105.0</td>\n",
              "      <td>1977-03-18</td>\n",
              "      <td>new york islanders</td>\n",
              "      <td>24.120465</td>\n",
              "      <td>1977</td>\n",
              "      <td>25.732771</td>\n",
              "    </tr>\n",
              "    <tr>\n",
              "      <th>356</th>\n",
              "      <td>2001</td>\n",
              "      <td>USA</td>\n",
              "      <td>25</td>\n",
              "      <td>gill hal</td>\n",
              "      <td>D</td>\n",
              "      <td>L</td>\n",
              "      <td>202</td>\n",
              "      <td>109.0</td>\n",
              "      <td>1975-04-06</td>\n",
              "      <td>boston bruins</td>\n",
              "      <td>26.069815</td>\n",
              "      <td>1975</td>\n",
              "      <td>26.713067</td>\n",
              "    </tr>\n",
              "    <tr>\n",
              "      <th>399</th>\n",
              "      <td>2002</td>\n",
              "      <td>AUT</td>\n",
              "      <td>32</td>\n",
              "      <td>lakos andre</td>\n",
              "      <td>D</td>\n",
              "      <td>L</td>\n",
              "      <td>202</td>\n",
              "      <td>104.0</td>\n",
              "      <td>1979-07-29</td>\n",
              "      <td>utah grizzlies</td>\n",
              "      <td>22.757016</td>\n",
              "      <td>1979</td>\n",
              "      <td>25.487697</td>\n",
              "    </tr>\n",
              "    <tr>\n",
              "      <th>827</th>\n",
              "      <td>2004</td>\n",
              "      <td>AUT</td>\n",
              "      <td>32</td>\n",
              "      <td>lakos andre</td>\n",
              "      <td>D</td>\n",
              "      <td>R</td>\n",
              "      <td>203</td>\n",
              "      <td>103.0</td>\n",
              "      <td>1979-07-29</td>\n",
              "      <td>vienna capitals</td>\n",
              "      <td>24.758385</td>\n",
              "      <td>1979</td>\n",
              "      <td>24.994540</td>\n",
              "    </tr>\n",
              "    <tr>\n",
              "      <th>1095</th>\n",
              "      <td>2004</td>\n",
              "      <td>SVK</td>\n",
              "      <td>3</td>\n",
              "      <td>chara zdeno</td>\n",
              "      <td>D</td>\n",
              "      <td>L</td>\n",
              "      <td>205</td>\n",
              "      <td>117.0</td>\n",
              "      <td>1977-03-18</td>\n",
              "      <td>ottawa senators</td>\n",
              "      <td>27.121150</td>\n",
              "      <td>1977</td>\n",
              "      <td>27.840571</td>\n",
              "    </tr>\n",
              "    <tr>\n",
              "      <th>1166</th>\n",
              "      <td>2004</td>\n",
              "      <td>USA</td>\n",
              "      <td>26</td>\n",
              "      <td>gill hal</td>\n",
              "      <td>D</td>\n",
              "      <td>L</td>\n",
              "      <td>202</td>\n",
              "      <td>100.0</td>\n",
              "      <td>1975-04-06</td>\n",
              "      <td>boston bruins</td>\n",
              "      <td>29.070500</td>\n",
              "      <td>1975</td>\n",
              "      <td>24.507401</td>\n",
              "    </tr>\n",
              "    <tr>\n",
              "      <th>1217</th>\n",
              "      <td>2005</td>\n",
              "      <td>AUT</td>\n",
              "      <td>32</td>\n",
              "      <td>lakos andre</td>\n",
              "      <td>D</td>\n",
              "      <td>R</td>\n",
              "      <td>203</td>\n",
              "      <td>103.0</td>\n",
              "      <td>1979-07-29</td>\n",
              "      <td>syracuse crunch</td>\n",
              "      <td>25.757700</td>\n",
              "      <td>1979</td>\n",
              "      <td>24.994540</td>\n",
              "    </tr>\n",
              "    <tr>\n",
              "      <th>1488</th>\n",
              "      <td>2005</td>\n",
              "      <td>SVK</td>\n",
              "      <td>3</td>\n",
              "      <td>chara zdeno</td>\n",
              "      <td>D</td>\n",
              "      <td>L</td>\n",
              "      <td>205</td>\n",
              "      <td>117.0</td>\n",
              "      <td>1977-03-18</td>\n",
              "      <td>farjestad karlstad</td>\n",
              "      <td>28.120465</td>\n",
              "      <td>1977</td>\n",
              "      <td>27.840571</td>\n",
              "    </tr>\n",
              "    <tr>\n",
              "      <th>1563</th>\n",
              "      <td>2005</td>\n",
              "      <td>USA</td>\n",
              "      <td>25</td>\n",
              "      <td>gill hal</td>\n",
              "      <td>D</td>\n",
              "      <td>L</td>\n",
              "      <td>201</td>\n",
              "      <td>108.0</td>\n",
              "      <td>1975-04-06</td>\n",
              "      <td>lukko rauma</td>\n",
              "      <td>30.069815</td>\n",
              "      <td>1975</td>\n",
              "      <td>26.732012</td>\n",
              "    </tr>\n",
              "    <tr>\n",
              "      <th>1707</th>\n",
              "      <td>2006</td>\n",
              "      <td>ITA</td>\n",
              "      <td>11</td>\n",
              "      <td>fontanive nicola</td>\n",
              "      <td>F</td>\n",
              "      <td>L</td>\n",
              "      <td>165</td>\n",
              "      <td>71.0</td>\n",
              "      <td>1985-10-25</td>\n",
              "      <td>hc alleghe</td>\n",
              "      <td>20.514716</td>\n",
              "      <td>1985</td>\n",
              "      <td>26.078972</td>\n",
              "    </tr>\n",
              "    <tr>\n",
              "      <th>1709</th>\n",
              "      <td>2006</td>\n",
              "      <td>ITA</td>\n",
              "      <td>15</td>\n",
              "      <td>felicetti luca</td>\n",
              "      <td>F</td>\n",
              "      <td>L</td>\n",
              "      <td>166</td>\n",
              "      <td>84.0</td>\n",
              "      <td>1981-08-17</td>\n",
              "      <td>hc fassa</td>\n",
              "      <td>24.703628</td>\n",
              "      <td>1981</td>\n",
              "      <td>30.483379</td>\n",
              "    </tr>\n",
              "    <tr>\n",
              "      <th>1988</th>\n",
              "      <td>2007</td>\n",
              "      <td>ITA</td>\n",
              "      <td>39</td>\n",
              "      <td>pittis jonathan</td>\n",
              "      <td>F</td>\n",
              "      <td>L</td>\n",
              "      <td>165</td>\n",
              "      <td>73.0</td>\n",
              "      <td>1982-01-25</td>\n",
              "      <td>asiago hockey as</td>\n",
              "      <td>25.262149</td>\n",
              "      <td>1982</td>\n",
              "      <td>26.813590</td>\n",
              "    </tr>\n",
              "    <tr>\n",
              "      <th>1989</th>\n",
              "      <td>2007</td>\n",
              "      <td>ITA</td>\n",
              "      <td>7</td>\n",
              "      <td>lefebvre patrice</td>\n",
              "      <td>F</td>\n",
              "      <td>L</td>\n",
              "      <td>165</td>\n",
              "      <td>70.0</td>\n",
              "      <td>1967-06-28</td>\n",
              "      <td>lausanne hc</td>\n",
              "      <td>39.841205</td>\n",
              "      <td>1967</td>\n",
              "      <td>25.711662</td>\n",
              "    </tr>\n",
              "    <tr>\n",
              "      <th>2476</th>\n",
              "      <td>2010</td>\n",
              "      <td>SVK</td>\n",
              "      <td>56</td>\n",
              "      <td>mihalik vladimir</td>\n",
              "      <td>D</td>\n",
              "      <td>L</td>\n",
              "      <td>202</td>\n",
              "      <td>110.0</td>\n",
              "      <td>1987-01-29</td>\n",
              "      <td>norfolk admirals</td>\n",
              "      <td>23.252567</td>\n",
              "      <td>1987</td>\n",
              "      <td>26.958141</td>\n",
              "    </tr>\n",
              "    <tr>\n",
              "      <th>2704</th>\n",
              "      <td>2012</td>\n",
              "      <td>ITA</td>\n",
              "      <td>88</td>\n",
              "      <td>rocco vincent</td>\n",
              "      <td>F</td>\n",
              "      <td>L</td>\n",
              "      <td>166</td>\n",
              "      <td>74.0</td>\n",
              "      <td>1987-06-26</td>\n",
              "      <td>alleghe hockey</td>\n",
              "      <td>24.848734</td>\n",
              "      <td>1987</td>\n",
              "      <td>26.854406</td>\n",
              "    </tr>\n",
              "    <tr>\n",
              "      <th>2733</th>\n",
              "      <td>2012</td>\n",
              "      <td>SVK</td>\n",
              "      <td>78</td>\n",
              "      <td>kudroc kristian</td>\n",
              "      <td>D</td>\n",
              "      <td>R</td>\n",
              "      <td>201</td>\n",
              "      <td>102.0</td>\n",
              "      <td>1981-05-21</td>\n",
              "      <td>sibir novosibirsk</td>\n",
              "      <td>30.945927</td>\n",
              "      <td>1981</td>\n",
              "      <td>25.246900</td>\n",
              "    </tr>\n",
              "    <tr>\n",
              "      <th>2821</th>\n",
              "      <td>2013</td>\n",
              "      <td>FIN</td>\n",
              "      <td>12</td>\n",
              "      <td>anttila marko</td>\n",
              "      <td>F</td>\n",
              "      <td>R</td>\n",
              "      <td>203</td>\n",
              "      <td>105.0</td>\n",
              "      <td>1985-05-27</td>\n",
              "      <td>tps turku</td>\n",
              "      <td>27.928816</td>\n",
              "      <td>1985</td>\n",
              "      <td>25.479871</td>\n",
              "    </tr>\n",
              "    <tr>\n",
              "      <th>2914</th>\n",
              "      <td>2014</td>\n",
              "      <td>CAN</td>\n",
              "      <td>57</td>\n",
              "      <td>myers tyler</td>\n",
              "      <td>D</td>\n",
              "      <td>R</td>\n",
              "      <td>203</td>\n",
              "      <td>103.0</td>\n",
              "      <td>1990-02-01</td>\n",
              "      <td>buffalo sabres</td>\n",
              "      <td>24.243669</td>\n",
              "      <td>1990</td>\n",
              "      <td>24.994540</td>\n",
              "    </tr>\n",
              "    <tr>\n",
              "      <th>3008</th>\n",
              "      <td>2014</td>\n",
              "      <td>SVK</td>\n",
              "      <td>16</td>\n",
              "      <td>valach juraj</td>\n",
              "      <td>D</td>\n",
              "      <td>R</td>\n",
              "      <td>202</td>\n",
              "      <td>103.0</td>\n",
              "      <td>1989-02-01</td>\n",
              "      <td>slavia prague</td>\n",
              "      <td>25.242984</td>\n",
              "      <td>1989</td>\n",
              "      <td>25.242623</td>\n",
              "    </tr>\n",
              "  </tbody>\n",
              "</table>\n",
              "</div>"
            ],
            "text/plain": [
              "      year country  no              name position side  height  weight  \\\n",
              "285   2001     SVK   3      chara zdeno         D    L     202   105.0   \n",
              "356   2001     USA  25         gill hal         D    L     202   109.0   \n",
              "399   2002     AUT  32      lakos andre         D    L     202   104.0   \n",
              "827   2004     AUT  32       lakos andre        D    R     203   103.0   \n",
              "1095  2004     SVK   3       chara zdeno        D    L     205   117.0   \n",
              "1166  2004     USA  26          gill hal        D    L     202   100.0   \n",
              "1217  2005     AUT  32       lakos andre        D    R     203   103.0   \n",
              "1488  2005     SVK   3       chara zdeno        D    L     205   117.0   \n",
              "1563  2005     USA  25          gill hal        D    L     201   108.0   \n",
              "1707  2006     ITA  11  fontanive nicola        F    L     165    71.0   \n",
              "1709  2006     ITA  15    felicetti luca        F    L     166    84.0   \n",
              "1988  2007     ITA  39   pittis jonathan        F    L     165    73.0   \n",
              "1989  2007     ITA   7  lefebvre patrice        F    L     165    70.0   \n",
              "2476  2010     SVK  56  mihalik vladimir        D    L     202   110.0   \n",
              "2704  2012     ITA  88     rocco vincent        F    L     166    74.0   \n",
              "2733  2012     SVK  78   kudroc kristian        D    R     201   102.0   \n",
              "2821  2013     FIN  12     anttila marko        F    R     203   105.0   \n",
              "2914  2014     CAN  57       myers tyler        D    R     203   103.0   \n",
              "3008  2014     SVK  16      valach juraj        D    R     202   103.0   \n",
              "\n",
              "           birth                 club        age  cohort        bmi  \n",
              "285   1977-03-18  new york islanders   24.120465    1977  25.732771  \n",
              "356   1975-04-06       boston bruins   26.069815    1975  26.713067  \n",
              "399   1979-07-29      utah grizzlies   22.757016    1979  25.487697  \n",
              "827   1979-07-29      vienna capitals  24.758385    1979  24.994540  \n",
              "1095  1977-03-18      ottawa senators  27.121150    1977  27.840571  \n",
              "1166  1975-04-06        boston bruins  29.070500    1975  24.507401  \n",
              "1217  1979-07-29      syracuse crunch  25.757700    1979  24.994540  \n",
              "1488  1977-03-18   farjestad karlstad  28.120465    1977  27.840571  \n",
              "1563  1975-04-06          lukko rauma  30.069815    1975  26.732012  \n",
              "1707  1985-10-25           hc alleghe  20.514716    1985  26.078972  \n",
              "1709  1981-08-17             hc fassa  24.703628    1981  30.483379  \n",
              "1988  1982-01-25     asiago hockey as  25.262149    1982  26.813590  \n",
              "1989  1967-06-28          lausanne hc  39.841205    1967  25.711662  \n",
              "2476  1987-01-29     norfolk admirals  23.252567    1987  26.958141  \n",
              "2704  1987-06-26       alleghe hockey  24.848734    1987  26.854406  \n",
              "2733  1981-05-21    sibir novosibirsk  30.945927    1981  25.246900  \n",
              "2821  1985-05-27            tps turku  27.928816    1985  25.479871  \n",
              "2914  1990-02-01       buffalo sabres  24.243669    1990  24.994540  \n",
              "3008  1989-02-01        slavia prague  25.242984    1989  25.242623  "
            ]
          },
          "execution_count": 61,
          "metadata": {},
          "output_type": "execute_result"
        }
      ],
      "source": [
        "outliers"
      ]
    },
    {
      "cell_type": "markdown",
      "metadata": {
        "id": "-MNlX0pMXrTm"
      },
      "source": [
        "Доля выбросов:"
      ]
    },
    {
      "cell_type": "code",
      "execution_count": null,
      "metadata": {
        "id": "nCGa9fAOXrTm",
        "outputId": "d6212312-1242-4744-d323-fa5f4dbbfb7e"
      },
      "outputs": [
        {
          "data": {
            "text/plain": [
              "0.005768063145112325"
            ]
          },
          "execution_count": 62,
          "metadata": {},
          "output_type": "execute_result"
        }
      ],
      "source": [
        "outliers.shape[0] / df.shape[0]"
      ]
    },
    {
      "cell_type": "markdown",
      "source": [
        "### Задачи для тренировки"
      ],
      "metadata": {
        "id": "WF8qHaB_PbeD"
      }
    },
    {
      "cell_type": "markdown",
      "metadata": {
        "id": "hR5QlgzDXrTm"
      },
      "source": [
        "__Задача 1__\n",
        "\n",
        "Даны значения зарплат из выборки выпускников: \n",
        "```\n",
        "100, 80, 75, 77, 89, 33, 45, 25, 65, 17, 30, 230, 24, 57, 55, 70, 75, 65, 84, 90, 150\n",
        "```\n",
        "Используя только встроенные питоновские функции и структуры данных (т.е. без библиотек `numpy`, `pandas` и др.) посчитать среднее арифметическое, смещённую и несмещённую оценки дисперсии, среднее квадратичное отклонение для данной выборки.\n",
        "\n",
        "Можно затем посчитать те же значения с использованием библиотек, чтобы проверить себя.\n",
        "\n",
        "__Задача 2__\n",
        "\n",
        "Для выборки из задачи 1 найти (также без использования библиотек):\n",
        "1. медиану, первый и третий квартили, интерквартильное расстояние,\n",
        "2. выборсы в выборке (используя для этого метод как при построении \"усов\" из `boxplot`). \n",
        "\n",
        "Возможные неоднозначности в вычислении квантилей можно разрешать любым способом.\n",
        "\n",
        "__Задача 3__\n",
        "\n",
        "В университет на факультеты `A` и `B` поступило равное количество студентов, а на факультет `C` студентов поступило столько же, сколько на `A` и `B` вместе. Вероятность того, что студент факультета `A` сдаст первую сессию, равна 0.8. Для студента факультета `B` эта вероятность равна 0.7, а для студента факультета `C` - 0.9. Студент сдал первую сессию. Какова вероятность, что он учится: a) на факультете `A`? б) на факультете `B`? в) на факультете `C`?"
      ]
    }
  ],
  "metadata": {
    "colab": {
      "provenance": []
    },
    "kernelspec": {
      "display_name": "Python 3",
      "language": "python",
      "name": "python3"
    },
    "language_info": {
      "codemirror_mode": {
        "name": "ipython",
        "version": 3
      },
      "file_extension": ".py",
      "mimetype": "text/x-python",
      "name": "python",
      "nbconvert_exporter": "python",
      "pygments_lexer": "ipython3",
      "version": "3.7.7"
    }
  },
  "nbformat": 4,
  "nbformat_minor": 0
}
{
  "nbformat": 4,
  "nbformat_minor": 0,
  "metadata": {
    "colab": {
      "provenance": []
    },
    "kernelspec": {
      "name": "python3",
      "display_name": "Python 3"
    },
    "language_info": {
      "name": "python"
    }
  },
  "cells": [
    {
      "cell_type": "markdown",
      "source": [
        "По материалам\n",
        "\n",
        "https://www.kaggle.com/code/abirhasan1703100/hopfield-neural-networks-algorithm\n",
        "\n",
        "https://github.com/nosratullah/hopfieldNeuralNetwork/tree/master"
      ],
      "metadata": {
        "id": "s8YNMYWKpr32"
      }
    },
    {
      "cell_type": "markdown",
      "source": [
        "# Теоретическое описание"
      ],
      "metadata": {
        "id": "pPSmIOCsoJHF"
      }
    },
    {
      "cell_type": "markdown",
      "source": [
        "Сеть Хопфилда состоит из нейронов, каждый из которых может принимать на входе и выходе только два значения. Всего в сети бывает $N$ нейронов.\n",
        "\n",
        "$y_i = \\left\\{\\begin{matrix} 1, \\\\ -1\\end{matrix}\\right.$\n",
        "\n",
        "Сеть полностью рекурентная. Состоит из одного слоя, в которой каждый нейрон связан с другими нейронами. Схема сети представлена ниже."
      ],
      "metadata": {
        "id": "maXN_2Lpjpue"
      }
    },
    {
      "cell_type": "markdown",
      "source": [
        "![Hopfield's_net.png](data:image/png;base64,iVBORw0KGgoAAAANSUhEUgAAAagAAAHmCAMAAAARPuruAAAA0lBMVEUAAAAArwASEBJtam12dXZ/f3+bz/+/ur/AwMDt6u3///+AAAAABQAAAIAAgAD29fY2NTZARUCAgICAhYCbmptSUFJSVVJkZWTt7+02MDb/+v92cHatr622tbb28PZJSkmbn5vb39utqq3AxcBJT0kbHxu/v78kICRAQEDJysnS0NLb2tukoKTk4OQkJSQtKi1kYGQJCgmJj4kSFRLS1dI/Pz+SkJKSlZLJz8ltb23k5eQ/Oj8tLy1/en+kpaTk/wBbWltbX1u2sLYJDwkbGhuJionBTj7bAAAP6klEQVR4Xuzb147bQAxAUT5zJLn3vr33Te/l/38pdAxnHhJo14atUN57HzgfcEDYGEmim0n+kW4u2hjU578CCqhyBBRQQAGVpql6DyhT8g4FVGp5hwLKeLxDAZW+gHZlo9Id36idgbJKAgWU5R0KqJh3KKBiQOXFFRJQQAEFFFBA/Sn1/CgeqFiq5Q4ooIACCiiggAIKKKCAAgoooIACCiiggAIKKKCAAgoooIACCij/384DVf5XYIACCiiggAIqhKDeAypYzqGACpZ3KKCC5RwKqFCeXvxGhXJsFFBWSaCAsrxDARXzDgVUzC8UUB4CCiiggAIKqGXB86N4oGJBSxVQQAEFFFBAAQUUUEABBRRQQAEFFFBAAQUUUEABBRRQQAEFFFD+v50HarVXYIACCiiggMoy/1BAZZZ3KKDMyD0UUAbkHgoo03EPBVRWeOWAYqPWhgLKAop/fRuGAsoCipsJJ1Dc9fmHAgoooHjCm8kyh1BAxTItPqCAAgoooIACCiiggAIKKKCAAgoooIACCiiggAIKKKCAAgoooIACCiiggArlgAJKg+UfCqjFtNaE6l8lInuqOpPbiu5/v9keFFARa52NGkkytuNOWqoPiWwVCqiItTJUUyZqnciFzem9jVlnUDuz8/zmcgtQQEWslaAO5LXNriRdO96c2Khe6qin+rMt51uCAipiPReqcivv7JhKTa1pw0byVh8StbYJBVTEehbUSKpq9eSVWgczG426Nj8UBAVUXKx8qI7UbQ5Ffv8qTRYA4+NvRUEBFbFyoQ7nQt2eSF9Va/sLgFZTi4QC6ul/7pW5UP9gKDJWrXcWAI2pXvQLhwJKsxysHzLYe7zTK/k6/PK+ovOO2qenrf+xUUDlbNbRtVx/Uj2ryv1g4aTHInKo+rEtk3rhUEBFLO93fUBFLPdQQMXF8gwFVD7WE3qyrAAooPKw8vbsV3t3+5RGskdx/FyXTC7HkQefeEZEYohGAY0bjcaKkv3//6V7u8q7v8qye2dggG6G833TVXn7qc7MNG03gOh/AeuEEpRhGdTfU0VA9EsAQoDqDqZ9NzaG+YcyLOfkmlWCMVmAf6iXGLdNso54K6AMy6gsU5qlgl+o+0b9JzoOqmq/n80L1d9pdMn9nVE9OKhkqgQmC/AJ9dLhAwrkJV7t97M5oc4nE9zwYAq83zgoo4oQJQWPUHXyFUPysEHXIlDFj586qF6Nil/HZZuUoUKZk2VOCcEHlFlhSt69LgzV6bMcT487JG1SbgSU5ZzSBJ9QfMLFfYULQFkVHPGtTYKyEKULPqFq6A3Os0G1cBguVHIRorTBI1QPjQGzQQ0xDhkqu5MFf1D3iL9kg3oeYESWexsKhWie4A2qGRfost/P5oFqV++/jYrXuOL43WZCIdoQqNPrboa1vkfcPbXZQvVo2MwzlAUPUE03DN8zA9ThxG24KlYw6Nqk3CQoRPOGtUO14+9kq7DVxxdEmwBVwGO9VuNWQyGaP6wbqjjYaXxm8FCC0vEFjBaBItYNJShEi7QaKEEB2AwoQbkyO1nEyqAE5coIZa0ISlBWnqBKpVJ+oYA8QbnyB2XlCcqVCgqZ20OKdpGmEtKWDygrf1CWOW0ylJVbKGBhqNKi7ZVWWZ6eURaXO6Poe0aRzCEUXSTyApXPtz6SeYLK6es5yTxB5fSDl2TwUFpCIhk8lKCWsGPCAj1A6YfDvEIJihsGpc0tghJU9rQBk4LarC3Nggr/jwTChxIU6AdKUEQOoQQFeoAS1NxSXCeUoPbemluK4PqhBGUhtZNPKEGRSOnkEUpQdCGLU3YoQSXPpreQRAVwTVCC+hPGmCwiM1N2KEH9yjLjlDCpCHLFUIIyI8uY0lAB4GqhBGUeCf9sVC4zgimtBkpQNmksg2KmA+qzQwnKjDyWDCUo30aCSsoZlcJAElTS23eJ3hNU8mdsqFCCsreGYKEEZUbBQgnKjAKFEpRNpGChBGVGwUIJam/XjBaCal7HQJ/kKSZlnk3HXHKC2nMtYc9EB3GX5A2OyC8xuLwEZQ+kJUAd4sQNQ3wm2bsl+an2UL2wq5QWSlBmtCSoAb6SrCOuk7wfkrwusv0091VKgpqdSMuEKk/wjWQPVbrhgOTOGb/EJOeHEpQZLRuqg4obGvjdDYNTklflcuFobihBmdEqoGrYJ9kGLkhentA1xcfiHFCCsom0OqgPTqjeAJokq2d0sVmoCip1ZrRCqLITag7aQJfcr9H1g+E9o7Sv7yda/bsbXuOl/eOxTNcO2X8KDEpQ5yOMnsmLCm5bZbr4PP7t5MKuUvIAJSit9QlKUIISlKAEJShBCUpQghKUoAQlKEEJSlCCEpSgBCUoQQlKUIISlKAEJShBCWotToISlKAEJShBCUpQghKUoAQlKEEJKpQEJShBCUpQghKUoAQlKEFlOK3PM5Sgkk/r8w8lqOTT+k5rLTd4hRJU8ml9rFyx0/ANJajk0/riBzfMk6CyS5XmP63vYJ+HT4JKedfq6qCST+tj9+OroNJjubJDLXBaH48OKaiMXtmhkk/rO+jxc1NQmbyyQyWf1nd+/OnTEQWV3SsLVPJpffwI4IOglueVEspPgrJ297JcoiKo/k7DPZ93RvVVQ80+v9JDCep8MsEND6bA+zVAWcaVBkpQxY+fOqhejYpfx2Vb3lw9lHG5EqEE1emzHE+POyRteXNdULNes1CCsio4osuWN9cNZV4l55U1/FJ+oFo4pMuWN/1AuUrplqP4z5wREP0SgJxADTGmy5Y3/UK5krz+QdKpRLMBeYB6HmBElnu2vBkAVJLX3yOa0iwVfEN1B9O+GxvDBaDa1ftvo+I1rjh+Z8ubAUAlee29lchkAX6hXmLcNsk64gWgHnH31GYL1aNh05Y3A4BK8tr7M3OKEiJ8Qt036j/RcVBV2+eRGupw4h5KxQoGXdryZsBQ5mXRFSFKDh6hXjp8QIG8xGvKDyEwVeFDWeaUEPxB1clXDMnDhn0IbQ2UhShd8ABlVpiSd6/2IbRVUPb/XqrgEYpPuLiv2IfQtkCZG6L0wSNUDb3BOWkfQvmGsswpfYQ/qB4aA5L2IbRdUIjmyiPUPeIvJFN9CAkqgjeoZlwgaR9C2wWFaN7gC+r0uktry6CizYBqumH4ntsLhWj+sHaodvydbBUYOJSgCnis12rcYqhoEShi3VDFwU7jM7cZCtEiQRswVwIFYDOgBOXK7GQRK4MSlCsjlLUiKEFZeYLa3d3NLxSQJyhX/qCsPEG5UkFhTe0iRSWkLR9QVv6gLHPaZCgrt1DAwlC7i7a3u8ryCcWVzyh6mFG5eZkwJRdyA5XLtz6S+YLK5es5yeCh9B1FMngorUyQDB5Ka31L2DFhMSdQ+uFQUILSnon0geuGEhTzC6UNmMwPlLY0+4cSFOgDSlBELqEEBeYLSn9xmB1KUCXXQlIE1wglKGs+KYLrhxKUhdROPqEERSKlk0coQdGFNTgZlKAWmE1vIYkK4FqgBGUwpkWLyMiUHUpQf0WZcUqYVAS5WihBGYhFY0pDBYDLhRJUopFB8W/DX61oSsuDElTCjDGo1Oeeg1wFlKCMKLQEZfk3EpTPi74EJShBCUpQghKUoJrXMdAneYpJmWfTcahQmlEdxF2SNzgiv8QIFUpQhzhxwxCfSfZuSfJyfEW7kiQMKEEN8JVkHXGd5P2Q5B/HuLS7GcOAElR5gm8ke6jSDQd04dKuJAkDSlAdVNzQwO9uGJwalF1JEgCUoGrYJ9kGLkhentCg7EqSAKAE9cEJ1RtAk2T1zKDsSpIAoARVdkLNQRvokvs1GpRdSRIAlKD4E63+3Q2v8dL+8Vg2KLuSJAgoQZ2PMHomLyq4bb05fT/Gyb5dSSIorfUJSlCCEpSgBCUoQQlKUIISlKAEJShBCUpQghKUoAQlKEEJSlCCEpSgBCUoQQlKUIISlKAEJShBCUpQghKUoAQlKEEJSlCCEpSgBCUoQQlKUIISlKAEJShBCUpQggruRFmDElTQJ8oalKDSnihrR8l+qj24wQeUoJJPlLWjZK+LbD/5gRJU8omydpTszpkbvEAJKvlEWTtK9qpcLhx5ghJU8omydpTsFB+LvqAElXyirB0l2yxU/UAJKvlEWTtK9geX+4wS1H9LK5V8oqwdJbtD9vXWt3SsJK5S+hNl346SfR7/dqLvqLVzlegzQSVzJUMJyj9XApSgguMSlAVa/Z1Gl9zfGdUD4ppJUOeTCW54MAXeM5BKS+DCL+UAqvjxUwfVq1Hx67gcDFS62fV/JIHolwBsOlSnz3I8Pe7Q1dl/d9wOBiqJ658UAWOygE2Fsio4oovTDuvTgKBmuZIFTSkDVaBQLRzSxecr9iuhQc3aGNQslTElUHmC6g6mfTc2hgtADTGmi/X93x6KwUAlce3+WZKTBd9QLzFum2Qd8fxQzwOMyHKPJP/9yOChjMuyd4iEAK9Q9436T3QcVNV2eqSBalfvv42K17ji+B0fvrGLjYMyKkQpInxCvXT4gAJ5iVfb6ZEG6hF3T222UD0aNjn5xsOjTYOyEKWK8AhVJ18xJA8btJ0eaaAOJx9fyWIFgy75x/dCrb6JUHQhShnhA8qsMCXvXplqpweYqvChzA1R6gifUHzCxX2FtJ0eeYayzCl9hE+oGnqDc9pOj62CQjRXXqF6aAzoStzpIagIHqHuEX8haTs9tggK0QZBNeMCXSl2eggqgj+o0+sura2CiuaHInxANd0wfM9thUI0fz6g2vF3slXgtkJFmwJVwGO9VuPWQiFaJKwfqjjYaXxmyFCCsvIOBQBLeJWwiBVBCcqVeUJZK4QSlCtfUHt7e7mDsnIF5codlJUrKFcqKARVCenKCZSVOyjLnDYaysodlLUw1F6Y5RTKx4yihxm1iS8TFl1EbqBI5hCKZK6g8vl6TjJ8KH1HkeFDaWWCZPBQWuujlRWKq4ISlMffo5ITlLWNUNozwbxAaReSoASlDZhBOwmKgtJfc3hIUN6dBEVsBpSgIgTqJKh/vWVSITsJysJGOAmKEcJ3EpQ9pwJ2EhTfgtelWEElz6aUUlibk6CMxpwsAvDNJKi/sBhTmsNKsTImQSWYGNMsFdY9mQRlRLN6ieeeOyLXypgEZUZZWi2RoMwo6AS1fCNBKUEpQQlKCap5HQN9kqeYlHk2HQsq1DqIuyRvcER+iSGoUDvEiRuG+Eyyd0uSl+Mr2iUXYSSoAb6SrCOuk7wfkvzjGJe0Sy6CSFDlCb6R7KFKNxzQhUu75CKMBNVBxQ0N/O6GwalB2SUXASSoGvZJtoELkpcnNCi75CKABPXBCdUbQJNk9cyg7JKLABJU2Qk1B22gS+7XaFD8QT2jAuonWv27G17jpf3jsWxQdslFEAnqfITRM3lRwW3rzen7MU727ZKL/EMpQSlBCUoJSglKUEpQSlCCUoJSghKUEpT6D1SR6F6XpRlXAAAAAElFTkSuQmCC)"
      ],
      "metadata": {
        "id": "9uB9friOjxyI"
      }
    },
    {
      "cell_type": "markdown",
      "source": [
        "Ключевое правило сети, на основании которой можно вычислить все веса выглядит следующим образом: $X_i=WX_i$\n",
        "\n",
        "$X_i$ - запомненные образы.\n",
        "\n",
        "Таким образом веса вычисляются по формуле:\n",
        "$W=\\frac{1}{N}\\sum_{i}X_{i}X_{i}^{T}$\n",
        "\n",
        "Сеть считает веса один раз, затем остаётся в таком состоянии."
      ],
      "metadata": {
        "id": "IxmJcfvqmMud"
      }
    },
    {
      "cell_type": "markdown",
      "source": [
        "Применяется сеть последовательно с использованием пороговой функции активнации $F = sgn(x)$.\n",
        "\n",
        "$X(t+1)=F(WX(t))$\n",
        "\n",
        "Расчёт состояний заканчивается тогда, когда либо состояния совпадут, либо число итераций для применения закончится."
      ],
      "metadata": {
        "id": "kKuthRnxnQ3_"
      }
    },
    {
      "cell_type": "markdown",
      "source": [
        "## Пример №1"
      ],
      "metadata": {
        "id": "j0Izi2vdoC7z"
      }
    },
    {
      "cell_type": "code",
      "source": [
        "import numpy as np"
      ],
      "metadata": {
        "id": "31OYwyUnRYoa"
      },
      "execution_count": null,
      "outputs": []
    },
    {
      "cell_type": "code",
      "source": [
        "etalons = np.array([\n",
        "    [-1, -1, 1, -1, 1],\n",
        "    [1, -1, 1, -1, 1],\n",
        "    [-1, 1, -1, 1, -1],\n",
        "    [1, 1, 1, -1, -1]\n",
        "])\n",
        "\n",
        "objects = np.array([\n",
        "    [-1, -1, -1, -1, 1],\n",
        "    [1, -1, 1, -1, -1],\n",
        "    [-1, 1, -1, -1, -1],\n",
        "    [-1, 1, -1, -1, -1]\n",
        "])\n",
        "\n",
        "size = etalons.shape[1]"
      ],
      "metadata": {
        "id": "AsY1lBlNRa6p"
      },
      "execution_count": null,
      "outputs": []
    },
    {
      "cell_type": "code",
      "source": [
        "weights = np.zeros((size, size))\n",
        "\n",
        "for pattern in etalons:\n",
        "    pattern = np.reshape(pattern, (1, size))\n",
        "    weights += np.dot(pattern.T, pattern)\n",
        "np.fill_diagonal(weights, 0)\n",
        "\n",
        "weights"
      ],
      "metadata": {
        "colab": {
          "base_uri": "https://localhost:8080/"
        },
        "id": "OLAhZe_0RdQR",
        "outputId": "b800b92e-1533-41a6-f2f9-01eb26fa7fb5"
      },
      "execution_count": null,
      "outputs": [
        {
          "output_type": "execute_result",
          "data": {
            "text/plain": [
              "array([[ 0.,  0.,  2., -2.,  0.],\n",
              "       [ 0.,  0., -2.,  2., -4.],\n",
              "       [ 2., -2.,  0., -4.,  2.],\n",
              "       [-2.,  2., -4.,  0., -2.],\n",
              "       [ 0., -4.,  2., -2.,  0.]])"
            ]
          },
          "metadata": {},
          "execution_count": 57
        }
      ]
    },
    {
      "cell_type": "code",
      "source": [
        "max_iterations=10\n",
        "\n",
        "for i, noisy_pattern in enumerate(objects):\n",
        "    iteration = 0\n",
        "    while iteration < max_iterations:\n",
        "        iteration += 1\n",
        "        prev_pattern = np.copy(noisy_pattern)\n",
        "        noisy_pattern = np.sign(np.dot(noisy_pattern, weights))\n",
        "        if np.array_equal(noisy_pattern, prev_pattern):\n",
        "            break\n",
        "\n",
        "#         distances = np.sum(np.abs(patterns - noisy_pattern), axis=1)\n",
        "#         closest_match_idx = np.argmin(distances)\n",
        "\n",
        "    #print('{:<25} {:<10} {:<10}'.format(\"Исходный объект\", i, str(tuple(etalons[i]))))\n",
        "    print('{:<25} {:<10} {:<10}'.format(\"Зшумлённый объект\", i, str(tuple(objects[i]))))\n",
        "    print('{:<25} {:<10} {:<10}'.format(\"Результат востановления\", i, str(tuple(noisy_pattern))))\n",
        "\n",
        "    print(\"\")"
      ],
      "metadata": {
        "colab": {
          "base_uri": "https://localhost:8080/"
        },
        "id": "4VspWCqXRlJ5",
        "outputId": "3aca78c6-9b7d-4fc5-915f-80adbea133c1"
      },
      "execution_count": null,
      "outputs": [
        {
          "output_type": "stream",
          "name": "stdout",
          "text": [
            "Зшумлённый объект         0          (-1, -1, -1, -1, 1)\n",
            "Результат востановления   0          (1.0, -1.0, 1.0, -1.0, 1.0)\n",
            "\n",
            "Зшумлённый объект         1          (1, -1, 1, -1, -1)\n",
            "Результат востановления   1          (1.0, -1.0, 1.0, -1.0, 1.0)\n",
            "\n",
            "Зшумлённый объект         2          (-1, 1, -1, -1, -1)\n",
            "Результат востановления   2          (-1.0, 1.0, -1.0, 1.0, -1.0)\n",
            "\n",
            "Зшумлённый объект         3          (-1, 1, -1, -1, -1)\n",
            "Результат востановления   3          (-1.0, 1.0, -1.0, 1.0, -1.0)\n",
            "\n"
          ]
        }
      ]
    },
    {
      "cell_type": "markdown",
      "source": [
        "## Пример №2"
      ],
      "metadata": {
        "id": "eLCznNO7riBU"
      }
    },
    {
      "cell_type": "code",
      "execution_count": null,
      "metadata": {
        "colab": {
          "base_uri": "https://localhost:8080/",
          "height": 335
        },
        "id": "LnE2WFPSNbgn",
        "outputId": "80663bb7-f9b5-49f3-9498-0bccbdbcfb0a"
      },
      "outputs": [
        {
          "output_type": "display_data",
          "data": {
            "text/plain": [
              "<Figure size 1500x1000 with 4 Axes>"
            ],
            "image/png": "[encoded data removed]"
          },
          "metadata": {}
        }
      ],
      "source": [
        "import numpy as np\n",
        "import matplotlib.pyplot as plt\n",
        "import scipy.misc as sp\n",
        "import matplotlib.image as img\n",
        "\n",
        "def trainer(vector):\n",
        "    vector = vector.flatten()\n",
        "    coefMat = np.zeros([len(vector),len(vector)])\n",
        "\n",
        "    for i in range(len(vector)):\n",
        "        for j in range(len(vector)):\n",
        "            if (i!=(i-j)):\n",
        "                coefMat[i][i-j] = vector[i]*vector[i-j]\n",
        "\n",
        "    vector = np.reshape(vector, [int(np.sqrt(len(vector))),int(np.sqrt(len(vector)))])\n",
        "\n",
        "    return coefMat\n",
        "\n",
        "def prediction(curuptedVec,coefMat):\n",
        "    curuptedVec = curuptedVec.flatten()\n",
        "    predictVec = np.zeros(len(curuptedVec))\n",
        "    for i in range(len(curuptedVec)):\n",
        "        temp = 0\n",
        "        for j in range(len(curuptedVec)):\n",
        "             temp += coefMat[i][j] * curuptedVec[j]\n",
        "        if (temp>0):\n",
        "            predictVec[i] = 1\n",
        "        if (temp<0):\n",
        "            predictVec[i] = -1\n",
        "\n",
        "    predictVec = np.reshape(predictVec, [int(np.sqrt(len(predictVec))),int(np.sqrt(len(predictVec)))])\n",
        "    return predictVec\n",
        "\n",
        "def imageGenerator(imageVector, vmax = 1):\n",
        "    cleanImage = np.zeros([len(imageVector),len(imageVector)])\n",
        "    for i in range(len(imageVector)):\n",
        "        for j in range(len(imageVector)):\n",
        "            if (imageVector[i][j] == vmax):\n",
        "                cleanImage[i][j] = 1\n",
        "            else:\n",
        "                cleanImage[i][j] = -1\n",
        "    noisyImage = cleanImage + np.random.normal(0, 2, [len(image),len(image)])\n",
        "\n",
        "    for i in range(len(image)):\n",
        "        for j in range(len(image)):\n",
        "            if (noisyImage[i][j] >= 0):\n",
        "                noisyImage[i][j] = 1\n",
        "            else:\n",
        "                noisyImage[i][j] = -1\n",
        "\n",
        "\n",
        "    return cleanImage,noisyImage\n",
        "\n",
        "#Import the image\n",
        "image = img.imread('1.png','w').copy()\n",
        "vector,noisyVec = imageGenerator(image)\n",
        "coefMatrix = trainer(vector)\n",
        "predictedVec = prediction(noisyVec,coefMatrix)\n",
        "\n",
        "plt.figure(figsize=(15,10))\n",
        "plt.subplot(1,4,1)\n",
        "plt.imshow(image)\n",
        "plt.title('imported picture')\n",
        "plt.subplot(1,4,2)\n",
        "plt.imshow(vector);\n",
        "plt.title('cleaned and croped picture')\n",
        "plt.subplot(1,4,3)\n",
        "plt.imshow(noisyVec);\n",
        "plt.title('noisy picture')\n",
        "plt.subplot(1,4,4)\n",
        "plt.imshow(predictedVec);\n",
        "plt.title('recalled picture')\n",
        "plt.show()"
      ]
    }
  ]
}
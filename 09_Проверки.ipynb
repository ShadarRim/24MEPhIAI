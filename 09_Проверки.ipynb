{
  "cells": [
    {
      "cell_type": "markdown",
      "metadata": {
        "id": "xcCBP2L1lO--"
      },
      "source": [
        "## Взаимосвязь величин. Показатели корреляции. Корреляционный анализ. Проверка на нормальность"
      ]
    },
    {
      "cell_type": "markdown",
      "metadata": {
        "id": "Xo76P8yDlO_A"
      },
      "source": [
        "Часто в статистике анализируют _многомерные_ наблюдения, т.е. имеющие несколько признаков.\n",
        "\n",
        "Для этого применяют многомерный статистический анализ. Особенно часто его используют, когда нужно:\n",
        "\n",
        "* изучить зависимость между признаками и их влияние на некоторую переменную,\n",
        "* классифицировать объекты с множеством признаков,\n",
        "* понизить размерность пространства признаков (если их слишком много и нет возможности отсеять часть)."
      ]
    },
    {
      "cell_type": "markdown",
      "metadata": {
        "id": "Kd6T723GKP4U"
      },
      "source": [
        "### Корреляция\n",
        "\n",
        "__Корреляция__ — математический показатель, по которому можно судить, есть ли статистическая линейная взаимосвязь между двумя и более случайными величинами.\n",
        "\n",
        "__Коэффициент корреляции__ принимает значения из отрезка $[-1, 1]$.\n",
        "\n",
        "Если коэффициент корреляции близок к $1$, то между величинами наблюдается прямая связь: увеличение одной величины сопровождается увеличением другой, а уменьшение одной — уменьшением другой.\n",
        "\n",
        "Если же коэффициент корреляции близок к $-1$, то между величинами есть обратная корреляционная связь: увеличение одной величины сопровождается уменьшением другой и наоборот.\n",
        "\n",
        "Коэффициент корреляции, равный $0$, говорит о том, что между величинами нет линейной связи, то есть величины изменяются независимо друг от друга или нелинейно относительнод друг-друга."
      ]
    },
    {
      "cell_type": "markdown",
      "metadata": {
        "id": "Zlfuypz8lO_B"
      },
      "source": [
        "__Пример 1__\n",
        "\n",
        "Посчитаем корреляцию роста с весом хоккеистов из рассмотренного ранее датасета. Это можно сделать с помощью метода `.corr`, который есть у объектов `DataFrame`."
      ]
    },
    {
      "cell_type": "code",
      "execution_count": null,
      "metadata": {
        "id": "O04IbTLXKP4v"
      },
      "outputs": [],
      "source": [
        "import pandas as pd"
      ]
    },
    {
      "cell_type": "code",
      "source": [
        "from google.colab import drive\n",
        "drive.mount('/content/drive')"
      ],
      "metadata": {
        "colab": {
          "base_uri": "https://localhost:8080/"
        },
        "id": "Hg_hqZD6-qYJ",
        "outputId": "a4549720-983f-4360-94b0-7e3cc6dd0581"
      },
      "execution_count": null,
      "outputs": [
        {
          "output_type": "stream",
          "name": "stdout",
          "text": [
            "Mounted at /content/drive\n"
          ]
        }
      ]
    },
    {
      "cell_type": "code",
      "execution_count": null,
      "metadata": {
        "id": "zyT40MYOKP5C",
        "outputId": "be1af590-be02-43b8-8183-8ac18540b70c",
        "colab": {
          "base_uri": "https://localhost:8080/",
          "height": 206
        }
      },
      "outputs": [
        {
          "output_type": "execute_result",
          "data": {
            "text/plain": [
              "   year country  no                 name position side  height  weight  \\\n",
              "0  2001     RUS  10     tverdovsky oleg         D    L     185    84.0   \n",
              "1  2001     RUS   2   vichnevsky vitali         D    L     188    86.0   \n",
              "2  2001     RUS  26  petrochinin evgeni         D    L     182    95.0   \n",
              "3  2001     RUS  28     zhdan alexander         D    R     178    85.0   \n",
              "4  2001     RUS  32     orekhovsky oleg         D    R     175    88.0   \n",
              "\n",
              "        birth                     club        age  cohort        bmi  \n",
              "0  1976-05-18    anaheim mighty ducks   24.952772    1976  24.543462  \n",
              "1  1980-03-18    anaheim mighty ducks   21.119781    1980  24.332277  \n",
              "2  1976-02-07  severstal cherepovetal   25.229295    1976  28.680111  \n",
              "3  1971-08-28           ak bars kazan   29.675565    1971  26.827421  \n",
              "4  1977-11-03           dynamo moscow   23.490760    1977  28.734694  "
            ],
            "text/html": [
              "\n",
              "  <div id=\"df-0c4a4cac-4b57-4f21-a999-de58ae6a5005\">\n",
              "    <div class=\"colab-df-container\">\n",
              "      <div>\n",
              "<style scoped>\n",
              "    .dataframe tbody tr th:only-of-type {\n",
              "        vertical-align: middle;\n",
              "    }\n",
              "\n",
              "    .dataframe tbody tr th {\n",
              "        vertical-align: top;\n",
              "    }\n",
              "\n",
              "    .dataframe thead th {\n",
              "        text-align: right;\n",
              "    }\n",
              "</style>\n",
              "<table border=\"1\" class=\"dataframe\">\n",
              "  <thead>\n",
              "    <tr style=\"text-align: right;\">\n",
              "      <th></th>\n",
              "      <th>year</th>\n",
              "      <th>country</th>\n",
              "      <th>no</th>\n",
              "      <th>name</th>\n",
              "      <th>position</th>\n",
              "      <th>side</th>\n",
              "      <th>height</th>\n",
              "      <th>weight</th>\n",
              "      <th>birth</th>\n",
              "      <th>club</th>\n",
              "      <th>age</th>\n",
              "      <th>cohort</th>\n",
              "      <th>bmi</th>\n",
              "    </tr>\n",
              "  </thead>\n",
              "  <tbody>\n",
              "    <tr>\n",
              "      <th>0</th>\n",
              "      <td>2001</td>\n",
              "      <td>RUS</td>\n",
              "      <td>10</td>\n",
              "      <td>tverdovsky oleg</td>\n",
              "      <td>D</td>\n",
              "      <td>L</td>\n",
              "      <td>185</td>\n",
              "      <td>84.0</td>\n",
              "      <td>1976-05-18</td>\n",
              "      <td>anaheim mighty ducks</td>\n",
              "      <td>24.952772</td>\n",
              "      <td>1976</td>\n",
              "      <td>24.543462</td>\n",
              "    </tr>\n",
              "    <tr>\n",
              "      <th>1</th>\n",
              "      <td>2001</td>\n",
              "      <td>RUS</td>\n",
              "      <td>2</td>\n",
              "      <td>vichnevsky vitali</td>\n",
              "      <td>D</td>\n",
              "      <td>L</td>\n",
              "      <td>188</td>\n",
              "      <td>86.0</td>\n",
              "      <td>1980-03-18</td>\n",
              "      <td>anaheim mighty ducks</td>\n",
              "      <td>21.119781</td>\n",
              "      <td>1980</td>\n",
              "      <td>24.332277</td>\n",
              "    </tr>\n",
              "    <tr>\n",
              "      <th>2</th>\n",
              "      <td>2001</td>\n",
              "      <td>RUS</td>\n",
              "      <td>26</td>\n",
              "      <td>petrochinin evgeni</td>\n",
              "      <td>D</td>\n",
              "      <td>L</td>\n",
              "      <td>182</td>\n",
              "      <td>95.0</td>\n",
              "      <td>1976-02-07</td>\n",
              "      <td>severstal cherepovetal</td>\n",
              "      <td>25.229295</td>\n",
              "      <td>1976</td>\n",
              "      <td>28.680111</td>\n",
              "    </tr>\n",
              "    <tr>\n",
              "      <th>3</th>\n",
              "      <td>2001</td>\n",
              "      <td>RUS</td>\n",
              "      <td>28</td>\n",
              "      <td>zhdan alexander</td>\n",
              "      <td>D</td>\n",
              "      <td>R</td>\n",
              "      <td>178</td>\n",
              "      <td>85.0</td>\n",
              "      <td>1971-08-28</td>\n",
              "      <td>ak bars kazan</td>\n",
              "      <td>29.675565</td>\n",
              "      <td>1971</td>\n",
              "      <td>26.827421</td>\n",
              "    </tr>\n",
              "    <tr>\n",
              "      <th>4</th>\n",
              "      <td>2001</td>\n",
              "      <td>RUS</td>\n",
              "      <td>32</td>\n",
              "      <td>orekhovsky oleg</td>\n",
              "      <td>D</td>\n",
              "      <td>R</td>\n",
              "      <td>175</td>\n",
              "      <td>88.0</td>\n",
              "      <td>1977-11-03</td>\n",
              "      <td>dynamo moscow</td>\n",
              "      <td>23.490760</td>\n",
              "      <td>1977</td>\n",
              "      <td>28.734694</td>\n",
              "    </tr>\n",
              "  </tbody>\n",
              "</table>\n",
              "</div>\n",
              "      <button class=\"colab-df-convert\" onclick=\"convertToInteractive('df-0c4a4cac-4b57-4f21-a999-de58ae6a5005')\"\n",
              "              title=\"Convert this dataframe to an interactive table.\"\n",
              "              style=\"display:none;\">\n",
              "        \n",
              "  <svg xmlns=\"http://www.w3.org/2000/svg\" height=\"24px\"viewBox=\"0 0 24 24\"\n",
              "       width=\"24px\">\n",
              "    <path d=\"M0 0h24v24H0V0z\" fill=\"none\"/>\n",
              "    <path d=\"M18.56 5.44l.94 2.06.94-2.06 2.06-.94-2.06-.94-.94-2.06-.94 2.06-2.06.94zm-11 1L8.5 8.5l.94-2.06 2.06-.94-2.06-.94L8.5 2.5l-.94 2.06-2.06.94zm10 10l.94 2.06.94-2.06 2.06-.94-2.06-.94-.94-2.06-.94 2.06-2.06.94z\"/><path d=\"M17.41 7.96l-1.37-1.37c-.4-.4-.92-.59-1.43-.59-.52 0-1.04.2-1.43.59L10.3 9.45l-7.72 7.72c-.78.78-.78 2.05 0 2.83L4 21.41c.39.39.9.59 1.41.59.51 0 1.02-.2 1.41-.59l7.78-7.78 2.81-2.81c.8-.78.8-2.07 0-2.86zM5.41 20L4 18.59l7.72-7.72 1.47 1.35L5.41 20z\"/>\n",
              "  </svg>\n",
              "      </button>\n",
              "      \n",
              "  <style>\n",
              "    .colab-df-container {\n",
              "      display:flex;\n",
              "      flex-wrap:wrap;\n",
              "      gap: 12px;\n",
              "    }\n",
              "\n",
              "    .colab-df-convert {\n",
              "      background-color: #E8F0FE;\n",
              "      border: none;\n",
              "      border-radius: 50%;\n",
              "      cursor: pointer;\n",
              "      display: none;\n",
              "      fill: #1967D2;\n",
              "      height: 32px;\n",
              "      padding: 0 0 0 0;\n",
              "      width: 32px;\n",
              "    }\n",
              "\n",
              "    .colab-df-convert:hover {\n",
              "      background-color: #E2EBFA;\n",
              "      box-shadow: 0px 1px 2px rgba(60, 64, 67, 0.3), 0px 1px 3px 1px rgba(60, 64, 67, 0.15);\n",
              "      fill: #174EA6;\n",
              "    }\n",
              "\n",
              "    [theme=dark] .colab-df-convert {\n",
              "      background-color: #3B4455;\n",
              "      fill: #D2E3FC;\n",
              "    }\n",
              "\n",
              "    [theme=dark] .colab-df-convert:hover {\n",
              "      background-color: #434B5C;\n",
              "      box-shadow: 0px 1px 3px 1px rgba(0, 0, 0, 0.15);\n",
              "      filter: drop-shadow(0px 1px 2px rgba(0, 0, 0, 0.3));\n",
              "      fill: #FFFFFF;\n",
              "    }\n",
              "  </style>\n",
              "\n",
              "      <script>\n",
              "        const buttonEl =\n",
              "          document.querySelector('#df-0c4a4cac-4b57-4f21-a999-de58ae6a5005 button.colab-df-convert');\n",
              "        buttonEl.style.display =\n",
              "          google.colab.kernel.accessAllowed ? 'block' : 'none';\n",
              "\n",
              "        async function convertToInteractive(key) {\n",
              "          const element = document.querySelector('#df-0c4a4cac-4b57-4f21-a999-de58ae6a5005');\n",
              "          const dataTable =\n",
              "            await google.colab.kernel.invokeFunction('convertToInteractive',\n",
              "                                                     [key], {});\n",
              "          if (!dataTable) return;\n",
              "\n",
              "          const docLinkHtml = 'Like what you see? Visit the ' +\n",
              "            '<a target=\"_blank\" href=https://colab.research.google.com/notebooks/data_table.ipynb>data table notebook</a>'\n",
              "            + ' to learn more about interactive tables.';\n",
              "          element.innerHTML = '';\n",
              "          dataTable['output_type'] = 'display_data';\n",
              "          await google.colab.output.renderOutput(dataTable, element);\n",
              "          const docLink = document.createElement('div');\n",
              "          docLink.innerHTML = docLinkHtml;\n",
              "          element.appendChild(docLink);\n",
              "        }\n",
              "      </script>\n",
              "    </div>\n",
              "  </div>\n",
              "  "
            ]
          },
          "metadata": {},
          "execution_count": 3
        }
      ],
      "source": [
        "df = pd.read_csv('drive/MyDrive/hockey_players.csv', encoding=\"ISO-8859-1\")\n",
        "df.head()"
      ]
    },
    {
      "cell_type": "code",
      "source": [],
      "metadata": {
        "id": "_-YPu83j-p5Q"
      },
      "execution_count": null,
      "outputs": []
    },
    {
      "cell_type": "code",
      "execution_count": null,
      "metadata": {
        "id": "IDixqzBQKP5b",
        "outputId": "1fe16e98-8f6e-4328-db15-a107cc068576",
        "colab": {
          "base_uri": "https://localhost:8080/",
          "height": 112
        }
      },
      "outputs": [
        {
          "output_type": "execute_result",
          "data": {
            "text/plain": [
              "         height   weight\n",
              "height  1.00000  0.69311\n",
              "weight  0.69311  1.00000"
            ],
            "text/html": [
              "\n",
              "  <div id=\"df-bdc75ad2-8726-4fd5-b0f1-ca66b90349fe\">\n",
              "    <div class=\"colab-df-container\">\n",
              "      <div>\n",
              "<style scoped>\n",
              "    .dataframe tbody tr th:only-of-type {\n",
              "        vertical-align: middle;\n",
              "    }\n",
              "\n",
              "    .dataframe tbody tr th {\n",
              "        vertical-align: top;\n",
              "    }\n",
              "\n",
              "    .dataframe thead th {\n",
              "        text-align: right;\n",
              "    }\n",
              "</style>\n",
              "<table border=\"1\" class=\"dataframe\">\n",
              "  <thead>\n",
              "    <tr style=\"text-align: right;\">\n",
              "      <th></th>\n",
              "      <th>height</th>\n",
              "      <th>weight</th>\n",
              "    </tr>\n",
              "  </thead>\n",
              "  <tbody>\n",
              "    <tr>\n",
              "      <th>height</th>\n",
              "      <td>1.00000</td>\n",
              "      <td>0.69311</td>\n",
              "    </tr>\n",
              "    <tr>\n",
              "      <th>weight</th>\n",
              "      <td>0.69311</td>\n",
              "      <td>1.00000</td>\n",
              "    </tr>\n",
              "  </tbody>\n",
              "</table>\n",
              "</div>\n",
              "      <button class=\"colab-df-convert\" onclick=\"convertToInteractive('df-bdc75ad2-8726-4fd5-b0f1-ca66b90349fe')\"\n",
              "              title=\"Convert this dataframe to an interactive table.\"\n",
              "              style=\"display:none;\">\n",
              "        \n",
              "  <svg xmlns=\"http://www.w3.org/2000/svg\" height=\"24px\"viewBox=\"0 0 24 24\"\n",
              "       width=\"24px\">\n",
              "    <path d=\"M0 0h24v24H0V0z\" fill=\"none\"/>\n",
              "    <path d=\"M18.56 5.44l.94 2.06.94-2.06 2.06-.94-2.06-.94-.94-2.06-.94 2.06-2.06.94zm-11 1L8.5 8.5l.94-2.06 2.06-.94-2.06-.94L8.5 2.5l-.94 2.06-2.06.94zm10 10l.94 2.06.94-2.06 2.06-.94-2.06-.94-.94-2.06-.94 2.06-2.06.94z\"/><path d=\"M17.41 7.96l-1.37-1.37c-.4-.4-.92-.59-1.43-.59-.52 0-1.04.2-1.43.59L10.3 9.45l-7.72 7.72c-.78.78-.78 2.05 0 2.83L4 21.41c.39.39.9.59 1.41.59.51 0 1.02-.2 1.41-.59l7.78-7.78 2.81-2.81c.8-.78.8-2.07 0-2.86zM5.41 20L4 18.59l7.72-7.72 1.47 1.35L5.41 20z\"/>\n",
              "  </svg>\n",
              "      </button>\n",
              "      \n",
              "  <style>\n",
              "    .colab-df-container {\n",
              "      display:flex;\n",
              "      flex-wrap:wrap;\n",
              "      gap: 12px;\n",
              "    }\n",
              "\n",
              "    .colab-df-convert {\n",
              "      background-color: #E8F0FE;\n",
              "      border: none;\n",
              "      border-radius: 50%;\n",
              "      cursor: pointer;\n",
              "      display: none;\n",
              "      fill: #1967D2;\n",
              "      height: 32px;\n",
              "      padding: 0 0 0 0;\n",
              "      width: 32px;\n",
              "    }\n",
              "\n",
              "    .colab-df-convert:hover {\n",
              "      background-color: #E2EBFA;\n",
              "      box-shadow: 0px 1px 2px rgba(60, 64, 67, 0.3), 0px 1px 3px 1px rgba(60, 64, 67, 0.15);\n",
              "      fill: #174EA6;\n",
              "    }\n",
              "\n",
              "    [theme=dark] .colab-df-convert {\n",
              "      background-color: #3B4455;\n",
              "      fill: #D2E3FC;\n",
              "    }\n",
              "\n",
              "    [theme=dark] .colab-df-convert:hover {\n",
              "      background-color: #434B5C;\n",
              "      box-shadow: 0px 1px 3px 1px rgba(0, 0, 0, 0.15);\n",
              "      filter: drop-shadow(0px 1px 2px rgba(0, 0, 0, 0.3));\n",
              "      fill: #FFFFFF;\n",
              "    }\n",
              "  </style>\n",
              "\n",
              "      <script>\n",
              "        const buttonEl =\n",
              "          document.querySelector('#df-bdc75ad2-8726-4fd5-b0f1-ca66b90349fe button.colab-df-convert');\n",
              "        buttonEl.style.display =\n",
              "          google.colab.kernel.accessAllowed ? 'block' : 'none';\n",
              "\n",
              "        async function convertToInteractive(key) {\n",
              "          const element = document.querySelector('#df-bdc75ad2-8726-4fd5-b0f1-ca66b90349fe');\n",
              "          const dataTable =\n",
              "            await google.colab.kernel.invokeFunction('convertToInteractive',\n",
              "                                                     [key], {});\n",
              "          if (!dataTable) return;\n",
              "\n",
              "          const docLinkHtml = 'Like what you see? Visit the ' +\n",
              "            '<a target=\"_blank\" href=https://colab.research.google.com/notebooks/data_table.ipynb>data table notebook</a>'\n",
              "            + ' to learn more about interactive tables.';\n",
              "          element.innerHTML = '';\n",
              "          dataTable['output_type'] = 'display_data';\n",
              "          await google.colab.output.renderOutput(dataTable, element);\n",
              "          const docLink = document.createElement('div');\n",
              "          docLink.innerHTML = docLinkHtml;\n",
              "          element.appendChild(docLink);\n",
              "        }\n",
              "      </script>\n",
              "    </div>\n",
              "  </div>\n",
              "  "
            ]
          },
          "metadata": {},
          "execution_count": 4
        }
      ],
      "source": [
        "df[['height', 'weight']].corr()"
      ]
    },
    {
      "cell_type": "markdown",
      "metadata": {
        "id": "54n8mVpfKP5y"
      },
      "source": [
        "В результате получается матрица корреляций. Корреляция роста и веса достаточно высока. Можно сделать вывод, что, как правило, чем выше рост хоккеиста, тем больше его вес.\n",
        "\n",
        "Рассмотрим также корреляцию этих признаков с возрастом хоккеистов:"
      ]
    },
    {
      "cell_type": "code",
      "execution_count": null,
      "metadata": {
        "id": "ZAa3zLMPlO_D",
        "outputId": "120e6040-b39d-4ce7-c6de-89bc88178fb9",
        "colab": {
          "base_uri": "https://localhost:8080/",
          "height": 143
        }
      },
      "outputs": [
        {
          "output_type": "execute_result",
          "data": {
            "text/plain": [
              "          height    weight       age\n",
              "height  1.000000  0.693110 -0.077538\n",
              "weight  0.693110  1.000000  0.067994\n",
              "age    -0.077538  0.067994  1.000000"
            ],
            "text/html": [
              "\n",
              "  <div id=\"df-1bf60c3a-d3dd-4d0e-8082-db9a9377c905\">\n",
              "    <div class=\"colab-df-container\">\n",
              "      <div>\n",
              "<style scoped>\n",
              "    .dataframe tbody tr th:only-of-type {\n",
              "        vertical-align: middle;\n",
              "    }\n",
              "\n",
              "    .dataframe tbody tr th {\n",
              "        vertical-align: top;\n",
              "    }\n",
              "\n",
              "    .dataframe thead th {\n",
              "        text-align: right;\n",
              "    }\n",
              "</style>\n",
              "<table border=\"1\" class=\"dataframe\">\n",
              "  <thead>\n",
              "    <tr style=\"text-align: right;\">\n",
              "      <th></th>\n",
              "      <th>height</th>\n",
              "      <th>weight</th>\n",
              "      <th>age</th>\n",
              "    </tr>\n",
              "  </thead>\n",
              "  <tbody>\n",
              "    <tr>\n",
              "      <th>height</th>\n",
              "      <td>1.000000</td>\n",
              "      <td>0.693110</td>\n",
              "      <td>-0.077538</td>\n",
              "    </tr>\n",
              "    <tr>\n",
              "      <th>weight</th>\n",
              "      <td>0.693110</td>\n",
              "      <td>1.000000</td>\n",
              "      <td>0.067994</td>\n",
              "    </tr>\n",
              "    <tr>\n",
              "      <th>age</th>\n",
              "      <td>-0.077538</td>\n",
              "      <td>0.067994</td>\n",
              "      <td>1.000000</td>\n",
              "    </tr>\n",
              "  </tbody>\n",
              "</table>\n",
              "</div>\n",
              "      <button class=\"colab-df-convert\" onclick=\"convertToInteractive('df-1bf60c3a-d3dd-4d0e-8082-db9a9377c905')\"\n",
              "              title=\"Convert this dataframe to an interactive table.\"\n",
              "              style=\"display:none;\">\n",
              "        \n",
              "  <svg xmlns=\"http://www.w3.org/2000/svg\" height=\"24px\"viewBox=\"0 0 24 24\"\n",
              "       width=\"24px\">\n",
              "    <path d=\"M0 0h24v24H0V0z\" fill=\"none\"/>\n",
              "    <path d=\"M18.56 5.44l.94 2.06.94-2.06 2.06-.94-2.06-.94-.94-2.06-.94 2.06-2.06.94zm-11 1L8.5 8.5l.94-2.06 2.06-.94-2.06-.94L8.5 2.5l-.94 2.06-2.06.94zm10 10l.94 2.06.94-2.06 2.06-.94-2.06-.94-.94-2.06-.94 2.06-2.06.94z\"/><path d=\"M17.41 7.96l-1.37-1.37c-.4-.4-.92-.59-1.43-.59-.52 0-1.04.2-1.43.59L10.3 9.45l-7.72 7.72c-.78.78-.78 2.05 0 2.83L4 21.41c.39.39.9.59 1.41.59.51 0 1.02-.2 1.41-.59l7.78-7.78 2.81-2.81c.8-.78.8-2.07 0-2.86zM5.41 20L4 18.59l7.72-7.72 1.47 1.35L5.41 20z\"/>\n",
              "  </svg>\n",
              "      </button>\n",
              "      \n",
              "  <style>\n",
              "    .colab-df-container {\n",
              "      display:flex;\n",
              "      flex-wrap:wrap;\n",
              "      gap: 12px;\n",
              "    }\n",
              "\n",
              "    .colab-df-convert {\n",
              "      background-color: #E8F0FE;\n",
              "      border: none;\n",
              "      border-radius: 50%;\n",
              "      cursor: pointer;\n",
              "      display: none;\n",
              "      fill: #1967D2;\n",
              "      height: 32px;\n",
              "      padding: 0 0 0 0;\n",
              "      width: 32px;\n",
              "    }\n",
              "\n",
              "    .colab-df-convert:hover {\n",
              "      background-color: #E2EBFA;\n",
              "      box-shadow: 0px 1px 2px rgba(60, 64, 67, 0.3), 0px 1px 3px 1px rgba(60, 64, 67, 0.15);\n",
              "      fill: #174EA6;\n",
              "    }\n",
              "\n",
              "    [theme=dark] .colab-df-convert {\n",
              "      background-color: #3B4455;\n",
              "      fill: #D2E3FC;\n",
              "    }\n",
              "\n",
              "    [theme=dark] .colab-df-convert:hover {\n",
              "      background-color: #434B5C;\n",
              "      box-shadow: 0px 1px 3px 1px rgba(0, 0, 0, 0.15);\n",
              "      filter: drop-shadow(0px 1px 2px rgba(0, 0, 0, 0.3));\n",
              "      fill: #FFFFFF;\n",
              "    }\n",
              "  </style>\n",
              "\n",
              "      <script>\n",
              "        const buttonEl =\n",
              "          document.querySelector('#df-1bf60c3a-d3dd-4d0e-8082-db9a9377c905 button.colab-df-convert');\n",
              "        buttonEl.style.display =\n",
              "          google.colab.kernel.accessAllowed ? 'block' : 'none';\n",
              "\n",
              "        async function convertToInteractive(key) {\n",
              "          const element = document.querySelector('#df-1bf60c3a-d3dd-4d0e-8082-db9a9377c905');\n",
              "          const dataTable =\n",
              "            await google.colab.kernel.invokeFunction('convertToInteractive',\n",
              "                                                     [key], {});\n",
              "          if (!dataTable) return;\n",
              "\n",
              "          const docLinkHtml = 'Like what you see? Visit the ' +\n",
              "            '<a target=\"_blank\" href=https://colab.research.google.com/notebooks/data_table.ipynb>data table notebook</a>'\n",
              "            + ' to learn more about interactive tables.';\n",
              "          element.innerHTML = '';\n",
              "          dataTable['output_type'] = 'display_data';\n",
              "          await google.colab.output.renderOutput(dataTable, element);\n",
              "          const docLink = document.createElement('div');\n",
              "          docLink.innerHTML = docLinkHtml;\n",
              "          element.appendChild(docLink);\n",
              "        }\n",
              "      </script>\n",
              "    </div>\n",
              "  </div>\n",
              "  "
            ]
          },
          "metadata": {},
          "execution_count": 5
        }
      ],
      "source": [
        "df[['height', 'weight', 'age']].corr()"
      ]
    },
    {
      "cell_type": "code",
      "execution_count": null,
      "metadata": {
        "id": "1uoVRGCblO_D",
        "outputId": "d1ddcf66-03bb-46f7-c4fa-9b467c941a6c"
      },
      "outputs": [
        {
          "data": {
            "text/plain": [
              "17.6427104722793"
            ]
          },
          "execution_count": 5,
          "metadata": {},
          "output_type": "execute_result"
        }
      ],
      "source": [
        "df['age'].min()"
      ]
    },
    {
      "cell_type": "markdown",
      "metadata": {
        "id": "9OA_TBpnlO_E"
      },
      "source": [
        "Видно, что корреляция возраста достаточно низка как с ростом, так и с весом спортсменов."
      ]
    },
    {
      "cell_type": "markdown",
      "metadata": {
        "id": "WseQEhfilO_E"
      },
      "source": [
        "### Взаимосвязь величин\n",
        "\n",
        "Если две величины коррелируют, это может свидетельствовать о наличии _статистической связи_ между ними. Однако, говорить о ней мы можем только для величин из одной выборки. Корреляция величин в одной выборке не гарантирует того, что подобная связь встретится и в другой выборке и должна будет иметь такую же природу. \n",
        "\n",
        "Высокая корреляция между величинами не может быть интерпретирована как наличие причинно-следственной связи между ними.\n",
        "\n",
        "Например, если рассмотреть данные о пожарах в городе, можно увидеть, что между материальными потерями, вызванными пожаром, и количеством пожарных, которые принимали участие в его тушении, есть сильная корреляция. При этом ложным будет вывод о том, что большое количество пожарных, присутствующих на пожаре, приводит к увеличению ущерба от него. \n",
        "\n",
        "Высокая корреляция двух величин может свидетельствовать о том, что у них есть _общая причина_, несмотря на то, что прямого взаимодействия между двумя коррелирующими величинами нет. \n",
        "\n",
        "Например, наступление зимы может быть причиной и  роста заболеваемости простудой, и повышения расходов на отопление. Эти две величины (число заболевших и расходы на отопление) имеют высокую корреляцию между собой, хотя они друг на друга напрямую не влияют.\n",
        "\n",
        "Напротив, отсутствие корреляции между двумя величинами еще не говорит о том, что между показателями нет связи. \n",
        "Вполне возможно, что между признаками есть нелинейная зависимость, которую не может уловить используемый коэффициент корреляции."
      ]
    },
    {
      "cell_type": "markdown",
      "metadata": {
        "id": "vXpx8o_BlO_E"
      },
      "source": [
        "__Пример 2__\n",
        "\n",
        "Посчитаем корреляцию между ростом и BMI (_Body Mass Index_, т.е. _Индекс массы тела_). BMI равен весу, разделённому на квадрат роста:\n",
        "$$BMI = \\dfrac{weight}{height^2}.$$"
      ]
    },
    {
      "cell_type": "code",
      "execution_count": null,
      "metadata": {
        "id": "67rTmyfClO_F",
        "outputId": "0ec6ec47-a138-46b9-aac1-39e34a3ea7e1",
        "colab": {
          "base_uri": "https://localhost:8080/",
          "height": 143
        }
      },
      "outputs": [
        {
          "output_type": "execute_result",
          "data": {
            "text/plain": [
              "          height    weight       bmi\n",
              "height  1.000000  0.693110 -0.065423\n",
              "weight  0.693110  1.000000  0.672573\n",
              "bmi    -0.065423  0.672573  1.000000"
            ],
            "text/html": [
              "\n",
              "  <div id=\"df-d2d0f2ff-e86e-4ffc-944d-daada0bf2d34\">\n",
              "    <div class=\"colab-df-container\">\n",
              "      <div>\n",
              "<style scoped>\n",
              "    .dataframe tbody tr th:only-of-type {\n",
              "        vertical-align: middle;\n",
              "    }\n",
              "\n",
              "    .dataframe tbody tr th {\n",
              "        vertical-align: top;\n",
              "    }\n",
              "\n",
              "    .dataframe thead th {\n",
              "        text-align: right;\n",
              "    }\n",
              "</style>\n",
              "<table border=\"1\" class=\"dataframe\">\n",
              "  <thead>\n",
              "    <tr style=\"text-align: right;\">\n",
              "      <th></th>\n",
              "      <th>height</th>\n",
              "      <th>weight</th>\n",
              "      <th>bmi</th>\n",
              "    </tr>\n",
              "  </thead>\n",
              "  <tbody>\n",
              "    <tr>\n",
              "      <th>height</th>\n",
              "      <td>1.000000</td>\n",
              "      <td>0.693110</td>\n",
              "      <td>-0.065423</td>\n",
              "    </tr>\n",
              "    <tr>\n",
              "      <th>weight</th>\n",
              "      <td>0.693110</td>\n",
              "      <td>1.000000</td>\n",
              "      <td>0.672573</td>\n",
              "    </tr>\n",
              "    <tr>\n",
              "      <th>bmi</th>\n",
              "      <td>-0.065423</td>\n",
              "      <td>0.672573</td>\n",
              "      <td>1.000000</td>\n",
              "    </tr>\n",
              "  </tbody>\n",
              "</table>\n",
              "</div>\n",
              "      <button class=\"colab-df-convert\" onclick=\"convertToInteractive('df-d2d0f2ff-e86e-4ffc-944d-daada0bf2d34')\"\n",
              "              title=\"Convert this dataframe to an interactive table.\"\n",
              "              style=\"display:none;\">\n",
              "        \n",
              "  <svg xmlns=\"http://www.w3.org/2000/svg\" height=\"24px\"viewBox=\"0 0 24 24\"\n",
              "       width=\"24px\">\n",
              "    <path d=\"M0 0h24v24H0V0z\" fill=\"none\"/>\n",
              "    <path d=\"M18.56 5.44l.94 2.06.94-2.06 2.06-.94-2.06-.94-.94-2.06-.94 2.06-2.06.94zm-11 1L8.5 8.5l.94-2.06 2.06-.94-2.06-.94L8.5 2.5l-.94 2.06-2.06.94zm10 10l.94 2.06.94-2.06 2.06-.94-2.06-.94-.94-2.06-.94 2.06-2.06.94z\"/><path d=\"M17.41 7.96l-1.37-1.37c-.4-.4-.92-.59-1.43-.59-.52 0-1.04.2-1.43.59L10.3 9.45l-7.72 7.72c-.78.78-.78 2.05 0 2.83L4 21.41c.39.39.9.59 1.41.59.51 0 1.02-.2 1.41-.59l7.78-7.78 2.81-2.81c.8-.78.8-2.07 0-2.86zM5.41 20L4 18.59l7.72-7.72 1.47 1.35L5.41 20z\"/>\n",
              "  </svg>\n",
              "      </button>\n",
              "      \n",
              "  <style>\n",
              "    .colab-df-container {\n",
              "      display:flex;\n",
              "      flex-wrap:wrap;\n",
              "      gap: 12px;\n",
              "    }\n",
              "\n",
              "    .colab-df-convert {\n",
              "      background-color: #E8F0FE;\n",
              "      border: none;\n",
              "      border-radius: 50%;\n",
              "      cursor: pointer;\n",
              "      display: none;\n",
              "      fill: #1967D2;\n",
              "      height: 32px;\n",
              "      padding: 0 0 0 0;\n",
              "      width: 32px;\n",
              "    }\n",
              "\n",
              "    .colab-df-convert:hover {\n",
              "      background-color: #E2EBFA;\n",
              "      box-shadow: 0px 1px 2px rgba(60, 64, 67, 0.3), 0px 1px 3px 1px rgba(60, 64, 67, 0.15);\n",
              "      fill: #174EA6;\n",
              "    }\n",
              "\n",
              "    [theme=dark] .colab-df-convert {\n",
              "      background-color: #3B4455;\n",
              "      fill: #D2E3FC;\n",
              "    }\n",
              "\n",
              "    [theme=dark] .colab-df-convert:hover {\n",
              "      background-color: #434B5C;\n",
              "      box-shadow: 0px 1px 3px 1px rgba(0, 0, 0, 0.15);\n",
              "      filter: drop-shadow(0px 1px 2px rgba(0, 0, 0, 0.3));\n",
              "      fill: #FFFFFF;\n",
              "    }\n",
              "  </style>\n",
              "\n",
              "      <script>\n",
              "        const buttonEl =\n",
              "          document.querySelector('#df-d2d0f2ff-e86e-4ffc-944d-daada0bf2d34 button.colab-df-convert');\n",
              "        buttonEl.style.display =\n",
              "          google.colab.kernel.accessAllowed ? 'block' : 'none';\n",
              "\n",
              "        async function convertToInteractive(key) {\n",
              "          const element = document.querySelector('#df-d2d0f2ff-e86e-4ffc-944d-daada0bf2d34');\n",
              "          const dataTable =\n",
              "            await google.colab.kernel.invokeFunction('convertToInteractive',\n",
              "                                                     [key], {});\n",
              "          if (!dataTable) return;\n",
              "\n",
              "          const docLinkHtml = 'Like what you see? Visit the ' +\n",
              "            '<a target=\"_blank\" href=https://colab.research.google.com/notebooks/data_table.ipynb>data table notebook</a>'\n",
              "            + ' to learn more about interactive tables.';\n",
              "          element.innerHTML = '';\n",
              "          dataTable['output_type'] = 'display_data';\n",
              "          await google.colab.output.renderOutput(dataTable, element);\n",
              "          const docLink = document.createElement('div');\n",
              "          docLink.innerHTML = docLinkHtml;\n",
              "          element.appendChild(docLink);\n",
              "        }\n",
              "      </script>\n",
              "    </div>\n",
              "  </div>\n",
              "  "
            ]
          },
          "metadata": {},
          "execution_count": 6
        }
      ],
      "source": [
        "df[['height', 'weight', 'bmi']].corr()"
      ]
    },
    {
      "cell_type": "code",
      "execution_count": null,
      "metadata": {
        "id": "C2icWtOSlO_F"
      },
      "outputs": [],
      "source": [
        "import numpy as np"
      ]
    },
    {
      "cell_type": "code",
      "execution_count": null,
      "metadata": {
        "id": "aXPMYc2blO_F",
        "outputId": "5fecf9e8-31cf-485d-e477-e36da7c427d4"
      },
      "outputs": [
        {
          "data": {
            "text/plain": [
              "array([[ 1.        , -0.06615265],\n",
              "       [-0.06615265,  1.        ]])"
            ]
          },
          "execution_count": 10,
          "metadata": {},
          "output_type": "execute_result"
        }
      ],
      "source": [
        "np.corrcoef(df['height'] ** 2, df['bmi'])"
      ]
    },
    {
      "cell_type": "markdown",
      "metadata": {
        "id": "NW5IiZZvlO_F"
      },
      "source": [
        "Коэффициент корреляции не улавливает зависимость между ростом и BMI. Это можно объяснить тем, что зависимость между ними не линейная, а квадратичная."
      ]
    },
    {
      "cell_type": "markdown",
      "metadata": {
        "id": "ziSDDX35lO_F"
      },
      "source": [
        "### Показатели корреляции\n",
        "\n",
        "__Ковариация__ — мера линейной зависимости случайных величин. Её формула похожа на формулу дисперсии (_variance_). \n",
        "\n",
        "Формула ковариации случайных величин $X$ и $Y$:\n",
        "$$\\operatorname{cov}(X, Y) = M\\left( (X - M(X)) (Y - M(Y)) \\right).$$\n",
        "\n",
        "Оценка ковариации бывает смещённой и несмещённой. Несмещённую оценку можно посчитать следующим образом:\n",
        "$$\\sigma_{XY} = \\dfrac{1}{n - 1} \\displaystyle\\sum_{i = 1}^n (x_i - \\overline{X}) \\cdot (y_i - \\overline{Y})$$\n",
        "\n",
        "Здесь $X$, $Y$ — выборки размера $n$."
      ]
    },
    {
      "cell_type": "markdown",
      "metadata": {
        "id": "zcBCAl4blO_G"
      },
      "source": [
        "__Пример 3__\n",
        "\n",
        "Посчитаем ковариацию между ростом и весом хоккеистов."
      ]
    },
    {
      "cell_type": "code",
      "execution_count": null,
      "metadata": {
        "id": "uBeUR79qlO_G",
        "outputId": "e22bd2a1-9b2d-4fc6-b104-03f9d5c3e27a",
        "colab": {
          "base_uri": "https://localhost:8080/"
        }
      },
      "outputs": [
        {
          "output_type": "execute_result",
          "data": {
            "text/plain": [
              "25.98645551425497"
            ]
          },
          "metadata": {},
          "execution_count": 7
        }
      ],
      "source": [
        "X = df['height']\n",
        "Y = df['weight']\n",
        "\n",
        "MX = X.mean()\n",
        "MY = Y.mean()\n",
        "\n",
        "cov = ((X - MX) * (Y - MY)).sum() / (X.shape[0] - 1)\n",
        "cov"
      ]
    },
    {
      "cell_type": "markdown",
      "metadata": {
        "id": "5aijNTRRlO_G"
      },
      "source": [
        "Также с помощью `numpy`:"
      ]
    },
    {
      "cell_type": "code",
      "execution_count": null,
      "metadata": {
        "id": "v6yrgJQ7lO_G"
      },
      "outputs": [],
      "source": [
        "import numpy as np"
      ]
    },
    {
      "cell_type": "code",
      "execution_count": null,
      "metadata": {
        "id": "oPJ3K_tMlO_G",
        "outputId": "41b0b7e9-28dd-456f-ec53-dd86ac656284"
      },
      "outputs": [
        {
          "data": {
            "text/plain": [
              "array([[29.89496367, 26.71564639],\n",
              "       [26.71564639, 49.60799566]])"
            ]
          },
          "execution_count": 12,
          "metadata": {},
          "output_type": "execute_result"
        }
      ],
      "source": [
        "np.cov(X, Y, ddof=1)"
      ]
    },
    {
      "cell_type": "markdown",
      "metadata": {
        "id": "tWGLM_oMlO_G"
      },
      "source": [
        "Эта функция возвращает не значение ковариации, а т.н. __матрицу ковариаций__. В ней по диагонали стоят вариации (т.е. дисперсии) каждой из выборок, а вне диагонали — попарные ковариации."
      ]
    },
    {
      "cell_type": "code",
      "execution_count": null,
      "metadata": {
        "id": "cfnrPdHSlO_H",
        "outputId": "ef655ec3-4fb3-4291-81e4-a0eb940e3705"
      },
      "outputs": [
        {
          "data": {
            "text/plain": [
              "(29.894963668771, 49.60799565913306)"
            ]
          },
          "execution_count": 13,
          "metadata": {},
          "output_type": "execute_result"
        }
      ],
      "source": [
        "X.var(), Y.var()"
      ]
    },
    {
      "cell_type": "markdown",
      "metadata": {
        "id": "jwtHl60slO_H"
      },
      "source": [
        "Значение ковариации случайных величин сильно зависит от уровня разброса каждой из величин. Например, если в предыдущем примере домножить одну из выборок на какую-то константу, коэффициент ковариации также увеличится:"
      ]
    },
    {
      "cell_type": "code",
      "execution_count": null,
      "metadata": {
        "id": "CWGsdsXrlO_H"
      },
      "outputs": [],
      "source": [
        "np.cov(X * 10, Y)"
      ]
    },
    {
      "cell_type": "markdown",
      "metadata": {
        "id": "juUpH4Z5lO_H"
      },
      "source": [
        "Поэтому в качестве числовой характеристики зависимости случайных величин лучше использовать __коэффициент корреляции Пирсона__:\n",
        "$$r_{XY} = \\dfrac{\\sigma_{XY}}{\\sigma_X \\cdot \\sigma_Y}$$\n",
        "\n",
        "Здесь $\\sigma_X$, $\\sigma_Y$ — среднее квадратическое отклонение."
      ]
    },
    {
      "cell_type": "markdown",
      "metadata": {
        "id": "zAAmDgMwlO_H"
      },
      "source": [
        "__Пример 4__\n",
        "\n",
        "Посчитаем коэффициент корреляции для выборок из предыдущего примера. Для вычисления средних квадратических отклонений воспользуемся методом `.std`, который по умолчанию вычисляет несмещённую оценку."
      ]
    },
    {
      "cell_type": "code",
      "execution_count": null,
      "metadata": {
        "id": "WU0jUhOwlO_H",
        "outputId": "d15d7bc4-f414-4b27-ace3-9dcd8d0b231a"
      },
      "outputs": [
        {
          "data": {
            "text/plain": [
              "0.6937305679663021"
            ]
          },
          "execution_count": 14,
          "metadata": {},
          "output_type": "execute_result"
        }
      ],
      "source": [
        "corr = cov / (X.std() * Y.std())\n",
        "corr"
      ]
    },
    {
      "cell_type": "markdown",
      "metadata": {
        "id": "VwES3IXtlO_I"
      },
      "source": [
        "Коэффициент корреляции Пирсона считается по умолчанию с помощью метода `.corr` объектов `pandas.DataFrame`, с помощью которого мы вычисляли корреляцию ранее:"
      ]
    },
    {
      "cell_type": "code",
      "execution_count": null,
      "metadata": {
        "id": "O-7jBjY2lO_I",
        "outputId": "861d28e5-c7ba-4f76-d664-00d398466e51"
      },
      "outputs": [
        {
          "data": {
            "text/html": [
              "<div>\n",
              "<style scoped>\n",
              "    .dataframe tbody tr th:only-of-type {\n",
              "        vertical-align: middle;\n",
              "    }\n",
              "\n",
              "    .dataframe tbody tr th {\n",
              "        vertical-align: top;\n",
              "    }\n",
              "\n",
              "    .dataframe thead th {\n",
              "        text-align: right;\n",
              "    }\n",
              "</style>\n",
              "<table border=\"1\" class=\"dataframe\">\n",
              "  <thead>\n",
              "    <tr style=\"text-align: right;\">\n",
              "      <th></th>\n",
              "      <th>height</th>\n",
              "      <th>weight</th>\n",
              "    </tr>\n",
              "  </thead>\n",
              "  <tbody>\n",
              "    <tr>\n",
              "      <th>height</th>\n",
              "      <td>1.000000</td>\n",
              "      <td>0.693731</td>\n",
              "    </tr>\n",
              "    <tr>\n",
              "      <th>weight</th>\n",
              "      <td>0.693731</td>\n",
              "      <td>1.000000</td>\n",
              "    </tr>\n",
              "  </tbody>\n",
              "</table>\n",
              "</div>"
            ],
            "text/plain": [
              "          height    weight\n",
              "height  1.000000  0.693731\n",
              "weight  0.693731  1.000000"
            ]
          },
          "execution_count": 15,
          "metadata": {},
          "output_type": "execute_result"
        }
      ],
      "source": [
        "df[['height', 'weight']].corr()"
      ]
    },
    {
      "cell_type": "markdown",
      "metadata": {
        "id": "2WCHvnWVlO_I"
      },
      "source": [
        "Ту же самую матрицу корреляций можно получить с помощью функции `numpy.corrcoef`."
      ]
    },
    {
      "cell_type": "code",
      "execution_count": null,
      "metadata": {
        "id": "ala-L-welO_I",
        "outputId": "11547631-8543-441a-afc2-4828e77c37fc"
      },
      "outputs": [
        {
          "data": {
            "text/plain": [
              "array([[1.        , 0.69373057],\n",
              "       [0.69373057, 1.        ]])"
            ]
          },
          "execution_count": 16,
          "metadata": {},
          "output_type": "execute_result"
        }
      ],
      "source": [
        "np.corrcoef(X, Y)"
      ]
    },
    {
      "cell_type": "markdown",
      "metadata": {
        "id": "e_10v7ZrlO_I"
      },
      "source": [
        "Плюсы использования коэффициента Пирсона:\n",
        "* Использует много информации (средние и отклонения выборок),\n",
        "* Позволяет проводить тесты на значимость корреляции: статистика\n",
        "$$t = \\frac{r \\sqrt{n - 2}}{\\sqrt{1 - r^2}}$$\n",
        "имеет распределение Стьюдента с $n - 2$ степенями свободы.\n",
        "\n",
        "Минусы:\n",
        "* **Выборки должны иметь нормальное распределение**,\n",
        "* Измеряет уровень _линейной зависимости_."
      ]
    },
    {
      "cell_type": "markdown",
      "metadata": {
        "id": "T8BGcqBJlO_I"
      },
      "source": [
        "__Ранговая корреляция__\n",
        "\n",
        "Помимо линейной зависимости существует также понятие __ранговой__ (или __порядковой__) зависимости. Это тип зависимости, при котором увеличение значения одной случайной величины соответствует увеличению второй, а уменьшение первой — уменьшению второй. Однако, в отличие от линейной зависимости, при ранговой зависимости не требуется чтобы степень увеличения или уменьшения двух значений были линейно зависимы.\n",
        "\n",
        "Высокое значение ранговой корреляции означает, что если отсортировать два массива по возрастанию первого, то второй также будет возрастать."
      ]
    },
    {
      "cell_type": "markdown",
      "metadata": {
        "id": "mN3J-DA7lO_J"
      },
      "source": [
        "__Пример 5__\n",
        "\n",
        "Сгенерируем выборку из экспоненциального распределения размера $100$. Вторую выборку получим, возведя первую в пятую степень. (Т.е. в этом случае имеем прямую зависимость между выборками.)"
      ]
    },
    {
      "cell_type": "code",
      "execution_count": null,
      "metadata": {
        "id": "D3NIpFNDlO_J",
        "colab": {
          "base_uri": "https://localhost:8080/"
        },
        "outputId": "4145a629-e1e7-427b-dc9d-b9b38805f249"
      },
      "outputs": [
        {
          "output_type": "stream",
          "name": "stderr",
          "text": [
            "<ipython-input-8-df1c9cc31185>:2: MatplotlibDeprecationWarning: The seaborn styles shipped by Matplotlib are deprecated since 3.6, as they no longer correspond to the styles shipped by seaborn. However, they will remain available as 'seaborn-v0_8-<style>'. Alternatively, directly use the seaborn API instead.\n",
            "  plt.style.use('seaborn-whitegrid')\n"
          ]
        }
      ],
      "source": [
        "from matplotlib import pyplot as plt\n",
        "plt.style.use('seaborn-whitegrid')"
      ]
    },
    {
      "cell_type": "code",
      "execution_count": null,
      "metadata": {
        "id": "UFSTHTg9lO_J",
        "outputId": "d88007c2-49c7-4022-d3d9-afb6f06b1ce5",
        "colab": {
          "base_uri": "https://localhost:8080/",
          "height": 279
        }
      },
      "outputs": [
        {
          "output_type": "execute_result",
          "data": {
            "text/plain": [
              "<matplotlib.collections.PathCollection at 0x7f97f2b08be0>"
            ]
          },
          "metadata": {},
          "execution_count": 11
        },
        {
          "output_type": "display_data",
          "data": {
            "text/plain": [
              "<Figure size 432x288 with 1 Axes>"
            ],
            "image/png": "[encoded data removed]"
          },
          "metadata": {}
        }
      ],
      "source": [
        "x = np.random.exponential(size=100)\n",
        "y = x ** 5\n",
        "\n",
        "plt.scatter(x, y)"
      ]
    },
    {
      "cell_type": "markdown",
      "metadata": {
        "id": "qYJhqbiJlO_J"
      },
      "source": [
        "Посчитаем коэффициент корреляции Пирсона:"
      ]
    },
    {
      "cell_type": "code",
      "execution_count": null,
      "metadata": {
        "id": "3I7i2sGwlO_J",
        "outputId": "70e368fb-efeb-48b4-c5e4-775c7bec7e0c",
        "colab": {
          "base_uri": "https://localhost:8080/"
        }
      },
      "outputs": [
        {
          "output_type": "execute_result",
          "data": {
            "text/plain": [
              "array([[1.        , 0.75841769],\n",
              "       [0.75841769, 1.        ]])"
            ]
          },
          "metadata": {},
          "execution_count": 12
        }
      ],
      "source": [
        "np.corrcoef(x, y)"
      ]
    },
    {
      "cell_type": "markdown",
      "metadata": {
        "id": "LAXB68oKlO_J"
      },
      "source": [
        "Несмотря на наличие прямой зависимости между переменными, коэффициент корреляции Пирсона оказался не очень высоким. Причина в том, что, коэффициент Пирсона отражает уровень именно линейной зависимости.\n",
        "\n",
        "Если нас интересует уровень зависимости вообще, ранговые показатели оказываются более полезными."
      ]
    },
    {
      "cell_type": "markdown",
      "metadata": {
        "id": "IzAGcZRKlO_K"
      },
      "source": [
        "Популярными коэффициентами ранговой корреляции являются коэффициент Кендалла и коэффициент Спирмана. \n",
        "Допустим, $(x_1, y_1)$, ..., $(x_m, y_m)$ — все пары значений двух выборок. Две пары $(x_i, y_i)$ и $(x_j, y_j)$ называются __согласованными__, если $x_i < x_j$ и $y_i < y_j$, или наоборот $x_i > x_j$ и $y_i > y_j$. В противном случае они называются __несогласованными__. \n",
        "\n",
        "Пусть $P$ — число всех согласованных комбинаций из двух пар, а $Q$ — число всех несогласованных комбинаций двух пар. __Коэффициент корреляции Кендалла__:\n",
        "$$\\tau = \\dfrac{P - Q}{P + Q}$$\n",
        "\n",
        "_Замечание_. Такое определение коэффициента Кендалла возможно только если выборки $X$ и $Y$ не имеют повторов. Существуют уточнённые версии коэффициента Кендалла, допускающие повторы."
      ]
    },
    {
      "cell_type": "markdown",
      "metadata": {
        "id": "mTwgM7PLlO_K"
      },
      "source": [
        "__Пример 5 (продолжение)__\n",
        "\n",
        "Посчитаем коэффициент Кендалла для сравнения. Сперва сделаем это вручную."
      ]
    },
    {
      "cell_type": "code",
      "execution_count": null,
      "metadata": {
        "id": "k5eAIz3rlO_K"
      },
      "outputs": [],
      "source": [
        "def is_concordant(pair1: tuple, pair2: tuple) -> bool:\n",
        "    \"\"\"Являются ли две пары согласованными.\n",
        "    \"\"\"\n",
        "    \n",
        "    \n",
        "    return (pair1[0] - pair2[0]) * (pair1[1] - pair2[1]) > 0"
      ]
    },
    {
      "cell_type": "markdown",
      "metadata": {
        "id": "W9wU4xfBlO_K"
      },
      "source": [
        "Число согласованных и несогласованных пар посчитаем с использованием функции `combinations` из библиотеки `itertools`. Она возвращает итератор по всем сочетаниям из заданного набора."
      ]
    },
    {
      "cell_type": "code",
      "execution_count": null,
      "metadata": {
        "id": "6JP_TsgwlO_K"
      },
      "outputs": [],
      "source": [
        "from itertools import combinations"
      ]
    },
    {
      "cell_type": "code",
      "execution_count": null,
      "metadata": {
        "id": "PBjns1xilO_K",
        "outputId": "01dc690f-61b6-45d9-a149-8e13e19e1c08",
        "colab": {
          "base_uri": "https://localhost:8080/"
        }
      },
      "outputs": [
        {
          "output_type": "execute_result",
          "data": {
            "text/plain": [
              "[(0, 1),\n",
              " (0, 2),\n",
              " (0, 3),\n",
              " (0, 4),\n",
              " (0, 5),\n",
              " (1, 2),\n",
              " (1, 3),\n",
              " (1, 4),\n",
              " (1, 5),\n",
              " (2, 3),\n",
              " (2, 4),\n",
              " (2, 5),\n",
              " (3, 4),\n",
              " (3, 5),\n",
              " (4, 5)]"
            ]
          },
          "metadata": {},
          "execution_count": 15
        }
      ],
      "source": [
        "list(combinations(range(6), r=2))"
      ]
    },
    {
      "cell_type": "code",
      "execution_count": null,
      "metadata": {
        "id": "7pMWwtANlO_K",
        "outputId": "c9980398-45e7-4c3e-9278-5d85264637cb",
        "colab": {
          "base_uri": "https://localhost:8080/"
        }
      },
      "outputs": [
        {
          "output_type": "execute_result",
          "data": {
            "text/plain": [
              "[(0.600202535646093, 0.07789133173326863),\n",
              " (1.2939788724564285, 3.6277381074238595),\n",
              " (0.7366101122037481, 0.21686445883707503),\n",
              " (0.05882241927702614, 7.042298218121882e-07),\n",
              " (1.0560855555173994, 1.3136979229497887),\n",
              " (0.556484591878266, 0.05336613122274374),\n",
              " (0.8926379042249319, 0.566730547184618),\n",
              " (0.24933191732570667, 0.0009635835639082204),\n",
              " (0.9237865274427648, 0.6727568383256527),\n",
              " (1.2641702293377401, 3.228700740631363)]"
            ]
          },
          "metadata": {},
          "execution_count": 16
        }
      ],
      "source": [
        "list(zip(x, y))[:10]"
      ]
    },
    {
      "cell_type": "code",
      "execution_count": null,
      "metadata": {
        "id": "eTyt_U_ClO_L",
        "outputId": "9c3ceac5-f4a9-4c98-c175-156934c289f3",
        "colab": {
          "base_uri": "https://localhost:8080/"
        }
      },
      "outputs": [
        {
          "output_type": "execute_result",
          "data": {
            "text/plain": [
              "(4950, 0)"
            ]
          },
          "metadata": {},
          "execution_count": 17
        }
      ],
      "source": [
        "P = 0\n",
        "Q = 0\n",
        "\n",
        "for pair1, pair2 in combinations(zip(x, y), r=2):\n",
        "    if is_concordant(pair1, pair2):\n",
        "        P += 1\n",
        "    else:\n",
        "        Q += 1\n",
        "        \n",
        "P, Q"
      ]
    },
    {
      "cell_type": "markdown",
      "metadata": {
        "id": "e7i7SsFJlO_L"
      },
      "source": [
        "Итак, коэффициент:"
      ]
    },
    {
      "cell_type": "code",
      "execution_count": null,
      "metadata": {
        "id": "lUWI7sPYlO_L",
        "outputId": "8dfbf8f0-2732-4721-a66a-5fa77a8ebf1b",
        "colab": {
          "base_uri": "https://localhost:8080/"
        }
      },
      "outputs": [
        {
          "output_type": "execute_result",
          "data": {
            "text/plain": [
              "1.0"
            ]
          },
          "metadata": {},
          "execution_count": 18
        }
      ],
      "source": [
        "tau = (P - Q) / (P + Q)\n",
        "tau"
      ]
    },
    {
      "cell_type": "markdown",
      "metadata": {
        "id": "fkoffVr4lO_L"
      },
      "source": [
        "Готовая реализация коэффициента Кендалла есть в библиотеке `pandas`. В метод `.corr` нужно подать аргумент `method='kendall'`."
      ]
    },
    {
      "cell_type": "code",
      "execution_count": null,
      "metadata": {
        "id": "gQkshxOrlO_L",
        "outputId": "00f6faf8-1a13-4a1e-a05b-3e0ee320f337",
        "colab": {
          "base_uri": "https://localhost:8080/",
          "height": 112
        }
      },
      "outputs": [
        {
          "output_type": "execute_result",
          "data": {
            "text/plain": [
              "     x    y\n",
              "x  1.0  1.0\n",
              "y  1.0  1.0"
            ],
            "text/html": [
              "\n",
              "  <div id=\"df-e8458060-02c0-4db8-899e-ee3e2229a9ed\">\n",
              "    <div class=\"colab-df-container\">\n",
              "      <div>\n",
              "<style scoped>\n",
              "    .dataframe tbody tr th:only-of-type {\n",
              "        vertical-align: middle;\n",
              "    }\n",
              "\n",
              "    .dataframe tbody tr th {\n",
              "        vertical-align: top;\n",
              "    }\n",
              "\n",
              "    .dataframe thead th {\n",
              "        text-align: right;\n",
              "    }\n",
              "</style>\n",
              "<table border=\"1\" class=\"dataframe\">\n",
              "  <thead>\n",
              "    <tr style=\"text-align: right;\">\n",
              "      <th></th>\n",
              "      <th>x</th>\n",
              "      <th>y</th>\n",
              "    </tr>\n",
              "  </thead>\n",
              "  <tbody>\n",
              "    <tr>\n",
              "      <th>x</th>\n",
              "      <td>1.0</td>\n",
              "      <td>1.0</td>\n",
              "    </tr>\n",
              "    <tr>\n",
              "      <th>y</th>\n",
              "      <td>1.0</td>\n",
              "      <td>1.0</td>\n",
              "    </tr>\n",
              "  </tbody>\n",
              "</table>\n",
              "</div>\n",
              "      <button class=\"colab-df-convert\" onclick=\"convertToInteractive('df-e8458060-02c0-4db8-899e-ee3e2229a9ed')\"\n",
              "              title=\"Convert this dataframe to an interactive table.\"\n",
              "              style=\"display:none;\">\n",
              "        \n",
              "  <svg xmlns=\"http://www.w3.org/2000/svg\" height=\"24px\"viewBox=\"0 0 24 24\"\n",
              "       width=\"24px\">\n",
              "    <path d=\"M0 0h24v24H0V0z\" fill=\"none\"/>\n",
              "    <path d=\"M18.56 5.44l.94 2.06.94-2.06 2.06-.94-2.06-.94-.94-2.06-.94 2.06-2.06.94zm-11 1L8.5 8.5l.94-2.06 2.06-.94-2.06-.94L8.5 2.5l-.94 2.06-2.06.94zm10 10l.94 2.06.94-2.06 2.06-.94-2.06-.94-.94-2.06-.94 2.06-2.06.94z\"/><path d=\"M17.41 7.96l-1.37-1.37c-.4-.4-.92-.59-1.43-.59-.52 0-1.04.2-1.43.59L10.3 9.45l-7.72 7.72c-.78.78-.78 2.05 0 2.83L4 21.41c.39.39.9.59 1.41.59.51 0 1.02-.2 1.41-.59l7.78-7.78 2.81-2.81c.8-.78.8-2.07 0-2.86zM5.41 20L4 18.59l7.72-7.72 1.47 1.35L5.41 20z\"/>\n",
              "  </svg>\n",
              "      </button>\n",
              "      \n",
              "  <style>\n",
              "    .colab-df-container {\n",
              "      display:flex;\n",
              "      flex-wrap:wrap;\n",
              "      gap: 12px;\n",
              "    }\n",
              "\n",
              "    .colab-df-convert {\n",
              "      background-color: #E8F0FE;\n",
              "      border: none;\n",
              "      border-radius: 50%;\n",
              "      cursor: pointer;\n",
              "      display: none;\n",
              "      fill: #1967D2;\n",
              "      height: 32px;\n",
              "      padding: 0 0 0 0;\n",
              "      width: 32px;\n",
              "    }\n",
              "\n",
              "    .colab-df-convert:hover {\n",
              "      background-color: #E2EBFA;\n",
              "      box-shadow: 0px 1px 2px rgba(60, 64, 67, 0.3), 0px 1px 3px 1px rgba(60, 64, 67, 0.15);\n",
              "      fill: #174EA6;\n",
              "    }\n",
              "\n",
              "    [theme=dark] .colab-df-convert {\n",
              "      background-color: #3B4455;\n",
              "      fill: #D2E3FC;\n",
              "    }\n",
              "\n",
              "    [theme=dark] .colab-df-convert:hover {\n",
              "      background-color: #434B5C;\n",
              "      box-shadow: 0px 1px 3px 1px rgba(0, 0, 0, 0.15);\n",
              "      filter: drop-shadow(0px 1px 2px rgba(0, 0, 0, 0.3));\n",
              "      fill: #FFFFFF;\n",
              "    }\n",
              "  </style>\n",
              "\n",
              "      <script>\n",
              "        const buttonEl =\n",
              "          document.querySelector('#df-e8458060-02c0-4db8-899e-ee3e2229a9ed button.colab-df-convert');\n",
              "        buttonEl.style.display =\n",
              "          google.colab.kernel.accessAllowed ? 'block' : 'none';\n",
              "\n",
              "        async function convertToInteractive(key) {\n",
              "          const element = document.querySelector('#df-e8458060-02c0-4db8-899e-ee3e2229a9ed');\n",
              "          const dataTable =\n",
              "            await google.colab.kernel.invokeFunction('convertToInteractive',\n",
              "                                                     [key], {});\n",
              "          if (!dataTable) return;\n",
              "\n",
              "          const docLinkHtml = 'Like what you see? Visit the ' +\n",
              "            '<a target=\"_blank\" href=https://colab.research.google.com/notebooks/data_table.ipynb>data table notebook</a>'\n",
              "            + ' to learn more about interactive tables.';\n",
              "          element.innerHTML = '';\n",
              "          dataTable['output_type'] = 'display_data';\n",
              "          await google.colab.output.renderOutput(dataTable, element);\n",
              "          const docLink = document.createElement('div');\n",
              "          docLink.innerHTML = docLinkHtml;\n",
              "          element.appendChild(docLink);\n",
              "        }\n",
              "      </script>\n",
              "    </div>\n",
              "  </div>\n",
              "  "
            ]
          },
          "metadata": {},
          "execution_count": 19
        }
      ],
      "source": [
        "pd.DataFrame({'x': x, 'y': y}).corr(method='kendall')"
      ]
    },
    {
      "cell_type": "markdown",
      "metadata": {
        "id": "NCuOMRDZlO_L"
      },
      "source": [
        "Про уточнённые версии коэффициента Кендалла можно почитать, например, [здесь](https://en.wikipedia.org/wiki/Kendall_rank_correlation_coefficient)."
      ]
    },
    {
      "cell_type": "markdown",
      "metadata": {
        "id": "MWJhSAsslO_L"
      },
      "source": [
        "Плюсы использования коэффициента Кендалла:\n",
        "* Не требует нормальности распределений,\n",
        "* Порядковая зависимость является обобщением линейной.\n",
        "\n",
        "Минусы:\n",
        "* Использует меньше информации, чем коэффициент Пирсона (соответствие значений между парами элементов),\n",
        "* Прямое проведение тестов на значимость корреляции малореально."
      ]
    },
    {
      "cell_type": "code",
      "execution_count": null,
      "metadata": {
        "id": "rpEZ9hEglO_L",
        "outputId": "85ffde20-3cd4-4428-d262-24a24f47c853",
        "colab": {
          "base_uri": "https://localhost:8080/",
          "height": 143
        }
      },
      "outputs": [
        {
          "output_type": "execute_result",
          "data": {
            "text/plain": [
              "          height    weight       bmi\n",
              "height  1.000000  0.515290 -0.013611\n",
              "weight  0.515290  1.000000  0.505592\n",
              "bmi    -0.013611  0.505592  1.000000"
            ],
            "text/html": [
              "\n",
              "  <div id=\"df-eff65da7-62a6-4d52-8405-fb4b7604a538\">\n",
              "    <div class=\"colab-df-container\">\n",
              "      <div>\n",
              "<style scoped>\n",
              "    .dataframe tbody tr th:only-of-type {\n",
              "        vertical-align: middle;\n",
              "    }\n",
              "\n",
              "    .dataframe tbody tr th {\n",
              "        vertical-align: top;\n",
              "    }\n",
              "\n",
              "    .dataframe thead th {\n",
              "        text-align: right;\n",
              "    }\n",
              "</style>\n",
              "<table border=\"1\" class=\"dataframe\">\n",
              "  <thead>\n",
              "    <tr style=\"text-align: right;\">\n",
              "      <th></th>\n",
              "      <th>height</th>\n",
              "      <th>weight</th>\n",
              "      <th>bmi</th>\n",
              "    </tr>\n",
              "  </thead>\n",
              "  <tbody>\n",
              "    <tr>\n",
              "      <th>height</th>\n",
              "      <td>1.000000</td>\n",
              "      <td>0.515290</td>\n",
              "      <td>-0.013611</td>\n",
              "    </tr>\n",
              "    <tr>\n",
              "      <th>weight</th>\n",
              "      <td>0.515290</td>\n",
              "      <td>1.000000</td>\n",
              "      <td>0.505592</td>\n",
              "    </tr>\n",
              "    <tr>\n",
              "      <th>bmi</th>\n",
              "      <td>-0.013611</td>\n",
              "      <td>0.505592</td>\n",
              "      <td>1.000000</td>\n",
              "    </tr>\n",
              "  </tbody>\n",
              "</table>\n",
              "</div>\n",
              "      <button class=\"colab-df-convert\" onclick=\"convertToInteractive('df-eff65da7-62a6-4d52-8405-fb4b7604a538')\"\n",
              "              title=\"Convert this dataframe to an interactive table.\"\n",
              "              style=\"display:none;\">\n",
              "        \n",
              "  <svg xmlns=\"http://www.w3.org/2000/svg\" height=\"24px\"viewBox=\"0 0 24 24\"\n",
              "       width=\"24px\">\n",
              "    <path d=\"M0 0h24v24H0V0z\" fill=\"none\"/>\n",
              "    <path d=\"M18.56 5.44l.94 2.06.94-2.06 2.06-.94-2.06-.94-.94-2.06-.94 2.06-2.06.94zm-11 1L8.5 8.5l.94-2.06 2.06-.94-2.06-.94L8.5 2.5l-.94 2.06-2.06.94zm10 10l.94 2.06.94-2.06 2.06-.94-2.06-.94-.94-2.06-.94 2.06-2.06.94z\"/><path d=\"M17.41 7.96l-1.37-1.37c-.4-.4-.92-.59-1.43-.59-.52 0-1.04.2-1.43.59L10.3 9.45l-7.72 7.72c-.78.78-.78 2.05 0 2.83L4 21.41c.39.39.9.59 1.41.59.51 0 1.02-.2 1.41-.59l7.78-7.78 2.81-2.81c.8-.78.8-2.07 0-2.86zM5.41 20L4 18.59l7.72-7.72 1.47 1.35L5.41 20z\"/>\n",
              "  </svg>\n",
              "      </button>\n",
              "      \n",
              "  <style>\n",
              "    .colab-df-container {\n",
              "      display:flex;\n",
              "      flex-wrap:wrap;\n",
              "      gap: 12px;\n",
              "    }\n",
              "\n",
              "    .colab-df-convert {\n",
              "      background-color: #E8F0FE;\n",
              "      border: none;\n",
              "      border-radius: 50%;\n",
              "      cursor: pointer;\n",
              "      display: none;\n",
              "      fill: #1967D2;\n",
              "      height: 32px;\n",
              "      padding: 0 0 0 0;\n",
              "      width: 32px;\n",
              "    }\n",
              "\n",
              "    .colab-df-convert:hover {\n",
              "      background-color: #E2EBFA;\n",
              "      box-shadow: 0px 1px 2px rgba(60, 64, 67, 0.3), 0px 1px 3px 1px rgba(60, 64, 67, 0.15);\n",
              "      fill: #174EA6;\n",
              "    }\n",
              "\n",
              "    [theme=dark] .colab-df-convert {\n",
              "      background-color: #3B4455;\n",
              "      fill: #D2E3FC;\n",
              "    }\n",
              "\n",
              "    [theme=dark] .colab-df-convert:hover {\n",
              "      background-color: #434B5C;\n",
              "      box-shadow: 0px 1px 3px 1px rgba(0, 0, 0, 0.15);\n",
              "      filter: drop-shadow(0px 1px 2px rgba(0, 0, 0, 0.3));\n",
              "      fill: #FFFFFF;\n",
              "    }\n",
              "  </style>\n",
              "\n",
              "      <script>\n",
              "        const buttonEl =\n",
              "          document.querySelector('#df-eff65da7-62a6-4d52-8405-fb4b7604a538 button.colab-df-convert');\n",
              "        buttonEl.style.display =\n",
              "          google.colab.kernel.accessAllowed ? 'block' : 'none';\n",
              "\n",
              "        async function convertToInteractive(key) {\n",
              "          const element = document.querySelector('#df-eff65da7-62a6-4d52-8405-fb4b7604a538');\n",
              "          const dataTable =\n",
              "            await google.colab.kernel.invokeFunction('convertToInteractive',\n",
              "                                                     [key], {});\n",
              "          if (!dataTable) return;\n",
              "\n",
              "          const docLinkHtml = 'Like what you see? Visit the ' +\n",
              "            '<a target=\"_blank\" href=https://colab.research.google.com/notebooks/data_table.ipynb>data table notebook</a>'\n",
              "            + ' to learn more about interactive tables.';\n",
              "          element.innerHTML = '';\n",
              "          dataTable['output_type'] = 'display_data';\n",
              "          await google.colab.output.renderOutput(dataTable, element);\n",
              "          const docLink = document.createElement('div');\n",
              "          docLink.innerHTML = docLinkHtml;\n",
              "          element.appendChild(docLink);\n",
              "        }\n",
              "      </script>\n",
              "    </div>\n",
              "  </div>\n",
              "  "
            ]
          },
          "metadata": {},
          "execution_count": 20
        }
      ],
      "source": [
        "df[['height', 'weight', 'bmi']].corr(method='kendall')"
      ]
    },
    {
      "cell_type": "markdown",
      "metadata": {
        "id": "1pam92YHlO_M"
      },
      "source": [
        "### Проверка на нормальность\n",
        "\n",
        "Ранее неоднократно отмечалось, что применимость того или иного метода сильно зависит от того, является ли распределение в выборке нормальным. \n",
        "\n",
        "Методы проверки на нормальность делятся на 3 класса:\n",
        "1. Графические методы:\n",
        "    * Гистограмма,\n",
        "    * Q-Q кривая,\n",
        "2. Методы на основании правил разброса (стандартное отклонение, 2 сигмы, 3 сигмы),\n",
        "3. Статистические методы:\n",
        "    * Колмогорова-Смирнова,\n",
        "    * Шапиро-Уилка,\n",
        "    * ...\n",
        "\n",
        "Как следует из названия, __графическе методы__ используют для проверки на нормальность различные графики и диаграммы.\n",
        "\n",
        "Например, по выборке можно построить гистограмму и оценить, насколько она «похожа» на гистограмму нормального распределения."
      ]
    },
    {
      "cell_type": "markdown",
      "metadata": {
        "id": "rmefSycSlO_M"
      },
      "source": [
        "__Пример 6__\n",
        "\n",
        "Построим гистограммы некоторых признаков из нашего датасета о хоккеистах. Поверх них нарисуем функции плотностей для нормальных распределений с соответствующими параметрами."
      ]
    },
    {
      "cell_type": "code",
      "execution_count": null,
      "metadata": {
        "id": "wops7mp3lO_M"
      },
      "outputs": [],
      "source": [
        "from scipy import stats"
      ]
    },
    {
      "cell_type": "code",
      "execution_count": null,
      "metadata": {
        "id": "8p70J9dllO_M",
        "outputId": "891bc755-98c2-4d68-bf72-58636b9bbc4c",
        "colab": {
          "base_uri": "https://localhost:8080/",
          "height": 277
        }
      },
      "outputs": [
        {
          "output_type": "display_data",
          "data": {
            "text/plain": [
              "<Figure size 864x288 with 3 Axes>"
            ],
            "image/png": "[encoded data removed]"
          },
          "metadata": {}
        }
      ],
      "source": [
        "keys = ['age', 'weight', 'height']\n",
        "\n",
        "fig, axes = plt.subplots(ncols=len(keys))\n",
        "fig.set_size_inches(4 * len(keys), 4)\n",
        "axes = axes.flatten()\n",
        "\n",
        "for key, ax in zip(keys, axes):\n",
        "    ax.hist(df[key], density=True)\n",
        "    \n",
        "    loc = df[key].mean()\n",
        "    scale = df[key].std()\n",
        "    \n",
        "    x_left, x_right = ax.get_xlim()\n",
        "    x = np.linspace(x_left, x_right, 10000)\n",
        "    y = stats.norm.pdf(x, loc=loc, scale=scale)\n",
        "    \n",
        "    ax.plot(x, y, linestyle='dashed')\n",
        "    ax.set_title(key)"
      ]
    },
    {
      "cell_type": "markdown",
      "metadata": {
        "id": "bgPhS6rslO_M"
      },
      "source": [
        "Другой способ графически оценить нормальность выборки — __Q-Q кривая__ (или __кривая квантиль-квантиль__):\n",
        "1. По данной выборке считаем выборочные среднее $a$ и среднее квадратическое отклонение $\\sigma$.\n",
        "2. Для каждого значения $\\alpha \\in (0, 1)$ откладываем по оси $x$ квантиль порядка $\\alpha$ для нормального распределения с параметрами $a$, $\\sigma$, а по оси $y$ — выборочный квантиль порядка $\\alpha$.\n",
        "\n",
        "Получившийся набор точек должен лежать на прямой $f(x) = x$. Оценить близость получившихся точек к данной прямой можно с помощью _парной регрессии_.\n",
        "\n",
        "__Пример 7__\n",
        "\n",
        "Построим Q-Q кривую для выборок из предыдущего примера."
      ]
    },
    {
      "cell_type": "code",
      "execution_count": null,
      "metadata": {
        "id": "uSdfB2dxlO_M",
        "outputId": "0fdcf055-add0-471d-aa3b-cf4f92b0db00"
      },
      "outputs": [
        {
          "data": {
            "image/png": "[encoded data removed]",
            "text/plain": [
              "<Figure size 864x288 with 3 Axes>"
            ]
          },
          "metadata": {},
          "output_type": "display_data"
        }
      ],
      "source": [
        "fig, axes = plt.subplots(ncols=len(keys))\n",
        "fig.set_size_inches(4 * len(keys), 4)\n",
        "axes = axes.flatten()\n",
        "\n",
        "for key, ax in zip(keys, axes):\n",
        "    samples = df[key]\n",
        "    \n",
        "    loc = samples.mean()\n",
        "    scale = samples.std()\n",
        "    \n",
        "    interval = np.linspace(0, 1, samples.shape[0])[1:-1]\n",
        "    x = stats.norm.ppf(interval, loc=loc, scale=scale)\n",
        "    y = np.quantile(samples, interval)\n",
        "    \n",
        "    ax.scatter(x, y, s=5)\n",
        "    ax.plot(x, x, color='C1', linestyle='dashed')\n",
        "    \n",
        "    ax.set_title(key)\n",
        "    ax.set_xlabel('теоретические квантили')\n",
        "    ax.set_ylabel('квантили выборки')"
      ]
    },
    {
      "cell_type": "code",
      "execution_count": null,
      "metadata": {
        "id": "V7lfqD-hlO_N",
        "outputId": "9f2dd4c4-cb7c-4e9a-dea0-bb5643fcb61e"
      },
      "outputs": [
        {
          "data": {
            "text/html": [
              "<div>\n",
              "<style scoped>\n",
              "    .dataframe tbody tr th:only-of-type {\n",
              "        vertical-align: middle;\n",
              "    }\n",
              "\n",
              "    .dataframe tbody tr th {\n",
              "        vertical-align: top;\n",
              "    }\n",
              "\n",
              "    .dataframe thead th {\n",
              "        text-align: right;\n",
              "    }\n",
              "</style>\n",
              "<table border=\"1\" class=\"dataframe\">\n",
              "  <thead>\n",
              "    <tr style=\"text-align: right;\">\n",
              "      <th></th>\n",
              "      <th>year</th>\n",
              "      <th>country</th>\n",
              "      <th>no</th>\n",
              "      <th>name</th>\n",
              "      <th>position</th>\n",
              "      <th>side</th>\n",
              "      <th>height</th>\n",
              "      <th>weight</th>\n",
              "      <th>birth</th>\n",
              "      <th>club</th>\n",
              "      <th>age</th>\n",
              "      <th>cohort</th>\n",
              "      <th>bmi</th>\n",
              "    </tr>\n",
              "  </thead>\n",
              "  <tbody>\n",
              "    <tr>\n",
              "      <th>0</th>\n",
              "      <td>2001</td>\n",
              "      <td>RUS</td>\n",
              "      <td>10</td>\n",
              "      <td>tverdovsky oleg</td>\n",
              "      <td>D</td>\n",
              "      <td>L</td>\n",
              "      <td>185</td>\n",
              "      <td>84.0</td>\n",
              "      <td>1976-05-18</td>\n",
              "      <td>anaheim mighty ducks</td>\n",
              "      <td>24.952772</td>\n",
              "      <td>1976</td>\n",
              "      <td>24.543462</td>\n",
              "    </tr>\n",
              "    <tr>\n",
              "      <th>1</th>\n",
              "      <td>2001</td>\n",
              "      <td>RUS</td>\n",
              "      <td>2</td>\n",
              "      <td>vichnevsky vitali</td>\n",
              "      <td>D</td>\n",
              "      <td>L</td>\n",
              "      <td>188</td>\n",
              "      <td>86.0</td>\n",
              "      <td>1980-03-18</td>\n",
              "      <td>anaheim mighty ducks</td>\n",
              "      <td>21.119781</td>\n",
              "      <td>1980</td>\n",
              "      <td>24.332277</td>\n",
              "    </tr>\n",
              "    <tr>\n",
              "      <th>2</th>\n",
              "      <td>2001</td>\n",
              "      <td>RUS</td>\n",
              "      <td>26</td>\n",
              "      <td>petrochinin evgeni</td>\n",
              "      <td>D</td>\n",
              "      <td>L</td>\n",
              "      <td>182</td>\n",
              "      <td>95.0</td>\n",
              "      <td>1976-02-07</td>\n",
              "      <td>severstal cherepovetal</td>\n",
              "      <td>25.229295</td>\n",
              "      <td>1976</td>\n",
              "      <td>28.680111</td>\n",
              "    </tr>\n",
              "    <tr>\n",
              "      <th>3</th>\n",
              "      <td>2001</td>\n",
              "      <td>RUS</td>\n",
              "      <td>28</td>\n",
              "      <td>zhdan alexander</td>\n",
              "      <td>D</td>\n",
              "      <td>R</td>\n",
              "      <td>178</td>\n",
              "      <td>85.0</td>\n",
              "      <td>1971-08-28</td>\n",
              "      <td>ak bars kazan</td>\n",
              "      <td>29.675565</td>\n",
              "      <td>1971</td>\n",
              "      <td>26.827421</td>\n",
              "    </tr>\n",
              "    <tr>\n",
              "      <th>4</th>\n",
              "      <td>2001</td>\n",
              "      <td>RUS</td>\n",
              "      <td>32</td>\n",
              "      <td>orekhovsky oleg</td>\n",
              "      <td>D</td>\n",
              "      <td>R</td>\n",
              "      <td>175</td>\n",
              "      <td>88.0</td>\n",
              "      <td>1977-11-03</td>\n",
              "      <td>dynamo moscow</td>\n",
              "      <td>23.490760</td>\n",
              "      <td>1977</td>\n",
              "      <td>28.734694</td>\n",
              "    </tr>\n",
              "  </tbody>\n",
              "</table>\n",
              "</div>"
            ],
            "text/plain": [
              "   year country  no                 name position side  height  weight  \\\n",
              "0  2001     RUS  10     tverdovsky oleg         D    L     185    84.0   \n",
              "1  2001     RUS   2   vichnevsky vitali         D    L     188    86.0   \n",
              "2  2001     RUS  26  petrochinin evgeni         D    L     182    95.0   \n",
              "3  2001     RUS  28     zhdan alexander         D    R     178    85.0   \n",
              "4  2001     RUS  32     orekhovsky oleg         D    R     175    88.0   \n",
              "\n",
              "        birth                     club        age  cohort        bmi  \n",
              "0  1976-05-18    anaheim mighty ducks   24.952772    1976  24.543462  \n",
              "1  1980-03-18    anaheim mighty ducks   21.119781    1980  24.332277  \n",
              "2  1976-02-07  severstal cherepovetal   25.229295    1976  28.680111  \n",
              "3  1971-08-28           ak bars kazan   29.675565    1971  26.827421  \n",
              "4  1977-11-03           dynamo moscow   23.490760    1977  28.734694  "
            ]
          },
          "execution_count": 42,
          "metadata": {},
          "output_type": "execute_result"
        }
      ],
      "source": [
        "df.head()"
      ]
    },
    {
      "cell_type": "markdown",
      "metadata": {
        "id": "G765y6GdlO_N"
      },
      "source": [
        "Ещё один способ оценить нормальность выборки — известные правила разброса для нормального распределения:\n",
        "* Вероятность попасть в интервал от $\\mu - \\sigma$ до $\\mu + \\sigma$ равна $0.68$,\n",
        "* В интервал от $\\mu - 2\\sigma$ до $\\mu + 2\\sigma$ — $0.95$,\n",
        "* В интервал от $\\mu - 3\\sigma$ до $\\mu + 3\\sigma$ — $0.997$.\n",
        "\n",
        "Данные правила должны приблизительно выполняться для выборки из нормального распределения.\n",
        "\n",
        "__Пример 8__\n",
        "\n",
        "Применим перечисленные выше правила для всё тех же двух выборок."
      ]
    },
    {
      "cell_type": "code",
      "execution_count": null,
      "metadata": {
        "id": "8ckKGYZJlO_N",
        "outputId": "e5a9bece-1e75-4f68-8927-c00e133d6160",
        "colab": {
          "base_uri": "https://localhost:8080/"
        }
      },
      "outputs": [
        {
          "output_type": "stream",
          "name": "stdout",
          "text": [
            "age\n",
            "1 sigma(s)\n",
            "\ttheoretical:\t0.6826894921370859\n",
            "\tsample:\t\t0.6711697393515575\n",
            "2 sigma(s)\n",
            "\ttheoretical:\t0.9544997361036416\n",
            "\tsample:\t\t0.9632867132867133\n",
            "3 sigma(s)\n",
            "\ttheoretical:\t0.9973002039367398\n",
            "\tsample:\t\t0.9977749523204069\n",
            "\n",
            "weight\n",
            "1 sigma(s)\n",
            "\ttheoretical:\t0.6826894921370859\n",
            "\tsample:\t\t0.671646535282899\n",
            "2 sigma(s)\n",
            "\ttheoretical:\t0.9544997361036416\n",
            "\tsample:\t\t0.9588366179275271\n",
            "3 sigma(s)\n",
            "\ttheoretical:\t0.9973002039367398\n",
            "\tsample:\t\t0.9958677685950413\n",
            "\n",
            "height\n",
            "1 sigma(s)\n",
            "\ttheoretical:\t0.6826894921370859\n",
            "\tsample:\t\t0.687857596948506\n",
            "2 sigma(s)\n",
            "\ttheoretical:\t0.9544997361036416\n",
            "\tsample:\t\t0.951048951048951\n",
            "3 sigma(s)\n",
            "\ttheoretical:\t0.9973002039367398\n",
            "\tsample:\t\t0.9915766052129689\n",
            "\n"
          ]
        }
      ],
      "source": [
        "for key in keys:\n",
        "    print(key)\n",
        "    \n",
        "    samples = df[key]\n",
        "    \n",
        "    loc = samples.mean()\n",
        "    scale = samples.std()\n",
        "\n",
        "    for i in range(1, 4):\n",
        "        true_value = stats.norm.cdf(i) - stats.norm.cdf(-i)\n",
        "        sample_value = ((samples >= loc - i * scale) & (samples <= loc + i * scale)).sum() / samples.shape[0]\n",
        "        \n",
        "        print(f'{i} sigma(s)')\n",
        "        print(f'\\ttheoretical:\\t{true_value}')\n",
        "        print(f'\\tsample:\\t\\t{sample_value}')\n",
        "        \n",
        "    print()"
      ]
    },
    {
      "cell_type": "markdown",
      "metadata": {
        "id": "SKpgsX3jlO_N"
      },
      "source": [
        "Наконец, существует несколько статистических методов, позволяющих «по-честному» проверить гипотезу о нормальности распределения. Например, часто для таких задач используются [метод Колмогорова-Смирнова](https://en.wikipedia.org/wiki/Kolmogorov–Smirnov_test) или [метод Шапиро-Уилка](https://en.wikipedia.org/wiki/Shapiro–Wilk_test).\n",
        "\n",
        "Однако, как правило, такие методы основаны на использовании статистик, имеющих в предположении верности нулевой гипотезы крайне сложные распределения, квантили которых невозможно посчитать напрямую, а только лишь с помощью приближённых методов."
      ]
    },
    {
      "cell_type": "markdown",
      "metadata": {
        "id": "pkhFqrnNlO_N"
      },
      "source": [
        "## Упражнения"
      ]
    },
    {
      "cell_type": "markdown",
      "metadata": {
        "id": "asaRhMv9lO_O"
      },
      "source": [
        "__Задача 1__\n",
        "\n",
        "Даны значения величины заработной платы заемщиков банка (`salary`) и значения их поведенческого кредитного скоринга (`scoring`):\n",
        "```\n",
        "salary = [35, 45, 190, 200, 40, 70, 54, 150, 120, 110]\n",
        "scoring = [401, 574, 874, 919, 459, 739, 653, 902, 746, 832]\n",
        "```\n",
        "Используя только встроенные питоновские функции и структуры данных (т.е. без библиотек `numpy`, `pandas` и др.) найдите:\n",
        "1. ковариацию (смещённую и несмещённую) этих двух величин,\n",
        "2. коэффициент корреляции Пирсона.\n",
        "\n",
        "Можно затем посчитать те же значения с использованием библиотек, чтобы проверить себя.\n",
        "\n",
        "__Задача 2__\n",
        "\n",
        "Проведите тест на значимость коэффициента корреляции Пирсона, найденного в предыдущей задаче. Что для этого нужно знать:\n",
        "* Нулевая гипотеза: реальный коэффициент корреляции равен 0. Альтернативная гипотеза двухсторонняя.\n",
        "* Статистика: `t = r * sqrt(n - 2) / sqrt(1 - r ** 2)`, где `r` - коэффициент корреляции Пирсона, посчитанный по выборке.\n",
        "* В предположении верности нулевой гипотезы эта статистика имеет распределение Стьюдента с параметром `df = n - 2`.\n",
        "\n",
        "__Задача 3__\n",
        "\n",
        "Измерены значения IQ выборки студентов, обучающихся в местных технических вузах:\n",
        "```\n",
        "131, 125, 115, 122, 131, 115, 107, 99, 125, 111\n",
        "```\n",
        "Известно, что в генеральной совокупности IQ распределен нормально. Найдите доверительный интервал для математического ожидания с надежностью 0.95.\n"
      ]
    },
    {
      "cell_type": "code",
      "execution_count": null,
      "metadata": {
        "id": "U2gSbTdglO_O"
      },
      "outputs": [],
      "source": []
    }
  ],
  "metadata": {
    "colab": {
      "provenance": []
    },
    "kernelspec": {
      "display_name": "Python 3",
      "language": "python",
      "name": "python3"
    },
    "language_info": {
      "codemirror_mode": {
        "name": "ipython",
        "version": 3
      },
      "file_extension": ".py",
      "mimetype": "text/x-python",
      "name": "python",
      "nbconvert_exporter": "python",
      "pygments_lexer": "ipython3",
      "version": "3.7.7"
    }
  },
  "nbformat": 4,
  "nbformat_minor": 0
}
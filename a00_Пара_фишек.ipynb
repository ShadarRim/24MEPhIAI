{
  "nbformat": 4,
  "nbformat_minor": 0,
  "metadata": {
    "colab": {
      "provenance": []
    },
    "kernelspec": {
      "name": "python3",
      "display_name": "Python 3"
    },
    "language_info": {
      "name": "python"
    }
  },
  "cells": [
    {
      "cell_type": "markdown",
      "source": [
        "### Перевод между система счисления"
      ],
      "metadata": {
        "id": "kjgC8V2q13NE"
      }
    },
    {
      "cell_type": "markdown",
      "source": [
        "Иногда числа необходимо переводить между различными системами счисления. Для перевода в десятичную систему успешно работает команда `int(number, base)`, где в качестве параметра `base` нужно указать систему счисления из которой осуществляется перевод. Обратный перевод сложнее, так как есть лишь несколько команд переводящих из десятичной в конкретную (двоичную, восмеричную, шестнадцатиричную) системы счисления `bin()`, `oct()` и `hex()`."
      ],
      "metadata": {
        "id": "Vf20NryUD6C4"
      }
    },
    {
      "cell_type": "code",
      "execution_count": null,
      "metadata": {
        "id": "mBGUIN4sD3Vj",
        "colab": {
          "base_uri": "https://localhost:8080/"
        },
        "outputId": "18e61547-30fc-4c0a-f49c-8e7ef312cd75"
      },
      "outputs": [
        {
          "output_type": "stream",
          "name": "stdout",
          "text": [
            "13\n"
          ]
        }
      ],
      "source": [
        "s = '1101'\n",
        "print(int(s, 2))"
      ]
    },
    {
      "cell_type": "code",
      "source": [
        "n = 123\n",
        "print(bin(n), oct(n), hex(n))"
      ],
      "metadata": {
        "colab": {
          "base_uri": "https://localhost:8080/"
        },
        "id": "jukWC6-S1vTB",
        "outputId": "f522c80d-e2c4-4cf5-83a6-7fd1231e5ab9"
      },
      "execution_count": null,
      "outputs": [
        {
          "output_type": "stream",
          "name": "stdout",
          "text": [
            "0b1111011 0o173 0x7b\n"
          ]
        }
      ]
    },
    {
      "cell_type": "markdown",
      "source": [
        "### Выравнивание при выводе на экран\n",
        "\n",
        "Существует просто инструмент для выравнивания строк, связанный с командой `f`. Разобраться, кажется, достаточно просто."
      ],
      "metadata": {
        "id": "_Ss_Is7p170W"
      }
    },
    {
      "cell_type": "code",
      "source": [
        "print(f\"{s:0>9}\")"
      ],
      "metadata": {
        "colab": {
          "base_uri": "https://localhost:8080/"
        },
        "id": "AJ494snW12pe",
        "outputId": "cb78c40b-e49c-48f1-f159-42b296b33cbb"
      },
      "execution_count": null,
      "outputs": [
        {
          "output_type": "stream",
          "name": "stdout",
          "text": [
            "000001101\n"
          ]
        }
      ]
    },
    {
      "cell_type": "code",
      "source": [
        "print(f\"{s:0<9}\")"
      ],
      "metadata": {
        "colab": {
          "base_uri": "https://localhost:8080/"
        },
        "id": "GnqhD2z32XZ1",
        "outputId": "1d80fada-d694-4931-9a3a-334806d651d2"
      },
      "execution_count": null,
      "outputs": [
        {
          "output_type": "stream",
          "name": "stdout",
          "text": [
            "110100000\n"
          ]
        }
      ]
    },
    {
      "cell_type": "code",
      "source": [
        "print(f\"{s:0^9}\")"
      ],
      "metadata": {
        "colab": {
          "base_uri": "https://localhost:8080/"
        },
        "id": "Nfu-G_WJ2aBt",
        "outputId": "f21ceabf-c8a0-4d29-d359-4f01e0065e15"
      },
      "execution_count": null,
      "outputs": [
        {
          "output_type": "stream",
          "name": "stdout",
          "text": [
            "001101000\n"
          ]
        }
      ]
    }
  ]
}
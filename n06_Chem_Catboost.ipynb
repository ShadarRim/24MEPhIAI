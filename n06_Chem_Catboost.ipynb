{
  "nbformat": 4,
  "nbformat_minor": 0,
  "metadata": {
    "colab": {
      "provenance": [],
      "toc_visible": true
    },
    "kernelspec": {
      "name": "python3",
      "display_name": "Python 3"
    },
    "language_info": {
      "name": "python"
    }
  },
  "cells": [
    {
      "cell_type": "markdown",
      "source": [
        "# Обучение модели\n",
        "\n",
        "Работа с данными и обучение модели отделены друг от друга. Это нормальное решение, связанное с, даже, визуальной переполненностью пространства анализа и пространства проектирования модели."
      ],
      "metadata": {
        "id": "RvE676gWWL5h"
      }
    },
    {
      "cell_type": "markdown",
      "source": [
        "В качестве инструмента для обучения будет использовать модель CatBoost, разработанная специалистами компании Яндекс. Эта модель имеет много положительных качеств, но главное, конечно, в среднем наилучашая достигаемая точность среди моделей бустинга."
      ],
      "metadata": {
        "id": "eBrBRDqNW1J3"
      }
    },
    {
      "cell_type": "markdown",
      "source": [
        "В качестве данны в данном ноутбуке необходимо использовать данные, полученные на этапе преобразования и обработки данных. Данные должны содержать дискрипторы и значение искомой величины."
      ],
      "metadata": {
        "id": "uXRaGyT_cTuL"
      }
    },
    {
      "cell_type": "code",
      "source": [
        "!pip install catboost"
      ],
      "metadata": {
        "colab": {
          "base_uri": "https://localhost:8080/"
        },
        "id": "aHStwpFlppBs",
        "outputId": "fa1fc3f8-6cc4-4a4b-c828-b69aaf878da5"
      },
      "execution_count": 1,
      "outputs": [
        {
          "output_type": "stream",
          "name": "stdout",
          "text": [
            "Collecting catboost\n",
            "  Downloading catboost-1.2.2-cp310-cp310-manylinux2014_x86_64.whl (98.7 MB)\n",
            "\u001b[2K     \u001b[90m━━━━━━━━━━━━━━━━━━━━━━━━━━━━━━━━━━━━━━━━\u001b[0m \u001b[32m98.7/98.7 MB\u001b[0m \u001b[31m4.8 MB/s\u001b[0m eta \u001b[36m0:00:00\u001b[0m\n",
            "\u001b[?25hRequirement already satisfied: graphviz in /usr/local/lib/python3.10/dist-packages (from catboost) (0.20.1)\n",
            "Requirement already satisfied: matplotlib in /usr/local/lib/python3.10/dist-packages (from catboost) (3.7.1)\n",
            "Requirement already satisfied: numpy>=1.16.0 in /usr/local/lib/python3.10/dist-packages (from catboost) (1.23.5)\n",
            "Requirement already satisfied: pandas>=0.24 in /usr/local/lib/python3.10/dist-packages (from catboost) (1.5.3)\n",
            "Requirement already satisfied: scipy in /usr/local/lib/python3.10/dist-packages (from catboost) (1.11.4)\n",
            "Requirement already satisfied: plotly in /usr/local/lib/python3.10/dist-packages (from catboost) (5.15.0)\n",
            "Requirement already satisfied: six in /usr/local/lib/python3.10/dist-packages (from catboost) (1.16.0)\n",
            "Requirement already satisfied: python-dateutil>=2.8.1 in /usr/local/lib/python3.10/dist-packages (from pandas>=0.24->catboost) (2.8.2)\n",
            "Requirement already satisfied: pytz>=2020.1 in /usr/local/lib/python3.10/dist-packages (from pandas>=0.24->catboost) (2023.3.post1)\n",
            "Requirement already satisfied: contourpy>=1.0.1 in /usr/local/lib/python3.10/dist-packages (from matplotlib->catboost) (1.2.0)\n",
            "Requirement already satisfied: cycler>=0.10 in /usr/local/lib/python3.10/dist-packages (from matplotlib->catboost) (0.12.1)\n",
            "Requirement already satisfied: fonttools>=4.22.0 in /usr/local/lib/python3.10/dist-packages (from matplotlib->catboost) (4.47.2)\n",
            "Requirement already satisfied: kiwisolver>=1.0.1 in /usr/local/lib/python3.10/dist-packages (from matplotlib->catboost) (1.4.5)\n",
            "Requirement already satisfied: packaging>=20.0 in /usr/local/lib/python3.10/dist-packages (from matplotlib->catboost) (23.2)\n",
            "Requirement already satisfied: pillow>=6.2.0 in /usr/local/lib/python3.10/dist-packages (from matplotlib->catboost) (9.4.0)\n",
            "Requirement already satisfied: pyparsing>=2.3.1 in /usr/local/lib/python3.10/dist-packages (from matplotlib->catboost) (3.1.1)\n",
            "Requirement already satisfied: tenacity>=6.2.0 in /usr/local/lib/python3.10/dist-packages (from plotly->catboost) (8.2.3)\n",
            "Installing collected packages: catboost\n",
            "Successfully installed catboost-1.2.2\n"
          ]
        }
      ]
    },
    {
      "cell_type": "code",
      "execution_count": 2,
      "metadata": {
        "id": "gKMjHzadnZW1"
      },
      "outputs": [],
      "source": [
        "import pandas as pd\n",
        "import numpy as np\n",
        "import matplotlib.pyplot as plt\n",
        "import seaborn as sns\n",
        "from sklearn.model_selection import train_test_split"
      ]
    },
    {
      "cell_type": "code",
      "source": [
        "from sklearn.metrics import mean_squared_error, r2_score, confusion_matrix\n",
        "\n",
        "from sklearn.preprocessing import MinMaxScaler\n",
        "from catboost import CatBoostRegressor, Pool, cv, CatBoostClassifier"
      ],
      "metadata": {
        "id": "2DTiOmbDqyJZ"
      },
      "execution_count": 3,
      "outputs": []
    },
    {
      "cell_type": "code",
      "source": [
        "df = pd.read_excel(\"/content/data.xlsx\")\n",
        "df = df.drop(columns = ['Unnamed: 0'],axis = 1)"
      ],
      "metadata": {
        "id": "KbZXaytdn3bj"
      },
      "execution_count": 4,
      "outputs": []
    },
    {
      "cell_type": "code",
      "source": [
        "df_test = pd.read_excel(\"/content/data_test.xlsx\")\n",
        "df_test = df_test.drop(columns = ['Unnamed: 0'],axis = 1)"
      ],
      "metadata": {
        "id": "LFqPNV1Obpyd"
      },
      "execution_count": null,
      "outputs": []
    },
    {
      "cell_type": "markdown",
      "source": [
        "В качестве решаемой задачи попробуем решить не задачу регрессии, а задачу классификаци на два класса. При этом у нас возникает ключевая проблема в задаче - как разделять объекты на два класса?"
      ],
      "metadata": {
        "id": "bHwKmL2xdfV0"
      }
    },
    {
      "cell_type": "markdown",
      "source": [
        "## Пробный код\n",
        "\n",
        "Прежде, чем писать полный рабочий код, попробуем реализовать одну итреацию, которая состоит в том, что значения разделителя мы установим равным пяти."
      ],
      "metadata": {
        "id": "fweujkagb0Dh"
      }
    },
    {
      "cell_type": "code",
      "source": [
        "bins = [-np.inf, 5, np.inf]\n",
        "labels = [0, 1]\n",
        "df['IC50_cl'] = pd.cut(df['IC50'], bins=bins, labels=labels)"
      ],
      "metadata": {
        "id": "ZGJWW3XPn8QG"
      },
      "execution_count": 6,
      "outputs": []
    },
    {
      "cell_type": "code",
      "source": [
        "df.columns"
      ],
      "metadata": {
        "colab": {
          "base_uri": "https://localhost:8080/"
        },
        "id": "upkE9E_iomz-",
        "outputId": "4d452b72-c962-4de5-f358-49bc6a255734"
      },
      "execution_count": null,
      "outputs": [
        {
          "output_type": "execute_result",
          "data": {
            "text/plain": [
              "Index(['Title', 'IC50, mmg/ml', 'CC50-MDCK, mmg/ml', 'SI', 'Molecular weight',\n",
              "       'Hydrogen bond acceptors', 'Hydrogen bond donors', 'Polar SA', 'SMILES',\n",
              "       'Pictures', 'HeavyAtomCount', 'NHOHCount', 'NOCount', 'NumHAcceptors',\n",
              "       'NumHDonors', 'NumHeteroatoms', 'NumRotatableBonds',\n",
              "       'NumValenceElectrons', 'NumAromaticRings', 'NumAliphaticHeterocycles',\n",
              "       'RingCount', 'MW', 'LogP', 'MR', 'TPSA', 'IC50_classif'],\n",
              "      dtype='object')"
            ]
          },
          "metadata": {},
          "execution_count": 29
        }
      ]
    },
    {
      "cell_type": "code",
      "source": [
        "df['IC50_cl'].value_counts()"
      ],
      "metadata": {
        "colab": {
          "base_uri": "https://localhost:8080/"
        },
        "id": "cNLI8CkwoocL",
        "outputId": "d4f95744-78a5-49db-84b1-5ffac9577bd6"
      },
      "execution_count": 8,
      "outputs": [
        {
          "output_type": "execute_result",
          "data": {
            "text/plain": [
              "0    24862\n",
              "1    11515\n",
              "Name: IC50_cl, dtype: int64"
            ]
          },
          "metadata": {},
          "execution_count": 8
        }
      ]
    },
    {
      "cell_type": "code",
      "source": [
        "df_classif = df[['HeavyAtomCount', 'NHOHCount', 'NOCount', 'NumHAcceptors',\n",
        "       'NumHDonors', 'NumHeteroatoms', 'NumRotatableBonds',\n",
        "       'NumValenceElectrons', 'NumAromaticRings', 'NumAliphaticHeterocycles',\n",
        "       'RingCount', 'MW', 'LogP', 'MR', 'TPSA', 'IC50_cl']]"
      ],
      "metadata": {
        "id": "TLh_ztgNo0qR"
      },
      "execution_count": 10,
      "outputs": []
    },
    {
      "cell_type": "code",
      "source": [
        "X_train, X_test, y_train, y_test = train_test_split(df_classif.drop(columns = ['IC50_cl'],axis = 1), df_classif['IC50_cl'], test_size=0.33, random_state=42)"
      ],
      "metadata": {
        "id": "hXl-ECckpoW2"
      },
      "execution_count": 11,
      "outputs": []
    },
    {
      "cell_type": "code",
      "source": [
        "model = CatBoostClassifier(iterations=1000)\n",
        "model.fit(X_train,\n",
        "          y_train, verbose = 100)"
      ],
      "metadata": {
        "colab": {
          "base_uri": "https://localhost:8080/"
        },
        "id": "zs3lOKnOqqeN",
        "outputId": "abd11045-bf7a-46cc-c0fa-f3998cecbbd9"
      },
      "execution_count": 12,
      "outputs": [
        {
          "output_type": "stream",
          "name": "stdout",
          "text": [
            "Learning rate set to 0.040284\n",
            "0:\tlearn: 0.6835891\ttotal: 62.7ms\tremaining: 1m 2s\n",
            "100:\tlearn: 0.5605197\ttotal: 1.91s\tremaining: 17s\n",
            "200:\tlearn: 0.5507889\ttotal: 3.02s\tremaining: 12s\n",
            "300:\tlearn: 0.5416150\ttotal: 3.81s\tremaining: 8.86s\n",
            "400:\tlearn: 0.5315829\ttotal: 4.61s\tremaining: 6.89s\n",
            "500:\tlearn: 0.5226980\ttotal: 5.44s\tremaining: 5.42s\n",
            "600:\tlearn: 0.5147275\ttotal: 6.25s\tremaining: 4.15s\n",
            "700:\tlearn: 0.5076207\ttotal: 7.06s\tremaining: 3.01s\n",
            "800:\tlearn: 0.5011495\ttotal: 7.86s\tremaining: 1.95s\n",
            "900:\tlearn: 0.4951260\ttotal: 8.65s\tremaining: 951ms\n",
            "999:\tlearn: 0.4889753\ttotal: 9.47s\tremaining: 0us\n"
          ]
        },
        {
          "output_type": "execute_result",
          "data": {
            "text/plain": [
              "<catboost.core.CatBoostClassifier at 0x7b51c2165030>"
            ]
          },
          "metadata": {},
          "execution_count": 12
        }
      ]
    },
    {
      "cell_type": "code",
      "source": [
        "preds_class = model.predict(X_test)"
      ],
      "metadata": {
        "id": "56ZtzKgnq5nt"
      },
      "execution_count": 13,
      "outputs": []
    },
    {
      "cell_type": "code",
      "source": [
        "cm = confusion_matrix(y_test, preds_class)\n",
        "\n",
        "cm"
      ],
      "metadata": {
        "colab": {
          "base_uri": "https://localhost:8080/"
        },
        "id": "N9zf4K-Rq9CS",
        "outputId": "bb31a3af-5d07-44c4-f841-3a2ba2800460"
      },
      "execution_count": 14,
      "outputs": [
        {
          "output_type": "execute_result",
          "data": {
            "text/plain": [
              "array([[7474,  682],\n",
              "       [2800, 1049]])"
            ]
          },
          "metadata": {},
          "execution_count": 14
        }
      ]
    },
    {
      "cell_type": "code",
      "source": [
        "TN, FP, FN, TP = confusion_matrix(y_test, preds_class).ravel()\n",
        "\n",
        "print('True Positive(TP)  = ', TP)\n",
        "print('False Positive(FP) = ', FP)\n",
        "print('True Negative(TN)  = ', TN)\n",
        "print('False Negative(FN) = ', FN)"
      ],
      "metadata": {
        "colab": {
          "base_uri": "https://localhost:8080/"
        },
        "id": "2Iumvfj4rScj",
        "outputId": "eb08262f-09cf-46a3-ad6c-8c4410eb4cb6"
      },
      "execution_count": 15,
      "outputs": [
        {
          "output_type": "stream",
          "name": "stdout",
          "text": [
            "True Positive(TP)  =  1049\n",
            "False Positive(FP) =  682\n",
            "True Negative(TN)  =  7474\n",
            "False Negative(FN) =  2800\n"
          ]
        }
      ]
    },
    {
      "cell_type": "code",
      "source": [
        "accuracy =  (TP + TN) / (TP + FP + TN + FN)\n",
        "\n",
        "print('Accuracy of the binary classifier = {:0.3f}'.format(accuracy))"
      ],
      "metadata": {
        "colab": {
          "base_uri": "https://localhost:8080/"
        },
        "id": "hhExXHnarU1w",
        "outputId": "972fa1b7-b533-49ee-bf40-4ea383cec528"
      },
      "execution_count": 16,
      "outputs": [
        {
          "output_type": "stream",
          "name": "stdout",
          "text": [
            "Accuracy of the binary classifier = 0.710\n"
          ]
        }
      ]
    },
    {
      "cell_type": "markdown",
      "source": [
        "## Метод"
      ],
      "metadata": {
        "id": "Rlvd340zrwdL"
      }
    },
    {
      "cell_type": "markdown",
      "source": [
        "Теперь попробуем перебрать разные значения разделителя и посмотрим, что в итоге будет получаться."
      ],
      "metadata": {
        "id": "_OsnHE55dvuB"
      }
    },
    {
      "cell_type": "code",
      "source": [
        "def com():\n",
        "    df = pd.read_excel(\"/content/data.xlsx\")\n",
        "    df = df.drop(columns = ['Unnamed: 0'],axis = 1)\n",
        "\n",
        "    res = {}\n",
        "    for p in [1, 3, 5, 8, 10, 15, 20, 22, 30, 50, 100, 150, 200, 300, 400]:\n",
        "        print(f'p == {p}')\n",
        "\n",
        "        df['IC50_classif'] = pd.cut(df['IC50'], bins=[-np.inf, p, np.inf], labels=[0, 1])\n",
        "\n",
        "        df_classif = df[['HeavyAtomCount', 'NHOHCount', 'NOCount', 'NumHAcceptors',\n",
        "       'NumHDonors', 'NumHeteroatoms', 'NumRotatableBonds',\n",
        "       'NumValenceElectrons', 'NumAromaticRings', 'NumAliphaticHeterocycles',\n",
        "       'RingCount', 'MW', 'LogP', 'MR', 'TPSA', 'IC50_classif']]\n",
        "\n",
        "        X_train, X_test, y_train, y_test = train_test_split(df_classif.drop(columns = ['IC50_classif'],axis = 1), df_classif['IC50_classif'], test_size=0.33, random_state=42)\n",
        "\n",
        "        model = CatBoostClassifier(iterations=1000)\n",
        "        model.fit(X_train, y_train, verbose = 100)\n",
        "        preds_class = model.predict(X_test)\n",
        "\n",
        "        cm = confusion_matrix(y_test, preds_class)\n",
        "        TN, FP, FN, TP = confusion_matrix(y_test, preds_class).ravel()\n",
        "        accuracy =  (TP + TN) / (TP + FP + TN + FN)\n",
        "\n",
        "        print('Accuracy of the binary classifier = {:0.3f}'.format(accuracy))\n",
        "        print('---')\n",
        "        print(' ')\n",
        "\n",
        "        res[p] = accuracy\n",
        "\n",
        "    return res"
      ],
      "metadata": {
        "id": "_BLv3kT-r1bI"
      },
      "execution_count": 17,
      "outputs": []
    },
    {
      "cell_type": "code",
      "source": [
        "resIC50 = com()"
      ],
      "metadata": {
        "colab": {
          "base_uri": "https://localhost:8080/"
        },
        "id": "aGmGvgMEr6Po",
        "outputId": "f0bd5dd8-bd14-434f-ad17-62093b4138ae"
      },
      "execution_count": 18,
      "outputs": [
        {
          "output_type": "stream",
          "name": "stdout",
          "text": [
            "p == 1\n",
            "Learning rate set to 0.040284\n",
            "0:\tlearn: 0.6689440\ttotal: 8.69ms\tremaining: 8.68s\n",
            "100:\tlearn: 0.4036309\ttotal: 803ms\tremaining: 7.15s\n",
            "200:\tlearn: 0.3937659\ttotal: 1.59s\tremaining: 6.32s\n",
            "300:\tlearn: 0.3851528\ttotal: 2.39s\tremaining: 5.54s\n",
            "400:\tlearn: 0.3768681\ttotal: 3.2s\tremaining: 4.78s\n",
            "500:\tlearn: 0.3692315\ttotal: 4s\tremaining: 3.99s\n",
            "600:\tlearn: 0.3621462\ttotal: 4.82s\tremaining: 3.2s\n",
            "700:\tlearn: 0.3559713\ttotal: 5.59s\tremaining: 2.39s\n",
            "800:\tlearn: 0.3498672\ttotal: 6.4s\tremaining: 1.59s\n",
            "900:\tlearn: 0.3440189\ttotal: 7.2s\tremaining: 791ms\n",
            "999:\tlearn: 0.3389013\ttotal: 7.99s\tremaining: 0us\n",
            "Accuracy of the binary classifier = 0.844\n",
            "---\n",
            " \n",
            "p == 3\n",
            "Learning rate set to 0.040284\n",
            "0:\tlearn: 0.6873139\ttotal: 8.01ms\tremaining: 8s\n",
            "100:\tlearn: 0.6008750\ttotal: 816ms\tremaining: 7.26s\n",
            "200:\tlearn: 0.5915711\ttotal: 2.04s\tremaining: 8.11s\n",
            "300:\tlearn: 0.5826525\ttotal: 3.6s\tremaining: 8.37s\n",
            "400:\tlearn: 0.5724314\ttotal: 5.12s\tremaining: 7.65s\n",
            "500:\tlearn: 0.5629272\ttotal: 5.92s\tremaining: 5.9s\n",
            "600:\tlearn: 0.5545954\ttotal: 6.91s\tremaining: 4.59s\n",
            "700:\tlearn: 0.5473285\ttotal: 8.06s\tremaining: 3.44s\n",
            "800:\tlearn: 0.5405988\ttotal: 9.67s\tremaining: 2.4s\n",
            "900:\tlearn: 0.5342130\ttotal: 11s\tremaining: 1.21s\n",
            "999:\tlearn: 0.5278595\ttotal: 12.3s\tremaining: 0us\n",
            "Accuracy of the binary classifier = 0.693\n",
            "---\n",
            " \n",
            "p == 5\n",
            "Learning rate set to 0.040284\n",
            "0:\tlearn: 0.6835891\ttotal: 8.39ms\tremaining: 8.38s\n",
            "100:\tlearn: 0.5605197\ttotal: 1.14s\tremaining: 10.2s\n",
            "200:\tlearn: 0.5507889\ttotal: 2.39s\tremaining: 9.5s\n",
            "300:\tlearn: 0.5416150\ttotal: 4.83s\tremaining: 11.2s\n",
            "400:\tlearn: 0.5315829\ttotal: 6.57s\tremaining: 9.81s\n",
            "500:\tlearn: 0.5226980\ttotal: 7.67s\tremaining: 7.64s\n",
            "600:\tlearn: 0.5147275\ttotal: 8.72s\tremaining: 5.79s\n",
            "700:\tlearn: 0.5076207\ttotal: 9.96s\tremaining: 4.25s\n",
            "800:\tlearn: 0.5011495\ttotal: 11.1s\tremaining: 2.76s\n",
            "900:\tlearn: 0.4951260\ttotal: 12.3s\tremaining: 1.35s\n",
            "999:\tlearn: 0.4889753\ttotal: 13.4s\tremaining: 0us\n",
            "Accuracy of the binary classifier = 0.710\n",
            "---\n",
            " \n",
            "p == 8\n",
            "Learning rate set to 0.040284\n",
            "0:\tlearn: 0.6585082\ttotal: 22.4ms\tremaining: 22.3s\n",
            "100:\tlearn: 0.3191677\ttotal: 1.2s\tremaining: 10.7s\n",
            "200:\tlearn: 0.3077811\ttotal: 2.59s\tremaining: 10.3s\n",
            "300:\tlearn: 0.2978984\ttotal: 5.11s\tremaining: 11.9s\n",
            "400:\tlearn: 0.2888511\ttotal: 6.86s\tremaining: 10.2s\n",
            "500:\tlearn: 0.2807843\ttotal: 8.16s\tremaining: 8.13s\n",
            "600:\tlearn: 0.2724539\ttotal: 9.6s\tremaining: 6.37s\n",
            "700:\tlearn: 0.2655200\ttotal: 10.8s\tremaining: 4.61s\n",
            "800:\tlearn: 0.2590393\ttotal: 11.6s\tremaining: 2.88s\n",
            "900:\tlearn: 0.2527500\ttotal: 12.4s\tremaining: 1.36s\n",
            "999:\tlearn: 0.2471014\ttotal: 13.2s\tremaining: 0us\n",
            "Accuracy of the binary classifier = 0.866\n",
            "---\n",
            " \n",
            "p == 10\n",
            "Learning rate set to 0.040284\n",
            "0:\tlearn: 0.6404497\ttotal: 7.58ms\tremaining: 7.58s\n",
            "100:\tlearn: 0.1877578\ttotal: 798ms\tremaining: 7.1s\n",
            "200:\tlearn: 0.1765268\ttotal: 1.6s\tremaining: 6.37s\n",
            "300:\tlearn: 0.1680130\ttotal: 2.38s\tremaining: 5.52s\n",
            "400:\tlearn: 0.1612078\ttotal: 3.8s\tremaining: 5.67s\n",
            "500:\tlearn: 0.1536297\ttotal: 5.88s\tremaining: 5.86s\n",
            "600:\tlearn: 0.1474620\ttotal: 7.27s\tremaining: 4.83s\n",
            "700:\tlearn: 0.1416027\ttotal: 8.49s\tremaining: 3.62s\n",
            "800:\tlearn: 0.1364183\ttotal: 9.81s\tremaining: 2.44s\n",
            "900:\tlearn: 0.1313316\ttotal: 11s\tremaining: 1.21s\n",
            "999:\tlearn: 0.1275601\ttotal: 12.1s\tremaining: 0us\n",
            "Accuracy of the binary classifier = 0.940\n",
            "---\n",
            " \n",
            "p == 15\n",
            "Learning rate set to 0.040284\n",
            "0:\tlearn: 0.6294180\ttotal: 7.4ms\tremaining: 7.39s\n",
            "100:\tlearn: 0.1232008\ttotal: 777ms\tremaining: 6.91s\n",
            "200:\tlearn: 0.1124528\ttotal: 1.56s\tremaining: 6.19s\n",
            "300:\tlearn: 0.1055394\ttotal: 2.32s\tremaining: 5.4s\n",
            "400:\tlearn: 0.0999369\ttotal: 3.11s\tremaining: 4.65s\n",
            "500:\tlearn: 0.0950389\ttotal: 3.92s\tremaining: 3.91s\n",
            "600:\tlearn: 0.0903790\ttotal: 5.97s\tremaining: 3.96s\n",
            "700:\tlearn: 0.0859077\ttotal: 7.82s\tremaining: 3.33s\n",
            "800:\tlearn: 0.0816530\ttotal: 9.08s\tremaining: 2.26s\n",
            "900:\tlearn: 0.0774201\ttotal: 10.3s\tremaining: 1.13s\n",
            "999:\tlearn: 0.0736602\ttotal: 11.4s\tremaining: 0us\n",
            "Accuracy of the binary classifier = 0.965\n",
            "---\n",
            " \n",
            "p == 20\n",
            "Learning rate set to 0.040284\n",
            "0:\tlearn: 0.6257820\ttotal: 7.44ms\tremaining: 7.43s\n",
            "100:\tlearn: 0.1093398\ttotal: 1.2s\tremaining: 10.7s\n",
            "200:\tlearn: 0.0989175\ttotal: 2.19s\tremaining: 8.69s\n",
            "300:\tlearn: 0.0926011\ttotal: 3.58s\tremaining: 8.32s\n",
            "400:\tlearn: 0.0863586\ttotal: 4.73s\tremaining: 7.07s\n",
            "500:\tlearn: 0.0821982\ttotal: 5.69s\tremaining: 5.67s\n",
            "600:\tlearn: 0.0777706\ttotal: 7.97s\tremaining: 5.29s\n",
            "700:\tlearn: 0.0733564\ttotal: 9.94s\tremaining: 4.24s\n",
            "800:\tlearn: 0.0690938\ttotal: 11s\tremaining: 2.73s\n",
            "900:\tlearn: 0.0653302\ttotal: 12.2s\tremaining: 1.34s\n",
            "999:\tlearn: 0.0624164\ttotal: 13.6s\tremaining: 0us\n",
            "Accuracy of the binary classifier = 0.968\n",
            "---\n",
            " \n",
            "p == 22\n",
            "Learning rate set to 0.040284\n",
            "0:\tlearn: 0.6246153\ttotal: 9.71ms\tremaining: 9.7s\n",
            "100:\tlearn: 0.1067586\ttotal: 1.07s\tremaining: 9.54s\n",
            "200:\tlearn: 0.0961023\ttotal: 2.1s\tremaining: 8.37s\n",
            "300:\tlearn: 0.0897683\ttotal: 3.29s\tremaining: 7.63s\n",
            "400:\tlearn: 0.0841652\ttotal: 4.36s\tremaining: 6.51s\n",
            "500:\tlearn: 0.0795705\ttotal: 5.46s\tremaining: 5.43s\n",
            "600:\tlearn: 0.0747856\ttotal: 8.62s\tremaining: 5.72s\n",
            "700:\tlearn: 0.0707854\ttotal: 10.2s\tremaining: 4.37s\n",
            "800:\tlearn: 0.0669227\ttotal: 11.6s\tremaining: 2.89s\n",
            "900:\tlearn: 0.0634589\ttotal: 12.7s\tremaining: 1.4s\n",
            "999:\tlearn: 0.0598900\ttotal: 13.7s\tremaining: 0us\n",
            "Accuracy of the binary classifier = 0.969\n",
            "---\n",
            " \n",
            "p == 30\n",
            "Learning rate set to 0.040284\n",
            "0:\tlearn: 0.6210018\ttotal: 7.4ms\tremaining: 7.39s\n",
            "100:\tlearn: 0.0938475\ttotal: 1.07s\tremaining: 9.57s\n",
            "200:\tlearn: 0.0850535\ttotal: 2.13s\tremaining: 8.49s\n",
            "300:\tlearn: 0.0785678\ttotal: 3.25s\tremaining: 7.56s\n",
            "400:\tlearn: 0.0737852\ttotal: 4.29s\tremaining: 6.41s\n",
            "500:\tlearn: 0.0692644\ttotal: 5.51s\tremaining: 5.49s\n",
            "600:\tlearn: 0.0646376\ttotal: 8.75s\tremaining: 5.81s\n",
            "700:\tlearn: 0.0602258\ttotal: 9.97s\tremaining: 4.25s\n",
            "800:\tlearn: 0.0568971\ttotal: 10.8s\tremaining: 2.68s\n",
            "900:\tlearn: 0.0536480\ttotal: 11.6s\tremaining: 1.27s\n",
            "999:\tlearn: 0.0507972\ttotal: 12.3s\tremaining: 0us\n",
            "Accuracy of the binary classifier = 0.975\n",
            "---\n",
            " \n",
            "p == 50\n",
            "Learning rate set to 0.040284\n",
            "0:\tlearn: 0.6113484\ttotal: 7.59ms\tremaining: 7.58s\n",
            "100:\tlearn: 0.0654665\ttotal: 782ms\tremaining: 6.96s\n",
            "200:\tlearn: 0.0576480\ttotal: 1.54s\tremaining: 6.11s\n",
            "300:\tlearn: 0.0527503\ttotal: 2.3s\tremaining: 5.34s\n",
            "400:\tlearn: 0.0484248\ttotal: 3.07s\tremaining: 4.59s\n",
            "500:\tlearn: 0.0452392\ttotal: 3.83s\tremaining: 3.82s\n",
            "600:\tlearn: 0.0415754\ttotal: 4.62s\tremaining: 3.07s\n",
            "700:\tlearn: 0.0379640\ttotal: 5.43s\tremaining: 2.32s\n",
            "800:\tlearn: 0.0354953\ttotal: 6.46s\tremaining: 1.61s\n",
            "900:\tlearn: 0.0330860\ttotal: 9.77s\tremaining: 1.07s\n",
            "999:\tlearn: 0.0315822\ttotal: 11.4s\tremaining: 0us\n",
            "Accuracy of the binary classifier = 0.984\n",
            "---\n",
            " \n",
            "p == 100\n",
            "Learning rate set to 0.040284\n",
            "0:\tlearn: 0.5920304\ttotal: 7.37ms\tremaining: 7.36s\n",
            "100:\tlearn: 0.0340984\ttotal: 1.44s\tremaining: 12.8s\n",
            "200:\tlearn: 0.0286320\ttotal: 2.71s\tremaining: 10.8s\n",
            "300:\tlearn: 0.0252760\ttotal: 3.83s\tremaining: 8.89s\n",
            "400:\tlearn: 0.0227800\ttotal: 5.46s\tremaining: 8.15s\n",
            "500:\tlearn: 0.0205720\ttotal: 6.82s\tremaining: 6.79s\n",
            "600:\tlearn: 0.0188888\ttotal: 7.92s\tremaining: 5.26s\n",
            "700:\tlearn: 0.0176575\ttotal: 9.54s\tremaining: 4.07s\n",
            "800:\tlearn: 0.0163568\ttotal: 13.1s\tremaining: 3.24s\n",
            "900:\tlearn: 0.0152063\ttotal: 15.1s\tremaining: 1.66s\n",
            "999:\tlearn: 0.0138410\ttotal: 15.9s\tremaining: 0us\n",
            "Accuracy of the binary classifier = 0.991\n",
            "---\n",
            " \n",
            "p == 150\n",
            "Learning rate set to 0.040284\n",
            "0:\tlearn: 0.5869436\ttotal: 7.53ms\tremaining: 7.52s\n",
            "100:\tlearn: 0.0260533\ttotal: 741ms\tremaining: 6.6s\n",
            "200:\tlearn: 0.0209289\ttotal: 1.52s\tremaining: 6.05s\n",
            "300:\tlearn: 0.0181996\ttotal: 2.29s\tremaining: 5.32s\n",
            "400:\tlearn: 0.0163050\ttotal: 3.07s\tremaining: 4.58s\n",
            "500:\tlearn: 0.0148801\ttotal: 3.83s\tremaining: 3.81s\n",
            "600:\tlearn: 0.0138026\ttotal: 4.6s\tremaining: 3.05s\n",
            "700:\tlearn: 0.0128356\ttotal: 5.37s\tremaining: 2.29s\n",
            "800:\tlearn: 0.0120457\ttotal: 6.13s\tremaining: 1.52s\n",
            "900:\tlearn: 0.0111060\ttotal: 7.43s\tremaining: 816ms\n",
            "999:\tlearn: 0.0102093\ttotal: 9.13s\tremaining: 0us\n",
            "Accuracy of the binary classifier = 0.993\n",
            "---\n",
            " \n",
            "p == 200\n",
            "Learning rate set to 0.040284\n",
            "0:\tlearn: 0.5839755\ttotal: 18.9ms\tremaining: 18.9s\n",
            "100:\tlearn: 0.0219844\ttotal: 1.11s\tremaining: 9.85s\n",
            "200:\tlearn: 0.0176546\ttotal: 1.86s\tremaining: 7.39s\n",
            "300:\tlearn: 0.0151865\ttotal: 2.61s\tremaining: 6.07s\n",
            "400:\tlearn: 0.0129666\ttotal: 3.4s\tremaining: 5.08s\n",
            "500:\tlearn: 0.0119082\ttotal: 4.16s\tremaining: 4.15s\n",
            "600:\tlearn: 0.0109027\ttotal: 4.95s\tremaining: 3.28s\n",
            "700:\tlearn: 0.0099664\ttotal: 5.69s\tremaining: 2.43s\n",
            "800:\tlearn: 0.0089215\ttotal: 6.46s\tremaining: 1.6s\n",
            "900:\tlearn: 0.0079999\ttotal: 7.25s\tremaining: 796ms\n",
            "999:\tlearn: 0.0072085\ttotal: 8.02s\tremaining: 0us\n",
            "Accuracy of the binary classifier = 0.996\n",
            "---\n",
            " \n",
            "p == 300\n",
            "Learning rate set to 0.040284\n",
            "0:\tlearn: 0.5519542\ttotal: 7.43ms\tremaining: 7.42s\n",
            "100:\tlearn: 0.0059500\ttotal: 732ms\tremaining: 6.51s\n",
            "200:\tlearn: 0.0043756\ttotal: 1.47s\tremaining: 5.83s\n",
            "300:\tlearn: 0.0037320\ttotal: 2.2s\tremaining: 5.1s\n",
            "400:\tlearn: 0.0032284\ttotal: 3.6s\tremaining: 5.37s\n",
            "500:\tlearn: 0.0027882\ttotal: 5.39s\tremaining: 5.37s\n",
            "600:\tlearn: 0.0024610\ttotal: 6.34s\tremaining: 4.21s\n",
            "700:\tlearn: 0.0021952\ttotal: 7.09s\tremaining: 3.03s\n",
            "800:\tlearn: 0.0019993\ttotal: 7.83s\tremaining: 1.95s\n",
            "900:\tlearn: 0.0017549\ttotal: 8.6s\tremaining: 945ms\n",
            "999:\tlearn: 0.0015772\ttotal: 9.34s\tremaining: 0us\n",
            "Accuracy of the binary classifier = 0.998\n",
            "---\n",
            " \n",
            "p == 400\n",
            "Learning rate set to 0.040284\n",
            "0:\tlearn: 0.5431877\ttotal: 7.43ms\tremaining: 7.42s\n",
            "100:\tlearn: 0.0033344\ttotal: 750ms\tremaining: 6.67s\n",
            "200:\tlearn: 0.0021006\ttotal: 1.47s\tremaining: 5.84s\n",
            "300:\tlearn: 0.0015927\ttotal: 2.21s\tremaining: 5.14s\n",
            "400:\tlearn: 0.0012736\ttotal: 2.96s\tremaining: 4.42s\n",
            "500:\tlearn: 0.0010604\ttotal: 3.69s\tremaining: 3.68s\n",
            "600:\tlearn: 0.0009045\ttotal: 4.4s\tremaining: 2.92s\n",
            "700:\tlearn: 0.0008010\ttotal: 5.13s\tremaining: 2.19s\n",
            "800:\tlearn: 0.0007335\ttotal: 5.87s\tremaining: 1.46s\n",
            "900:\tlearn: 0.0006680\ttotal: 7.16s\tremaining: 787ms\n",
            "999:\tlearn: 0.0006217\ttotal: 8.81s\tremaining: 0us\n",
            "Accuracy of the binary classifier = 0.999\n",
            "---\n",
            " \n"
          ]
        }
      ]
    },
    {
      "cell_type": "code",
      "source": [
        "plt.plot(resIC50.keys(), resIC50.values())"
      ],
      "metadata": {
        "colab": {
          "base_uri": "https://localhost:8080/",
          "height": 447
        },
        "id": "Qo1y3smVuMV3",
        "outputId": "6ffd1bdc-3eb8-44ba-ccff-511016b6abb6"
      },
      "execution_count": 19,
      "outputs": [
        {
          "output_type": "execute_result",
          "data": {
            "text/plain": [
              "[<matplotlib.lines.Line2D at 0x7b51c1f2dd80>]"
            ]
          },
          "metadata": {},
          "execution_count": 19
        },
        {
          "output_type": "display_data",
          "data": {
            "text/plain": [
              "<Figure size 640x480 with 1 Axes>"
            ],
            "image/png": "[encoded data removed]"
          },
          "metadata": {}
        }
      ]
    },
    {
      "cell_type": "markdown",
      "source": [
        "# Выводы\n",
        "\n",
        "В данном случае всё зависит только и исключительно от того, какой порог будет установлен для разделения данных. Это можно и нужно было понять при анализе данных, на этапе их преобразования и обработки."
      ],
      "metadata": {
        "id": "EMMi6DC-eJxp"
      }
    }
  ]
}
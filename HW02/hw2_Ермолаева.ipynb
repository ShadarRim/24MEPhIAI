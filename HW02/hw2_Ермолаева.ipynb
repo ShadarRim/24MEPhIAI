{
  "nbformat": 4,
  "nbformat_minor": 0,
  "metadata": {
    "colab": {
      "provenance": []
    },
    "kernelspec": {
      "name": "python3",
      "display_name": "Python 3"
    },
    "language_info": {
      "name": "python"
    }
  },
  "cells": [
    {
      "cell_type": "markdown",
      "source": [
        "# Исходный код"
      ],
      "metadata": {
        "id": "s2okRSGkcjZ3"
      }
    },
    {
      "cell_type": "code",
      "source": [
        "import numpy as np\n",
        "import matplotlib.pyplot as plt\n",
        "import scipy.misc as sp\n",
        "import matplotlib.image as img\n",
        "\n",
        "def trainer(vector):\n",
        "    vector = vector.flatten()\n",
        "    coefMat = np.zeros([len(vector),len(vector)])\n",
        "\n",
        "    for i in range(len(vector)):\n",
        "        for j in range(len(vector)):\n",
        "            if (i!=(i-j)):\n",
        "                coefMat[i][i-j] = vector[i]*vector[i-j]\n",
        "\n",
        "    vector = np.reshape(vector, [int(np.sqrt(len(vector))),int(np.sqrt(len(vector)))])\n",
        "\n",
        "    return coefMat\n",
        "\n",
        "def prediction(curuptedVec,coefMat):\n",
        "    curuptedVec = curuptedVec.flatten()\n",
        "    predictVec = np.zeros(len(curuptedVec))\n",
        "    for i in range(len(curuptedVec)):\n",
        "        temp = 0\n",
        "        for j in range(len(curuptedVec)):\n",
        "             temp += coefMat[i][j] * curuptedVec[j]\n",
        "        if (temp>0):\n",
        "            predictVec[i] = 1\n",
        "        if (temp<0):\n",
        "            predictVec[i] = -1\n",
        "\n",
        "    predictVec = np.reshape(predictVec, [int(np.sqrt(len(predictVec))),int(np.sqrt(len(predictVec)))])\n",
        "    return predictVec\n",
        "\n",
        "def imageGenerator(imageVector, vmax = 1):\n",
        "    cleanImage = np.zeros([len(imageVector),len(imageVector)])\n",
        "    for i in range(len(imageVector)):\n",
        "        for j in range(len(imageVector)):\n",
        "            if (imageVector[i][j] == vmax):\n",
        "                cleanImage[i][j] = 1\n",
        "            else:\n",
        "                cleanImage[i][j] = -1\n",
        "    noisyImage = cleanImage + np.random.normal(0, 2, [len(image),len(image)])\n",
        "\n",
        "    for i in range(len(image)):\n",
        "        for j in range(len(image)):\n",
        "            if (noisyImage[i][j] >= 0):\n",
        "                noisyImage[i][j] = 1\n",
        "            else:\n",
        "                noisyImage[i][j] = -1\n",
        "\n",
        "\n",
        "    return cleanImage,noisyImage\n",
        "\n",
        "#Import the image\n",
        "image = img.imread('1.png','w').copy()\n",
        "vector,noisyVec = imageGenerator(image)\n",
        "coefMatrix = trainer(vector)\n",
        "predictedVec = prediction(noisyVec,coefMatrix)\n",
        "\n",
        "plt.figure(figsize=(15,10))\n",
        "plt.subplot(1,4,1)\n",
        "plt.imshow(image)\n",
        "plt.title('imported picture')\n",
        "plt.subplot(1,4,2)\n",
        "plt.imshow(vector);\n",
        "plt.title('cleaned and croped picture')\n",
        "plt.subplot(1,4,3)\n",
        "plt.imshow(noisyVec);\n",
        "plt.title('noisy picture')\n",
        "plt.subplot(1,4,4)\n",
        "plt.imshow(predictedVec);\n",
        "plt.title('recalled picture')\n",
        "plt.show()\n"
      ],
      "metadata": {
        "id": "mn9nkXtcciu3",
        "outputId": "14e5b7f6-d66d-4ca7-ea49-acc85f708473",
        "colab": {
          "base_uri": "https://localhost:8080/",
          "height": 335
        }
      },
      "execution_count": null,
      "outputs": [
        {
          "output_type": "display_data",
          "data": {
            "text/plain": [
              "<Figure size 1500x1000 with 4 Axes>"
            ],
            "image/png": "[encoded data removed]"
          },
          "metadata": {}
        }
      ]
    },
    {
      "cell_type": "code",
      "source": [
        "v1 = vector"
      ],
      "metadata": {
        "id": "444v2U_zt-G1"
      },
      "execution_count": null,
      "outputs": []
    },
    {
      "cell_type": "code",
      "source": [
        "c1 = coefMatrix"
      ],
      "metadata": {
        "id": "oK-PBvIHuGU7"
      },
      "execution_count": null,
      "outputs": []
    },
    {
      "cell_type": "code",
      "source": [
        "p1 = predictedVec"
      ],
      "metadata": {
        "id": "CUich_xAuKHB"
      },
      "execution_count": null,
      "outputs": []
    },
    {
      "cell_type": "markdown",
      "source": [
        "# Переписанный на векторные вычисления"
      ],
      "metadata": {
        "id": "e40hWz3hcqM6"
      }
    },
    {
      "cell_type": "code",
      "execution_count": null,
      "metadata": {
        "colab": {
          "base_uri": "https://localhost:8080/",
          "height": 333
        },
        "id": "AMu4qxQGbhfJ",
        "outputId": "d8e8bfae-8c5a-48fe-be47-c7c6a82bc558"
      },
      "outputs": [
        {
          "output_type": "execute_result",
          "data": {
            "text/plain": [
              "<matplotlib.image.AxesImage at 0x7b0131e358a0>"
            ]
          },
          "metadata": {},
          "execution_count": 11
        },
        {
          "output_type": "display_data",
          "data": {
            "text/plain": [
              "<Figure size 1500x1000 with 1 Axes>"
            ],
            "image/png": "[encoded data removed]"
          },
          "metadata": {}
        }
      ],
      "source": [
        "import numpy as np\n",
        "import matplotlib.pyplot as plt\n",
        "import scipy.misc as sp\n",
        "import matplotlib.image as img\n",
        "\n",
        "def trainer(vector):\n",
        "    vector_1 = vector.flatten()\n",
        "    coefMat = np.outer(vector_1, vector_1) # матрица ковариации\n",
        "    np.fill_diagonal(coefMat, 0)\n",
        "    return coefMat\n",
        "\n",
        "def prediction(curuptedVec,coefMat):\n",
        "    res = np.dot(coefMat, curuptedVec.flatten())\n",
        "    #np.where(res > 0, 1, -1)\n",
        "    res[res > 0] = 1\n",
        "    res[res < 0] = -1\n",
        "    res = np.reshape(res, [int(np.sqrt(len(res))),int(np.sqrt(len(res)))])\n",
        "    return res\n",
        "\n",
        "def imageGenerator(imageVector, vmax = 1): #здесь перезаписывается image и на выхоже выдается уже вектор\n",
        "    cleanImage = imageVector\n",
        "    cleanImage[cleanImage == vmax] = 1\n",
        "    cleanImage[cleanImage != vmax] = -1\n",
        "    noisyImage = cleanImage + np.random.normal(0, 2, [len(image),len(image)])\n",
        "    noisyImage[noisyImage >= 0] = 1\n",
        "    noisyImage[noisyImage < 0] = -1\n",
        "    return cleanImage,noisyImage\n",
        "\n",
        "#Import the image\n",
        "image = img.imread('1.png','w').copy()\n",
        "#print(image)\n",
        "vector,noisyVec = imageGenerator(image)\n",
        "coefMatrix = trainer(vector)\n",
        "predictedVec = prediction(noisyVec,coefMatrix)\n",
        "\n",
        "plt.figure(figsize=(15,10))\n",
        "plt.subplot(1,4,1)\n",
        "plt.imshow(image)\n",
        "# plt.title('imported picture')\n",
        "# plt.subplot(1,4,2)\n",
        "# plt.imshow(vector);\n",
        "# plt.title('cleaned and croped picture')\n",
        "# plt.subplot(1,4,3)\n",
        "# plt.imshow(noisyVec);\n",
        "# plt.title('noisy picture')\n",
        "# plt.subplot(1,4,4)\n",
        "# plt.imshow(predictedVec);\n",
        "# plt.title('recalled picture')\n",
        "# plt.show()"
      ]
    },
    {
      "cell_type": "code",
      "source": [
        "v2 = vector\n",
        "c2 = coefMatrix\n",
        "p2 = predictedVec"
      ],
      "metadata": {
        "id": "fNBW7_UAuRS9"
      },
      "execution_count": null,
      "outputs": []
    },
    {
      "cell_type": "code",
      "source": [
        "print(np.array_equal(v1,v2), np.array_equal(p1, p2), np.array_equal(c1, c2))"
      ],
      "metadata": {
        "id": "Zj0hSIb7q7GQ",
        "colab": {
          "base_uri": "https://localhost:8080/"
        },
        "outputId": "eb3e1a80-bf82-43d4-c0df-b21256fa8712"
      },
      "execution_count": null,
      "outputs": [
        {
          "output_type": "stream",
          "name": "stdout",
          "text": [
            "True True True\n"
          ]
        }
      ]
    },
    {
      "cell_type": "code",
      "source": [],
      "metadata": {
        "id": "cIhoCOZguhdT"
      },
      "execution_count": null,
      "outputs": []
    }
  ]
}